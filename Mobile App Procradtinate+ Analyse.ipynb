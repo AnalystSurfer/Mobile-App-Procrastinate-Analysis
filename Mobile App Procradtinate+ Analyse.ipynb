{
 "cells": [
  {
   "cell_type": "markdown",
   "metadata": {},
   "source": [
    "<div style=\"border:solid green 2px; padding: 20px\">\n",
    "    \n",
    "<b>Данила, привет!</b> Мы рады тебя видеть на территории код-ревьюеров. Ты проделал большую работу над проектом, но давай познакомимся и сделаем его еще лучше! У нас тут своя атмосфера и несколько правил:\n",
    "\n",
    "\n",
    "1. Меня зовут Александр Матвеевский. Я работаю код-ревьюером, моя основная цель — не указать на совершенные тобою ошибки, а поделиться своим опытом и помочь тебе стать аналитиком данных.\n",
    "2. Общаемся на ты.\n",
    "3. Если хочешь написать, спросить - не нужно стесняться. Только выбери свой цвет для комментария.  \n",
    "4. Это учебный проект, тут можно не бояться сделать ошибку.  \n",
    "5. У тебя неограниченное количество попыток для сдачи проекта.  \n",
    "6. Let's Go!\n",
    "\n",
    "---\n",
    "\n",
    "Я буду красить комментарии цветом, пожалуйста, не удаляй их:\n",
    "\n",
    "<div class=\"alert alert-block alert-danger\">✍\n",
    "    \n",
    "\n",
    "__Комментарий от ревьюера №1__\n",
    "\n",
    "Такой комментарий нужно исправить обязательно, он критически влияет на удачное выполнение проекта.\n",
    "</div>\n",
    "    \n",
    "---\n",
    "\n",
    "<div class=\"alert alert-block alert-warning\">📝\n",
    "    \n",
    "\n",
    "__Комментарий от ревьюера №1__\n",
    "\n",
    "\n",
    "Такой комментарий является рекомендацией или советом. Можешь использовать их на своё усмотрение.\n",
    "</div>\n",
    "\n",
    "---\n",
    "\n",
    "<div class=\"alert alert-block alert-success\">✔️\n",
    "    \n",
    "\n",
    "__Комментарий от ревьюера №1__\n",
    "\n",
    "Такой комментарий  говорит о том, что было сделано что-то качественное и правильное =)\n",
    "</div>\n",
    "    \n",
    "---\n",
    "    \n",
    "Предлагаю работать над проектом в диалоге: если ты что-то меняешь в проекте или отвечаешь на мои комментарии — пиши об этом. Мне будет легче отследить изменения, если ты выделишь свои комментарии:   \n",
    "    \n",
    "<div class=\"alert alert-info\"> <b>Комментарии студента:</b> Например, вот так.</div>\n",
    "    \n",
    "Всё это поможет выполнить повторную проверку твоего проекта оперативнее. Если будут какие-нибудь вопросы по моим комментариям, пиши, будем разбираться вместе :)    \n",
    "    \n",
    "---"
   ]
  },
  {
   "cell_type": "markdown",
   "metadata": {},
   "source": [
    "# Аналитический кейс развлекательного приложения Procrastinate Pro+ "
   ]
  },
  {
   "cell_type": "markdown",
   "metadata": {},
   "source": [
    "Передо мною - маркетинговым аналитиком развлекательного приложения \"Procrastinate Pro+\" стоят следующие задачи: анализ рекламы приложения, выявление основных причин убытков, предложение по улучшению работы. Конечная цель - вывод компании в плюс. \n",
    "\n",
    "Работа будет осуществляться следующими этапами:\n",
    "1. Извлечение и обработка данных.\n",
    "2. Построение функций для расчёта и анализа LTV, ROI, удержания и конверсии.\n",
    "3. Исследовательский анализ данных.\n",
    "4. Анализ маркетинга.\n",
    "5. Оценка окупаемости рекламы.\n",
    "6. Общий вывод"
   ]
  },
  {
   "cell_type": "markdown",
   "metadata": {},
   "source": [
    "<div class=\"alert alert-block alert-success\">✔️\n",
    "    \n",
    "\n",
    "__Комментарий от ревьюера №1__\n",
    "\n",
    "\n",
    "Отличная практика - расписывать цель и основные этапы своими словами (этот навык очень поможет на фильнальном проекте). \n",
    "</div>"
   ]
  },
  {
   "cell_type": "markdown",
   "metadata": {
    "id": "r-BO88CnWVwe"
   },
   "source": [
    "### Загрузите данные и подготовьте их к анализу"
   ]
  },
  {
   "cell_type": "markdown",
   "metadata": {
    "id": "LCZi0P80WVwj"
   },
   "source": [
    "Загрузите данные о визитах, заказах и рекламных расходах из CSV-файлов в переменные.\n",
    "\n",
    "**Пути к файлам**\n",
    "\n",
    "- визиты: `/datasets/visits_info_short.csv`. [Скачать датасет](https://code.s3.yandex.net/datasets/visits_info_short.csv);\n",
    "- заказы: `/datasets/orders_info_short.csv`. [Скачать датасет](https://code.s3.yandex.net/datasets/orders_info_short.csv);\n",
    "- расходы: `/datasets/costs_info_short.csv`. [Скачать датасет](https://code.s3.yandex.net/datasets/costs_info_short.csv).\n",
    "\n",
    "Изучите данные и выполните предобработку. Есть ли в данных пропуски и дубликаты? Убедитесь, что типы данных во всех колонках соответствуют сохранённым в них значениям. Обратите внимание на столбцы с датой и временем."
   ]
  },
  {
   "cell_type": "code",
   "execution_count": 1,
   "metadata": {
    "id": "_vsKinGUWVwk"
   },
   "outputs": [],
   "source": [
    "import pandas as pd\n",
    "from datetime import datetime, timedelta\n",
    "import seaborn as sns\n",
    "from matplotlib import pyplot as plt\n",
    "import numpy as np"
   ]
  },
  {
   "cell_type": "code",
   "execution_count": 2,
   "metadata": {},
   "outputs": [],
   "source": [
    "sessions=pd.read_csv('/datasets/visits_info_short.csv')\n",
    "orders=pd.read_csv('/datasets/orders_info_short.csv')\n",
    "ad_costs=pd.read_csv('/datasets/costs_info_short.csv')"
   ]
  },
  {
   "cell_type": "markdown",
   "metadata": {},
   "source": [
    "<div class=\"alert alert-block alert-success\">✔️\n",
    "    \n",
    "\n",
    "__Комментарий от ревьюера №1__\n",
    "        \n",
    "Для подгрузки данных можно использовать конструкцию `try-except`, она поможет избежать потенциальных ошибок при загрузке данных, связанных, например, с некорректным указанием путей.\n",
    "        \n",
    "Подробнее о конструкции по ссылке:\n",
    "        \n",
    "https://pythonworld.ru/tipy-dannyx-v-python/isklyucheniya-v-python-konstrukciya-try-except-dlya-obrabotki-isklyuchenij.html\n",
    "        \n",
    "Либо же можно использовать стандартную библиотеку os:\n",
    "        \n",
    "https://pythonworld.ru/moduli/modul-os.html\n",
    "\n",
    "    \n",
    "Несколько интересных статей кейсы использования конструкции:\n",
    "    \n",
    "https://www.programiz.com/python-programming/exception-handling\n",
    "    \n",
    "https://towardsdatascience.com/do-not-abuse-try-except-in-python-d9b8ee59e23b\n",
    "    \n",
    "https://www.techbeamers.com/use-try-except-python/\n",
    "        \n",
    "Как вариант в try можно указать корректные пути (в нашем случае глобальные) в except - некорректные (локальные). Можно также специфицровать тип ошибки, FileNotFoundError или задать кастомный тип ошибки (FilePathError, например)\n",
    "        \n",
    "Она полезна, если ты работаешь локально, а потом подгружаешь проект на платформу. Конструкция позволит не падать коду и локально, и на сервере ЯП, так как если не сработает один блок с путями, сработает другой.\n",
    "        \n",
    "Ну и вообще, в целом полезно про эту констуркцию знать, она универсальна и может быть использована в разных задачах."
   ]
  },
  {
   "cell_type": "markdown",
   "metadata": {},
   "source": [
    "#### Проверим таблицу visits "
   ]
  },
  {
   "cell_type": "code",
   "execution_count": 3,
   "metadata": {},
   "outputs": [
    {
     "name": "stdout",
     "output_type": "stream",
     "text": [
      "<class 'pandas.core.frame.DataFrame'>\n",
      "RangeIndex: 309901 entries, 0 to 309900\n",
      "Data columns (total 6 columns):\n",
      " #   Column         Non-Null Count   Dtype \n",
      "---  ------         --------------   ----- \n",
      " 0   User Id        309901 non-null  int64 \n",
      " 1   Region         309901 non-null  object\n",
      " 2   Device         309901 non-null  object\n",
      " 3   Channel        309901 non-null  object\n",
      " 4   Session Start  309901 non-null  object\n",
      " 5   Session End    309901 non-null  object\n",
      "dtypes: int64(1), object(5)\n",
      "memory usage: 14.2+ MB\n"
     ]
    }
   ],
   "source": [
    "sessions.info()"
   ]
  },
  {
   "cell_type": "code",
   "execution_count": 4,
   "metadata": {},
   "outputs": [
    {
     "data": {
      "text/plain": [
       "0"
      ]
     },
     "execution_count": 4,
     "metadata": {},
     "output_type": "execute_result"
    }
   ],
   "source": [
    "sessions.duplicated().sum()"
   ]
  },
  {
   "cell_type": "code",
   "execution_count": 5,
   "metadata": {},
   "outputs": [],
   "source": [
    "sessions.columns=sessions.columns.str.lower()"
   ]
  },
  {
   "cell_type": "code",
   "execution_count": 6,
   "metadata": {},
   "outputs": [],
   "source": [
    "sessions.rename(columns = {'user id':'user_id', 'session start':'session_start', 'session end':'session_end'}, inplace = True )"
   ]
  },
  {
   "cell_type": "code",
   "execution_count": 7,
   "metadata": {},
   "outputs": [
    {
     "data": {
      "text/html": [
       "<div>\n",
       "<style scoped>\n",
       "    .dataframe tbody tr th:only-of-type {\n",
       "        vertical-align: middle;\n",
       "    }\n",
       "\n",
       "    .dataframe tbody tr th {\n",
       "        vertical-align: top;\n",
       "    }\n",
       "\n",
       "    .dataframe thead th {\n",
       "        text-align: right;\n",
       "    }\n",
       "</style>\n",
       "<table border=\"1\" class=\"dataframe\">\n",
       "  <thead>\n",
       "    <tr style=\"text-align: right;\">\n",
       "      <th></th>\n",
       "      <th>user_id</th>\n",
       "      <th>region</th>\n",
       "      <th>device</th>\n",
       "      <th>channel</th>\n",
       "      <th>session_start</th>\n",
       "      <th>session_end</th>\n",
       "    </tr>\n",
       "  </thead>\n",
       "  <tbody>\n",
       "    <tr>\n",
       "      <th>0</th>\n",
       "      <td>981449118918</td>\n",
       "      <td>United States</td>\n",
       "      <td>iPhone</td>\n",
       "      <td>organic</td>\n",
       "      <td>2019-05-01 02:36:01</td>\n",
       "      <td>2019-05-01 02:45:01</td>\n",
       "    </tr>\n",
       "    <tr>\n",
       "      <th>1</th>\n",
       "      <td>278965908054</td>\n",
       "      <td>United States</td>\n",
       "      <td>iPhone</td>\n",
       "      <td>organic</td>\n",
       "      <td>2019-05-01 04:46:31</td>\n",
       "      <td>2019-05-01 04:47:35</td>\n",
       "    </tr>\n",
       "    <tr>\n",
       "      <th>2</th>\n",
       "      <td>590706206550</td>\n",
       "      <td>United States</td>\n",
       "      <td>Mac</td>\n",
       "      <td>organic</td>\n",
       "      <td>2019-05-01 14:09:25</td>\n",
       "      <td>2019-05-01 15:32:08</td>\n",
       "    </tr>\n",
       "    <tr>\n",
       "      <th>3</th>\n",
       "      <td>326433527971</td>\n",
       "      <td>United States</td>\n",
       "      <td>Android</td>\n",
       "      <td>TipTop</td>\n",
       "      <td>2019-05-01 00:29:59</td>\n",
       "      <td>2019-05-01 00:54:25</td>\n",
       "    </tr>\n",
       "    <tr>\n",
       "      <th>4</th>\n",
       "      <td>349773784594</td>\n",
       "      <td>United States</td>\n",
       "      <td>Mac</td>\n",
       "      <td>organic</td>\n",
       "      <td>2019-05-01 03:33:35</td>\n",
       "      <td>2019-05-01 03:57:40</td>\n",
       "    </tr>\n",
       "  </tbody>\n",
       "</table>\n",
       "</div>"
      ],
      "text/plain": [
       "        user_id         region   device  channel        session_start  \\\n",
       "0  981449118918  United States   iPhone  organic  2019-05-01 02:36:01   \n",
       "1  278965908054  United States   iPhone  organic  2019-05-01 04:46:31   \n",
       "2  590706206550  United States      Mac  organic  2019-05-01 14:09:25   \n",
       "3  326433527971  United States  Android   TipTop  2019-05-01 00:29:59   \n",
       "4  349773784594  United States      Mac  organic  2019-05-01 03:33:35   \n",
       "\n",
       "           session_end  \n",
       "0  2019-05-01 02:45:01  \n",
       "1  2019-05-01 04:47:35  \n",
       "2  2019-05-01 15:32:08  \n",
       "3  2019-05-01 00:54:25  \n",
       "4  2019-05-01 03:57:40  "
      ]
     },
     "execution_count": 7,
     "metadata": {},
     "output_type": "execute_result"
    }
   ],
   "source": [
    "sessions.head()"
   ]
  },
  {
   "cell_type": "code",
   "execution_count": 8,
   "metadata": {},
   "outputs": [],
   "source": [
    "sessions['session_start']=pd.to_datetime(sessions['session_start'])\n",
    "sessions['session_end']=pd.to_datetime(sessions['session_end'])"
   ]
  },
  {
   "cell_type": "code",
   "execution_count": 9,
   "metadata": {},
   "outputs": [
    {
     "name": "stdout",
     "output_type": "stream",
     "text": [
      "<class 'pandas.core.frame.DataFrame'>\n",
      "RangeIndex: 309901 entries, 0 to 309900\n",
      "Data columns (total 6 columns):\n",
      " #   Column         Non-Null Count   Dtype         \n",
      "---  ------         --------------   -----         \n",
      " 0   user_id        309901 non-null  int64         \n",
      " 1   region         309901 non-null  object        \n",
      " 2   device         309901 non-null  object        \n",
      " 3   channel        309901 non-null  object        \n",
      " 4   session_start  309901 non-null  datetime64[ns]\n",
      " 5   session_end    309901 non-null  datetime64[ns]\n",
      "dtypes: datetime64[ns](2), int64(1), object(3)\n",
      "memory usage: 14.2+ MB\n"
     ]
    }
   ],
   "source": [
    "sessions.info()"
   ]
  },
  {
   "cell_type": "code",
   "execution_count": 10,
   "metadata": {},
   "outputs": [
    {
     "data": {
      "text/plain": [
       "user_id          0\n",
       "region           0\n",
       "device           0\n",
       "channel          0\n",
       "session_start    0\n",
       "session_end      0\n",
       "dtype: int64"
      ]
     },
     "execution_count": 10,
     "metadata": {},
     "output_type": "execute_result"
    }
   ],
   "source": [
    "sessions.isna().sum()"
   ]
  },
  {
   "cell_type": "markdown",
   "metadata": {},
   "source": [
    "Пропусков и дубликатов нет. Типы колонок изменены"
   ]
  },
  {
   "cell_type": "markdown",
   "metadata": {},
   "source": [
    "#### Проверим таблицу orders "
   ]
  },
  {
   "cell_type": "code",
   "execution_count": 11,
   "metadata": {},
   "outputs": [
    {
     "name": "stdout",
     "output_type": "stream",
     "text": [
      "<class 'pandas.core.frame.DataFrame'>\n",
      "RangeIndex: 40212 entries, 0 to 40211\n",
      "Data columns (total 3 columns):\n",
      " #   Column    Non-Null Count  Dtype  \n",
      "---  ------    --------------  -----  \n",
      " 0   User Id   40212 non-null  int64  \n",
      " 1   Event Dt  40212 non-null  object \n",
      " 2   Revenue   40212 non-null  float64\n",
      "dtypes: float64(1), int64(1), object(1)\n",
      "memory usage: 942.6+ KB\n"
     ]
    }
   ],
   "source": [
    "orders.info()"
   ]
  },
  {
   "cell_type": "code",
   "execution_count": 12,
   "metadata": {},
   "outputs": [
    {
     "data": {
      "text/plain": [
       "0"
      ]
     },
     "execution_count": 12,
     "metadata": {},
     "output_type": "execute_result"
    }
   ],
   "source": [
    "orders.duplicated().sum()"
   ]
  },
  {
   "cell_type": "code",
   "execution_count": 13,
   "metadata": {},
   "outputs": [],
   "source": [
    "orders.columns=orders.columns.str.lower()"
   ]
  },
  {
   "cell_type": "code",
   "execution_count": 14,
   "metadata": {},
   "outputs": [],
   "source": [
    "orders.rename(columns = {'user id':'user_id', 'event dt':'event_dt'}, inplace = True )"
   ]
  },
  {
   "cell_type": "code",
   "execution_count": 15,
   "metadata": {},
   "outputs": [
    {
     "data": {
      "text/html": [
       "<div>\n",
       "<style scoped>\n",
       "    .dataframe tbody tr th:only-of-type {\n",
       "        vertical-align: middle;\n",
       "    }\n",
       "\n",
       "    .dataframe tbody tr th {\n",
       "        vertical-align: top;\n",
       "    }\n",
       "\n",
       "    .dataframe thead th {\n",
       "        text-align: right;\n",
       "    }\n",
       "</style>\n",
       "<table border=\"1\" class=\"dataframe\">\n",
       "  <thead>\n",
       "    <tr style=\"text-align: right;\">\n",
       "      <th></th>\n",
       "      <th>user_id</th>\n",
       "      <th>event_dt</th>\n",
       "      <th>revenue</th>\n",
       "    </tr>\n",
       "  </thead>\n",
       "  <tbody>\n",
       "    <tr>\n",
       "      <th>0</th>\n",
       "      <td>188246423999</td>\n",
       "      <td>2019-05-01 23:09:52</td>\n",
       "      <td>4.99</td>\n",
       "    </tr>\n",
       "    <tr>\n",
       "      <th>1</th>\n",
       "      <td>174361394180</td>\n",
       "      <td>2019-05-01 12:24:04</td>\n",
       "      <td>4.99</td>\n",
       "    </tr>\n",
       "    <tr>\n",
       "      <th>2</th>\n",
       "      <td>529610067795</td>\n",
       "      <td>2019-05-01 11:34:04</td>\n",
       "      <td>4.99</td>\n",
       "    </tr>\n",
       "    <tr>\n",
       "      <th>3</th>\n",
       "      <td>319939546352</td>\n",
       "      <td>2019-05-01 15:34:40</td>\n",
       "      <td>4.99</td>\n",
       "    </tr>\n",
       "    <tr>\n",
       "      <th>4</th>\n",
       "      <td>366000285810</td>\n",
       "      <td>2019-05-01 13:59:51</td>\n",
       "      <td>4.99</td>\n",
       "    </tr>\n",
       "  </tbody>\n",
       "</table>\n",
       "</div>"
      ],
      "text/plain": [
       "        user_id             event_dt  revenue\n",
       "0  188246423999  2019-05-01 23:09:52     4.99\n",
       "1  174361394180  2019-05-01 12:24:04     4.99\n",
       "2  529610067795  2019-05-01 11:34:04     4.99\n",
       "3  319939546352  2019-05-01 15:34:40     4.99\n",
       "4  366000285810  2019-05-01 13:59:51     4.99"
      ]
     },
     "execution_count": 15,
     "metadata": {},
     "output_type": "execute_result"
    }
   ],
   "source": [
    "orders.head()"
   ]
  },
  {
   "cell_type": "code",
   "execution_count": 16,
   "metadata": {},
   "outputs": [],
   "source": [
    "orders['event_dt']=pd.to_datetime(orders['event_dt'])"
   ]
  },
  {
   "cell_type": "code",
   "execution_count": 17,
   "metadata": {},
   "outputs": [
    {
     "data": {
      "text/plain": [
       "user_id     0\n",
       "event_dt    0\n",
       "revenue     0\n",
       "dtype: int64"
      ]
     },
     "execution_count": 17,
     "metadata": {},
     "output_type": "execute_result"
    }
   ],
   "source": [
    "orders.isna().sum()"
   ]
  },
  {
   "cell_type": "code",
   "execution_count": 18,
   "metadata": {},
   "outputs": [
    {
     "name": "stdout",
     "output_type": "stream",
     "text": [
      "<class 'pandas.core.frame.DataFrame'>\n",
      "RangeIndex: 40212 entries, 0 to 40211\n",
      "Data columns (total 3 columns):\n",
      " #   Column    Non-Null Count  Dtype         \n",
      "---  ------    --------------  -----         \n",
      " 0   user_id   40212 non-null  int64         \n",
      " 1   event_dt  40212 non-null  datetime64[ns]\n",
      " 2   revenue   40212 non-null  float64       \n",
      "dtypes: datetime64[ns](1), float64(1), int64(1)\n",
      "memory usage: 942.6 KB\n"
     ]
    }
   ],
   "source": [
    "orders.info()"
   ]
  },
  {
   "cell_type": "markdown",
   "metadata": {},
   "source": [
    "Пропусков и дубликатов нет. Типы колонок изменены"
   ]
  },
  {
   "cell_type": "markdown",
   "metadata": {},
   "source": [
    "#### Проверим таблицу costs "
   ]
  },
  {
   "cell_type": "code",
   "execution_count": 19,
   "metadata": {},
   "outputs": [
    {
     "name": "stdout",
     "output_type": "stream",
     "text": [
      "<class 'pandas.core.frame.DataFrame'>\n",
      "RangeIndex: 1800 entries, 0 to 1799\n",
      "Data columns (total 3 columns):\n",
      " #   Column   Non-Null Count  Dtype  \n",
      "---  ------   --------------  -----  \n",
      " 0   dt       1800 non-null   object \n",
      " 1   Channel  1800 non-null   object \n",
      " 2   costs    1800 non-null   float64\n",
      "dtypes: float64(1), object(2)\n",
      "memory usage: 42.3+ KB\n"
     ]
    }
   ],
   "source": [
    "ad_costs.info()"
   ]
  },
  {
   "cell_type": "code",
   "execution_count": 20,
   "metadata": {},
   "outputs": [
    {
     "data": {
      "text/plain": [
       "0"
      ]
     },
     "execution_count": 20,
     "metadata": {},
     "output_type": "execute_result"
    }
   ],
   "source": [
    "ad_costs.duplicated().sum()"
   ]
  },
  {
   "cell_type": "code",
   "execution_count": 21,
   "metadata": {},
   "outputs": [
    {
     "data": {
      "text/html": [
       "<div>\n",
       "<style scoped>\n",
       "    .dataframe tbody tr th:only-of-type {\n",
       "        vertical-align: middle;\n",
       "    }\n",
       "\n",
       "    .dataframe tbody tr th {\n",
       "        vertical-align: top;\n",
       "    }\n",
       "\n",
       "    .dataframe thead th {\n",
       "        text-align: right;\n",
       "    }\n",
       "</style>\n",
       "<table border=\"1\" class=\"dataframe\">\n",
       "  <thead>\n",
       "    <tr style=\"text-align: right;\">\n",
       "      <th></th>\n",
       "      <th>dt</th>\n",
       "      <th>Channel</th>\n",
       "      <th>costs</th>\n",
       "    </tr>\n",
       "  </thead>\n",
       "  <tbody>\n",
       "    <tr>\n",
       "      <th>0</th>\n",
       "      <td>2019-05-01</td>\n",
       "      <td>FaceBoom</td>\n",
       "      <td>113.3</td>\n",
       "    </tr>\n",
       "    <tr>\n",
       "      <th>1</th>\n",
       "      <td>2019-05-02</td>\n",
       "      <td>FaceBoom</td>\n",
       "      <td>78.1</td>\n",
       "    </tr>\n",
       "    <tr>\n",
       "      <th>2</th>\n",
       "      <td>2019-05-03</td>\n",
       "      <td>FaceBoom</td>\n",
       "      <td>85.8</td>\n",
       "    </tr>\n",
       "    <tr>\n",
       "      <th>3</th>\n",
       "      <td>2019-05-04</td>\n",
       "      <td>FaceBoom</td>\n",
       "      <td>136.4</td>\n",
       "    </tr>\n",
       "    <tr>\n",
       "      <th>4</th>\n",
       "      <td>2019-05-05</td>\n",
       "      <td>FaceBoom</td>\n",
       "      <td>122.1</td>\n",
       "    </tr>\n",
       "  </tbody>\n",
       "</table>\n",
       "</div>"
      ],
      "text/plain": [
       "           dt   Channel  costs\n",
       "0  2019-05-01  FaceBoom  113.3\n",
       "1  2019-05-02  FaceBoom   78.1\n",
       "2  2019-05-03  FaceBoom   85.8\n",
       "3  2019-05-04  FaceBoom  136.4\n",
       "4  2019-05-05  FaceBoom  122.1"
      ]
     },
     "execution_count": 21,
     "metadata": {},
     "output_type": "execute_result"
    }
   ],
   "source": [
    "ad_costs.head()"
   ]
  },
  {
   "cell_type": "code",
   "execution_count": 22,
   "metadata": {},
   "outputs": [],
   "source": [
    "ad_costs.columns=ad_costs.columns.str.lower()"
   ]
  },
  {
   "cell_type": "code",
   "execution_count": 23,
   "metadata": {},
   "outputs": [],
   "source": [
    "ad_costs['dt']=pd.to_datetime(ad_costs['dt']).dt.date"
   ]
  },
  {
   "cell_type": "code",
   "execution_count": 24,
   "metadata": {},
   "outputs": [
    {
     "data": {
      "text/plain": [
       "dt         0\n",
       "channel    0\n",
       "costs      0\n",
       "dtype: int64"
      ]
     },
     "execution_count": 24,
     "metadata": {},
     "output_type": "execute_result"
    }
   ],
   "source": [
    "ad_costs.isna().sum()"
   ]
  },
  {
   "cell_type": "code",
   "execution_count": 25,
   "metadata": {},
   "outputs": [
    {
     "name": "stdout",
     "output_type": "stream",
     "text": [
      "<class 'pandas.core.frame.DataFrame'>\n",
      "RangeIndex: 1800 entries, 0 to 1799\n",
      "Data columns (total 3 columns):\n",
      " #   Column   Non-Null Count  Dtype  \n",
      "---  ------   --------------  -----  \n",
      " 0   dt       1800 non-null   object \n",
      " 1   channel  1800 non-null   object \n",
      " 2   costs    1800 non-null   float64\n",
      "dtypes: float64(1), object(2)\n",
      "memory usage: 42.3+ KB\n"
     ]
    }
   ],
   "source": [
    "ad_costs.info()"
   ]
  },
  {
   "cell_type": "markdown",
   "metadata": {},
   "source": [
    "Пропусков и дубликатов нет. Типы колонок изменены"
   ]
  },
  {
   "cell_type": "markdown",
   "metadata": {},
   "source": [
    "<div class=\"alert alert-block alert-success\">✔️\n",
    "    \n",
    "\n",
    "__Комментарий от ревьюера №1__\n",
    "\n",
    "    \n",
    "Хорошо, основные действия по предобработке сделаны, здорово, что ты не забыл проверить данные на наличие дубликатов.\n",
    "</div>"
   ]
  },
  {
   "cell_type": "markdown",
   "metadata": {},
   "source": [
    "<div class=\"alert alert-block alert-warning\">📝\n",
    "    \n",
    "\n",
    "__Комментарий от ревьюера №1__\n",
    "\n",
    "\n",
    "* если мы только привели преобразование в строчные символы и заменили пробел на знак `_`, то мы можем использовать такой подход:\n",
    "    \n",
    "`visits.columns = visits.columns.str.lower().str.replace(' ', '_')`\n",
    "\n",
    "также интересным является подход с использованием list comprehensions:\n",
    "        \n",
    "`visits.columns = [x.lower().replace(' ', '_') for x in visits.columns.values]`\n",
    "    \n",
    "* на стадии загрузки и подготовки данных к исследовательскому анализу, советую посмотреть на данные более детально, чтобы избежать невынужденных ошибок в дальнейшем. Чем большем мы знаем о данных - тем более корректны и обоснованы выглядят наши выводы. Такие проверки много времени не занимают, но зато мы можем лучше контролировать данные и их анализ. Например, мы можем:\n",
    "    - проверить временной интервал на соответствие условию проекта, а также на возможные ошибки (например, проверить случаи, когда окончание сессии было раньше, и так далее);\n",
    "    - для численных данных посмотреть на их статистические показатели и проверить их на наличие каких-то ошибок или аномалий (например, нули или отрицательные значения там, где они не должны быть)."
   ]
  },
  {
   "cell_type": "markdown",
   "metadata": {
    "id": "AS1eCqCpWVwk"
   },
   "source": [
    "### Задайте функции для расчёта и анализа LTV, ROI, удержания и конверсии.\n",
    "\n",
    "Разрешается использовать функции, с которыми вы познакомились в теоретических уроках.\n",
    "\n",
    "Это функции для вычисления значений метрик:\n",
    "\n",
    "- `get_profiles()` — для создания профилей пользователей,\n",
    "- `get_retention()` — для подсчёта Retention Rate,\n",
    "- `get_conversion()` — для подсчёта конверсии,\n",
    "- `get_ltv()` — для подсчёта LTV.\n",
    "\n",
    "А также функции для построения графиков:\n",
    "\n",
    "- `filter_data()` — для сглаживания данных,\n",
    "- `plot_retention()` — для построения графика Retention Rate,\n",
    "- `plot_conversion()` — для построения графика конверсии,\n",
    "- `plot_ltv_roi` — для визуализации LTV и ROI."
   ]
  },
  {
   "cell_type": "markdown",
   "metadata": {},
   "source": [
    "#### Функции для метрик"
   ]
  },
  {
   "cell_type": "code",
   "execution_count": 26,
   "metadata": {
    "id": "igOfMgBpWVwl"
   },
   "outputs": [],
   "source": [
    "def get_profiles(sessions, orders, ad_costs, events=None, event_names=[]):\n",
    "\n",
    "    # находим параметры первых посещений\n",
    "    profiles = (\n",
    "        sessions.sort_values(by=['user_id', 'session_start'])\n",
    "        .groupby('user_id')\n",
    "        .agg(\n",
    "            {\n",
    "                'session_start': 'first',\n",
    "                'channel': 'first',\n",
    "                'device': 'first',\n",
    "                'region': 'first',\n",
    "            }\n",
    "        )\n",
    "        .rename(columns={'session_start': 'first_ts'})\n",
    "        .reset_index()\n",
    "    )\n",
    "\n",
    "    # для когортного анализа определяем дату первого посещения\n",
    "    # и первый день месяца, в который это посещение произошло\n",
    "    profiles['dt'] = profiles['first_ts'].dt.date\n",
    "    profiles['month'] = profiles['first_ts'].astype('datetime64[M]')\n",
    "\n",
    "    # добавляем признак платящих пользователей\n",
    "    profiles['payer'] = profiles['user_id'].isin(orders['user_id'].unique())\n",
    "\n",
    "    # считаем количество уникальных пользователей\n",
    "    # с одинаковыми источником и датой привлечения\n",
    "    new_users = (\n",
    "        profiles.groupby(['dt', 'channel'])\n",
    "        .agg({'user_id': 'nunique'})\n",
    "        .rename(columns={'user_id': 'unique_users'})\n",
    "        .reset_index()\n",
    "    )\n",
    "\n",
    "    # объединяем траты на рекламу и число привлечённых пользователей\n",
    "    ad_costs = ad_costs.merge(new_users, on=['dt', 'channel'], how='left')\n",
    "\n",
    "    # делим рекламные расходы на число привлечённых пользователей\n",
    "    ad_costs['acquisition_cost'] = ad_costs['costs'] / ad_costs['unique_users']\n",
    "\n",
    "    # добавляем стоимость привлечения в профили\n",
    "    profiles = profiles.merge(\n",
    "        ad_costs[['dt', 'channel', 'acquisition_cost']],\n",
    "        on=['dt', 'channel'],\n",
    "        how='left',\n",
    "    )\n",
    "\n",
    "    # стоимость привлечения органических пользователей равна нулю\n",
    "    profiles['acquisition_cost'] = profiles['acquisition_cost'].fillna(0)\n",
    "\n",
    "    return profiles"
   ]
  },
  {
   "cell_type": "code",
   "execution_count": 27,
   "metadata": {},
   "outputs": [],
   "source": [
    "def get_retention(\n",
    "    profiles,\n",
    "    sessions,\n",
    "    observation_date,\n",
    "    horizon_days,\n",
    "    dimensions=[],\n",
    "    ignore_horizon=False,\n",
    "):\n",
    "\n",
    "    # добавляем столбец payer в передаваемый dimensions список\n",
    "    dimensions = ['payer'] + dimensions\n",
    "\n",
    "    # исключаем пользователей, не «доживших» до горизонта анализа\n",
    "    last_suitable_acquisition_date = observation_date\n",
    "    if not ignore_horizon:\n",
    "        last_suitable_acquisition_date = observation_date - timedelta(\n",
    "            days=horizon_days - 1\n",
    "        )\n",
    "    result_raw = profiles.query('dt <= @last_suitable_acquisition_date')\n",
    "\n",
    "    # собираем «сырые» данные для расчёта удержания\n",
    "    result_raw = result_raw.merge(\n",
    "        sessions[['user_id', 'session_start']], on='user_id', how='left'\n",
    "    )\n",
    "    result_raw['lifetime'] = (\n",
    "        result_raw['session_start'] - result_raw['first_ts']\n",
    "    ).dt.days\n",
    "\n",
    "    # функция для группировки таблицы по желаемым признакам\n",
    "    def group_by_dimensions(df, dims, horizon_days):\n",
    "        result = df.pivot_table(\n",
    "            index=dims, columns='lifetime', values='user_id', aggfunc='nunique'\n",
    "        )\n",
    "        cohort_sizes = (\n",
    "            df.groupby(dims)\n",
    "            .agg({'user_id': 'nunique'})\n",
    "            .rename(columns={'user_id': 'cohort_size'})\n",
    "        )\n",
    "        result = cohort_sizes.merge(result, on=dims, how='left').fillna(0)\n",
    "        result = result.div(result['cohort_size'], axis=0)\n",
    "        result = result[['cohort_size'] + list(range(horizon_days))]\n",
    "        result['cohort_size'] = cohort_sizes\n",
    "        return result\n",
    "\n",
    "    # получаем таблицу удержания\n",
    "    result_grouped = group_by_dimensions(result_raw, dimensions, horizon_days)\n",
    "\n",
    "    # получаем таблицу динамики удержания\n",
    "    result_in_time = group_by_dimensions(\n",
    "        result_raw, dimensions + ['dt'], horizon_days\n",
    "    )\n",
    "\n",
    "    # возвращаем обе таблицы и сырые данные\n",
    "    return result_raw, result_grouped, result_in_time "
   ]
  },
  {
   "cell_type": "code",
   "execution_count": 28,
   "metadata": {},
   "outputs": [],
   "source": [
    "# функция для расчёта конверсии\n",
    "\n",
    "def get_conversion(\n",
    "    profiles,\n",
    "    purchases,\n",
    "    observation_date,\n",
    "    horizon_days,\n",
    "    dimensions=[],\n",
    "    ignore_horizon=False,\n",
    "):\n",
    "\n",
    "    # исключаем пользователей, не «доживших» до горизонта анализа\n",
    "    last_suitable_acquisition_date = observation_date\n",
    "    if not ignore_horizon:\n",
    "        last_suitable_acquisition_date = observation_date - timedelta(\n",
    "            days=horizon_days - 1\n",
    "        )\n",
    "    result_raw = profiles.query('dt <= @last_suitable_acquisition_date')\n",
    "\n",
    "    # определяем дату и время первой покупки для каждого пользователя\n",
    "    first_purchases = (\n",
    "        purchases.sort_values(by=['user_id', 'event_dt'])\n",
    "        .groupby('user_id')\n",
    "        .agg({'event_dt': 'first'})\n",
    "        .reset_index()\n",
    "    )\n",
    "\n",
    "    # добавляем данные о покупках в профили\n",
    "    result_raw = result_raw.merge(\n",
    "        first_purchases[['user_id', 'event_dt']], on='user_id', how='left'\n",
    "    )\n",
    "\n",
    "    # рассчитываем лайфтайм для каждой покупки\n",
    "    result_raw['lifetime'] = (\n",
    "        result_raw['event_dt'] - result_raw['first_ts']\n",
    "    ).dt.days\n",
    "\n",
    "    # группируем по cohort, если в dimensions ничего нет\n",
    "    if len(dimensions) == 0:\n",
    "        result_raw['cohort'] = 'All users' \n",
    "        dimensions = dimensions + ['cohort']\n",
    "\n",
    "    # функция для группировки таблицы по желаемым признакам\n",
    "    def group_by_dimensions(df, dims, horizon_days):\n",
    "        result = df.pivot_table(\n",
    "            index=dims, columns='lifetime', values='user_id', aggfunc='nunique'\n",
    "        )\n",
    "        result = result.fillna(0).cumsum(axis = 1)\n",
    "        cohort_sizes = (\n",
    "            df.groupby(dims)\n",
    "            .agg({'user_id': 'nunique'})\n",
    "            .rename(columns={'user_id': 'cohort_size'})\n",
    "        )\n",
    "        result = cohort_sizes.merge(result, on=dims, how='left').fillna(0)\n",
    "        # делим каждую «ячейку» в строке на размер когорты\n",
    "        # и получаем conversion rate\n",
    "        result = result.div(result['cohort_size'], axis=0)\n",
    "        result = result[['cohort_size'] + list(range(horizon_days))]\n",
    "        result['cohort_size'] = cohort_sizes\n",
    "        return result\n",
    "\n",
    "    # получаем таблицу конверсии\n",
    "    result_grouped = group_by_dimensions(result_raw, dimensions, horizon_days)\n",
    "\n",
    "    # для таблицы динамики конверсии убираем 'cohort' из dimensions\n",
    "    if 'cohort' in dimensions: \n",
    "        dimensions = []\n",
    "\n",
    "    # получаем таблицу динамики конверсии\n",
    "    result_in_time = group_by_dimensions(\n",
    "        result_raw, dimensions + ['dt'], horizon_days\n",
    "    )\n",
    "\n",
    "    # возвращаем обе таблицы и сырые данные\n",
    "    return result_raw, result_grouped, result_in_time"
   ]
  },
  {
   "cell_type": "code",
   "execution_count": 29,
   "metadata": {},
   "outputs": [],
   "source": [
    "# функция для расчёта LTV и ROI\n",
    "\n",
    "def get_ltv(\n",
    "    profiles,\n",
    "    purchases,\n",
    "    observation_date,\n",
    "    horizon_days,\n",
    "    dimensions=[],\n",
    "    ignore_horizon=False,\n",
    "):\n",
    "\n",
    "    # исключаем пользователей, не «доживших» до горизонта анализа\n",
    "    last_suitable_acquisition_date = observation_date\n",
    "    if not ignore_horizon:\n",
    "        last_suitable_acquisition_date = observation_date - timedelta(\n",
    "            days=horizon_days - 1\n",
    "        )\n",
    "    result_raw = profiles.query('dt <= @last_suitable_acquisition_date')\n",
    "    # добавляем данные о покупках в профили\n",
    "    result_raw = result_raw.merge(\n",
    "        purchases[['user_id', 'event_dt', 'revenue']], on='user_id', how='left'\n",
    "    )\n",
    "    # рассчитываем лайфтайм пользователя для каждой покупки\n",
    "    result_raw['lifetime'] = (\n",
    "        result_raw['event_dt'] - result_raw['first_ts']\n",
    "    ).dt.days\n",
    "    # группируем по cohort, если в dimensions ничего нет\n",
    "    if len(dimensions) == 0:\n",
    "        result_raw['cohort'] = 'All users'\n",
    "        dimensions = dimensions + ['cohort']\n",
    "\n",
    "    # функция группировки по желаемым признакам\n",
    "    def group_by_dimensions(df, dims, horizon_days):\n",
    "        # строим «треугольную» таблицу выручки\n",
    "        result = df.pivot_table(\n",
    "            index=dims, columns='lifetime', values='revenue', aggfunc='sum'\n",
    "        )\n",
    "        # находим сумму выручки с накоплением\n",
    "        result = result.fillna(0).cumsum(axis=1)\n",
    "        # вычисляем размеры когорт\n",
    "        cohort_sizes = (\n",
    "            df.groupby(dims)\n",
    "            .agg({'user_id': 'nunique'})\n",
    "            .rename(columns={'user_id': 'cohort_size'})\n",
    "        )\n",
    "        # объединяем размеры когорт и таблицу выручки\n",
    "        result = cohort_sizes.merge(result, on=dims, how='left').fillna(0)\n",
    "        # считаем LTV: делим каждую «ячейку» в строке на размер когорты\n",
    "        result = result.div(result['cohort_size'], axis=0)\n",
    "        # исключаем все лайфтаймы, превышающие горизонт анализа\n",
    "        result = result[['cohort_size'] + list(range(horizon_days))]\n",
    "        # восстанавливаем размеры когорт\n",
    "        result['cohort_size'] = cohort_sizes\n",
    "\n",
    "        # собираем датафрейм с данными пользователей и значениями CAC, \n",
    "        # добавляя параметры из dimensions\n",
    "        cac = df[['user_id', 'acquisition_cost'] + dims].drop_duplicates()\n",
    "\n",
    "        # считаем средний CAC по параметрам из dimensions\n",
    "        cac = (\n",
    "            cac.groupby(dims)\n",
    "            .agg({'acquisition_cost': 'mean'})\n",
    "            .rename(columns={'acquisition_cost': 'cac'})\n",
    "        )\n",
    "\n",
    "        # считаем ROI: делим LTV на CAC\n",
    "        roi = result.div(cac['cac'], axis=0)\n",
    "\n",
    "        # удаляем строки с бесконечным ROI\n",
    "        roi = roi[~roi['cohort_size'].isin([np.inf])]\n",
    "\n",
    "        # восстанавливаем размеры когорт в таблице ROI\n",
    "        roi['cohort_size'] = cohort_sizes\n",
    "\n",
    "        # добавляем CAC в таблицу ROI\n",
    "        roi['cac'] = cac['cac']\n",
    "\n",
    "        # в финальной таблице оставляем размеры когорт, CAC\n",
    "        # и ROI в лайфтаймы, не превышающие горизонт анализа\n",
    "        roi = roi[['cohort_size', 'cac'] + list(range(horizon_days))]\n",
    "\n",
    "        # возвращаем таблицы LTV и ROI\n",
    "        return result, roi\n",
    "\n",
    "    # получаем таблицы LTV и ROI\n",
    "    result_grouped, roi_grouped = group_by_dimensions(\n",
    "        result_raw, dimensions, horizon_days\n",
    "    )\n",
    "\n",
    "    # для таблиц динамики убираем 'cohort' из dimensions\n",
    "    if 'cohort' in dimensions:\n",
    "        dimensions = []\n",
    "\n",
    "    # получаем таблицы динамики LTV и ROI\n",
    "    result_in_time, roi_in_time = group_by_dimensions(\n",
    "        result_raw, dimensions + ['dt'], horizon_days\n",
    "    )\n",
    "\n",
    "    return (\n",
    "        result_raw,  # сырые данные\n",
    "        result_grouped,  # таблица LTV\n",
    "        result_in_time,  # таблица динамики LTV\n",
    "        roi_grouped,  # таблица ROI\n",
    "        roi_in_time,  # таблица динамики ROI\n",
    "    ) "
   ]
  },
  {
   "cell_type": "markdown",
   "metadata": {},
   "source": [
    "#### Функции для графиков"
   ]
  },
  {
   "cell_type": "code",
   "execution_count": 30,
   "metadata": {},
   "outputs": [],
   "source": [
    "# функция для сглаживания фрейма\n",
    "\n",
    "def filter_data(df, window):\n",
    "    # для каждого столбца применяем скользящее среднее\n",
    "    for column in df.columns.values:\n",
    "        df[column] = df[column].rolling(window).mean() \n",
    "    return df "
   ]
  },
  {
   "cell_type": "code",
   "execution_count": 31,
   "metadata": {},
   "outputs": [],
   "source": [
    "# функция для визуализации удержания\n",
    "\n",
    "def plot_retention(retention, retention_history, horizon, window=7):\n",
    "\n",
    "    # задаём размер сетки для графиков\n",
    "    plt.figure(figsize=(15, 10))\n",
    "\n",
    "    # исключаем размеры когорт и удержание первого дня\n",
    "    retention = retention.drop(columns=['cohort_size', 0])\n",
    "    # в таблице динамики оставляем только нужный лайфтайм\n",
    "    retention_history = retention_history.drop(columns=['cohort_size'])[\n",
    "        [horizon - 1]\n",
    "    ]\n",
    "\n",
    "    # если в индексах таблицы удержания только payer,\n",
    "    # добавляем второй признак — cohort\n",
    "    if retention.index.nlevels == 1:\n",
    "        retention['cohort'] = 'All users'\n",
    "        retention = retention.reset_index().set_index(['cohort', 'payer'])\n",
    "\n",
    "    # в таблице графиков — два столбца и две строки, четыре ячейки\n",
    "    # в первой строим кривые удержания платящих пользователей\n",
    "    ax1 = plt.subplot(2, 2, 1)\n",
    "    retention.query('payer == True').droplevel('payer').T.plot(\n",
    "        grid=True, ax=ax1\n",
    "    )\n",
    "    plt.legend()\n",
    "    plt.xlabel('Лайфтайм')\n",
    "    plt.title('Удержание платящих пользователей')\n",
    "\n",
    "    # во второй ячейке строим кривые удержания неплатящих\n",
    "    # вертикальная ось — от графика из первой ячейки\n",
    "    ax2 = plt.subplot(2, 2, 2, sharey=ax1)\n",
    "    retention.query('payer == False').droplevel('payer').T.plot(\n",
    "        grid=True, ax=ax2\n",
    "    )\n",
    "    plt.legend()\n",
    "    plt.xlabel('Лайфтайм')\n",
    "    plt.title('Удержание неплатящих пользователей')\n",
    "\n",
    "    # в третьей ячейке — динамика удержания платящих\n",
    "    ax3 = plt.subplot(2, 2, 3)\n",
    "    # получаем названия столбцов для сводной таблицы\n",
    "    columns = [\n",
    "        name\n",
    "        for name in retention_history.index.names\n",
    "        if name not in ['dt', 'payer']\n",
    "    ]\n",
    "    # фильтруем данные и строим график\n",
    "    filtered_data = retention_history.query('payer == True').pivot_table(\n",
    "        index='dt', columns=columns, values=horizon - 1, aggfunc='mean'\n",
    "    )\n",
    "    filter_data(filtered_data, window).plot(grid=True, ax=ax3)\n",
    "    plt.xlabel('Дата привлечения')\n",
    "    plt.title(\n",
    "        'Динамика удержания платящих пользователей на {}-й день'.format(\n",
    "            horizon\n",
    "        )\n",
    "    )\n",
    "\n",
    "    # в чётвертой ячейке — динамика удержания неплатящих\n",
    "    ax4 = plt.subplot(2, 2, 4, sharey=ax3)\n",
    "    # фильтруем данные и строим график\n",
    "    filtered_data = retention_history.query('payer == False').pivot_table(\n",
    "        index='dt', columns=columns, values=horizon - 1, aggfunc='mean'\n",
    "    )\n",
    "    filter_data(filtered_data, window).plot(grid=True, ax=ax4)\n",
    "    plt.xlabel('Дата привлечения')\n",
    "    plt.title(\n",
    "        'Динамика удержания неплатящих пользователей на {}-й день'.format(\n",
    "            horizon\n",
    "        )\n",
    "    )\n",
    "    \n",
    "    plt.tight_layout()\n",
    "    plt.show() "
   ]
  },
  {
   "cell_type": "code",
   "execution_count": 32,
   "metadata": {},
   "outputs": [],
   "source": [
    "# функция для визуализации конверсии\n",
    "\n",
    "def plot_conversion(conversion, conversion_history, horizon, window=7):\n",
    "\n",
    "    # задаём размер сетки для графиков\n",
    "    plt.figure(figsize=(15, 5))\n",
    "\n",
    "    # исключаем размеры когорт\n",
    "    conversion = conversion.drop(columns=['cohort_size'])\n",
    "    # в таблице динамики оставляем только нужный лайфтайм\n",
    "    conversion_history = conversion_history.drop(columns=['cohort_size'])[\n",
    "        [horizon - 1]\n",
    "    ]\n",
    "\n",
    "    # первый график — кривые конверсии\n",
    "    ax1 = plt.subplot(1, 2, 1)\n",
    "    conversion.T.plot(grid=True, ax=ax1)\n",
    "    plt.legend()\n",
    "    plt.xlabel('Лайфтайм')\n",
    "    plt.title('Конверсия пользователей')\n",
    "\n",
    "    # второй график — динамика конверсии\n",
    "    ax2 = plt.subplot(1, 2, 2, sharey=ax1)\n",
    "    columns = [\n",
    "        # столбцами сводной таблицы станут все столбцы индекса, кроме даты\n",
    "        name for name in conversion_history.index.names if name not in ['dt']\n",
    "    ]\n",
    "    filtered_data = conversion_history.pivot_table(\n",
    "        index='dt', columns=columns, values=horizon - 1, aggfunc='mean'\n",
    "    )\n",
    "    filter_data(filtered_data, window).plot(grid=True, ax=ax2)\n",
    "    plt.xlabel('Дата привлечения')\n",
    "    plt.title('Динамика конверсии пользователей на {}-й день'.format(horizon))\n",
    "\n",
    "    plt.tight_layout()\n",
    "    plt.show() "
   ]
  },
  {
   "cell_type": "code",
   "execution_count": 33,
   "metadata": {},
   "outputs": [],
   "source": [
    "# функция для визуализации LTV и ROI\n",
    "\n",
    "def plot_ltv_roi(ltv, ltv_history, roi, roi_history, horizon, window=7):\n",
    "\n",
    "    # задаём сетку отрисовки графиков\n",
    "    plt.figure(figsize=(20, 10))\n",
    "\n",
    "    # из таблицы ltv исключаем размеры когорт\n",
    "    ltv = ltv.drop(columns=['cohort_size'])\n",
    "    # в таблице динамики ltv оставляем только нужный лайфтайм\n",
    "    ltv_history = ltv_history.drop(columns=['cohort_size'])[[horizon - 1]]\n",
    "\n",
    "    # стоимость привлечения запишем в отдельный фрейм\n",
    "    cac_history = roi_history[['cac']]\n",
    "\n",
    "    # из таблицы roi исключаем размеры когорт и cac\n",
    "    roi = roi.drop(columns=['cohort_size', 'cac'])\n",
    "    # в таблице динамики roi оставляем только нужный лайфтайм\n",
    "    roi_history = roi_history.drop(columns=['cohort_size', 'cac'])[\n",
    "        [horizon - 1]\n",
    "    ]\n",
    "\n",
    "    # первый график — кривые ltv\n",
    "    ax1 = plt.subplot(2, 3, 1)\n",
    "    ltv.T.plot(grid=True, ax=ax1)\n",
    "    plt.legend()\n",
    "    plt.xlabel('Лайфтайм')\n",
    "    plt.title('LTV')\n",
    "\n",
    "    # второй график — динамика ltv\n",
    "    ax2 = plt.subplot(2, 3, 2, sharey=ax1)\n",
    "    # столбцами сводной таблицы станут все столбцы индекса, кроме даты\n",
    "    columns = [name for name in ltv_history.index.names if name not in ['dt']]\n",
    "    filtered_data = ltv_history.pivot_table(\n",
    "        index='dt', columns=columns, values=horizon - 1, aggfunc='mean'\n",
    "    )\n",
    "    filter_data(filtered_data, window).plot(grid=True, ax=ax2)\n",
    "    plt.xlabel('Дата привлечения')\n",
    "    plt.title('Динамика LTV пользователей на {}-й день'.format(horizon))\n",
    "\n",
    "    # третий график — динамика cac\n",
    "    ax3 = plt.subplot(2, 3, 3, sharey=ax1)\n",
    "    # столбцами сводной таблицы станут все столбцы индекса, кроме даты\n",
    "    columns = [name for name in cac_history.index.names if name not in ['dt']]\n",
    "    filtered_data = cac_history.pivot_table(\n",
    "        index='dt', columns=columns, values='cac', aggfunc='mean'\n",
    "    )\n",
    "    filter_data(filtered_data, window).plot(grid=True, ax=ax3)\n",
    "    plt.xlabel('Дата привлечения')\n",
    "    plt.title('Динамика стоимости привлечения пользователей')\n",
    "\n",
    "    # четвёртый график — кривые roi\n",
    "    ax4 = plt.subplot(2, 3, 4)\n",
    "    roi.T.plot(grid=True, ax=ax4)\n",
    "    plt.axhline(y=1, color='red', linestyle='--', label='Уровень окупаемости')\n",
    "    plt.legend()\n",
    "    plt.xlabel('Лайфтайм')\n",
    "    plt.title('ROI')\n",
    "\n",
    "    # пятый график — динамика roi\n",
    "    ax5 = plt.subplot(2, 3, 5, sharey=ax4)\n",
    "    # столбцами сводной таблицы станут все столбцы индекса, кроме даты\n",
    "    columns = [name for name in roi_history.index.names if name not in ['dt']]\n",
    "    filtered_data = roi_history.pivot_table(\n",
    "        index='dt', columns=columns, values=horizon - 1, aggfunc='mean'\n",
    "    )\n",
    "    filter_data(filtered_data, window).plot(grid=True, ax=ax5)\n",
    "    plt.axhline(y=1, color='red', linestyle='--', label='Уровень окупаемости')\n",
    "    plt.xlabel('Дата привлечения')\n",
    "    plt.title('Динамика ROI пользователей на {}-й день'.format(horizon))\n",
    "\n",
    "    plt.tight_layout()\n",
    "    plt.show() "
   ]
  },
  {
   "cell_type": "markdown",
   "metadata": {},
   "source": [
    "Функции заданы."
   ]
  },
  {
   "cell_type": "markdown",
   "metadata": {},
   "source": [
    "<div class=\"alert alert-block alert-success\">✔️\n",
    "    \n",
    "\n",
    "__Комментарий от ревьюера №1__\n",
    "    \n",
    "Хорошо, все необходимые функции были заданы, можно приступать к расчета и анализу👀"
   ]
  },
  {
   "cell_type": "markdown",
   "metadata": {
    "id": "V-KBT-KMWVwl"
   },
   "source": [
    "### Исследовательский анализ данных\n",
    "\n",
    "- Составьте профили пользователей. Определите минимальную и максимальную даты привлечения пользователей.\n",
    "- Выясните, из каких стран пользователи приходят в приложение и на какую страну приходится больше всего платящих пользователей. Постройте таблицу, отражающую количество пользователей и долю платящих из каждой страны.\n",
    "- Узнайте, какими устройствами пользуются клиенты и какие устройства предпочитают платящие пользователи. Постройте таблицу, отражающую количество пользователей и долю платящих для каждого устройства.\n",
    "- Изучите рекламные источники привлечения и определите каналы, из которых пришло больше всего платящих пользователей. Постройте таблицу, отражающую количество пользователей и долю платящих для каждого канала привлечения.\n",
    "\n",
    "После каждого пункта сформулируйте выводы."
   ]
  },
  {
   "cell_type": "markdown",
   "metadata": {},
   "source": [
    "#### Профили пользователей. Максимальная и минимальная дата привлечения"
   ]
  },
  {
   "cell_type": "code",
   "execution_count": 34,
   "metadata": {
    "id": "oOLsbJpNWVwm"
   },
   "outputs": [
    {
     "data": {
      "text/html": [
       "<div>\n",
       "<style scoped>\n",
       "    .dataframe tbody tr th:only-of-type {\n",
       "        vertical-align: middle;\n",
       "    }\n",
       "\n",
       "    .dataframe tbody tr th {\n",
       "        vertical-align: top;\n",
       "    }\n",
       "\n",
       "    .dataframe thead th {\n",
       "        text-align: right;\n",
       "    }\n",
       "</style>\n",
       "<table border=\"1\" class=\"dataframe\">\n",
       "  <thead>\n",
       "    <tr style=\"text-align: right;\">\n",
       "      <th></th>\n",
       "      <th>user_id</th>\n",
       "      <th>first_ts</th>\n",
       "      <th>channel</th>\n",
       "      <th>device</th>\n",
       "      <th>region</th>\n",
       "      <th>dt</th>\n",
       "      <th>month</th>\n",
       "      <th>payer</th>\n",
       "      <th>acquisition_cost</th>\n",
       "    </tr>\n",
       "  </thead>\n",
       "  <tbody>\n",
       "    <tr>\n",
       "      <th>0</th>\n",
       "      <td>599326</td>\n",
       "      <td>2019-05-07 20:58:57</td>\n",
       "      <td>FaceBoom</td>\n",
       "      <td>Mac</td>\n",
       "      <td>United States</td>\n",
       "      <td>2019-05-07</td>\n",
       "      <td>2019-05-01</td>\n",
       "      <td>True</td>\n",
       "      <td>1.088172</td>\n",
       "    </tr>\n",
       "    <tr>\n",
       "      <th>1</th>\n",
       "      <td>4919697</td>\n",
       "      <td>2019-07-09 12:46:07</td>\n",
       "      <td>FaceBoom</td>\n",
       "      <td>iPhone</td>\n",
       "      <td>United States</td>\n",
       "      <td>2019-07-09</td>\n",
       "      <td>2019-07-01</td>\n",
       "      <td>False</td>\n",
       "      <td>1.107237</td>\n",
       "    </tr>\n",
       "    <tr>\n",
       "      <th>2</th>\n",
       "      <td>6085896</td>\n",
       "      <td>2019-10-01 09:58:33</td>\n",
       "      <td>organic</td>\n",
       "      <td>iPhone</td>\n",
       "      <td>France</td>\n",
       "      <td>2019-10-01</td>\n",
       "      <td>2019-10-01</td>\n",
       "      <td>False</td>\n",
       "      <td>0.000000</td>\n",
       "    </tr>\n",
       "    <tr>\n",
       "      <th>3</th>\n",
       "      <td>22593348</td>\n",
       "      <td>2019-08-22 21:35:48</td>\n",
       "      <td>AdNonSense</td>\n",
       "      <td>PC</td>\n",
       "      <td>Germany</td>\n",
       "      <td>2019-08-22</td>\n",
       "      <td>2019-08-01</td>\n",
       "      <td>False</td>\n",
       "      <td>0.988235</td>\n",
       "    </tr>\n",
       "    <tr>\n",
       "      <th>4</th>\n",
       "      <td>31989216</td>\n",
       "      <td>2019-10-02 00:07:44</td>\n",
       "      <td>YRabbit</td>\n",
       "      <td>iPhone</td>\n",
       "      <td>United States</td>\n",
       "      <td>2019-10-02</td>\n",
       "      <td>2019-10-01</td>\n",
       "      <td>False</td>\n",
       "      <td>0.230769</td>\n",
       "    </tr>\n",
       "  </tbody>\n",
       "</table>\n",
       "</div>"
      ],
      "text/plain": [
       "    user_id            first_ts     channel  device         region  \\\n",
       "0    599326 2019-05-07 20:58:57    FaceBoom     Mac  United States   \n",
       "1   4919697 2019-07-09 12:46:07    FaceBoom  iPhone  United States   \n",
       "2   6085896 2019-10-01 09:58:33     organic  iPhone         France   \n",
       "3  22593348 2019-08-22 21:35:48  AdNonSense      PC        Germany   \n",
       "4  31989216 2019-10-02 00:07:44     YRabbit  iPhone  United States   \n",
       "\n",
       "           dt      month  payer  acquisition_cost  \n",
       "0  2019-05-07 2019-05-01   True          1.088172  \n",
       "1  2019-07-09 2019-07-01  False          1.107237  \n",
       "2  2019-10-01 2019-10-01  False          0.000000  \n",
       "3  2019-08-22 2019-08-01  False          0.988235  \n",
       "4  2019-10-02 2019-10-01  False          0.230769  "
      ]
     },
     "execution_count": 34,
     "metadata": {},
     "output_type": "execute_result"
    }
   ],
   "source": [
    "profiles=get_profiles(sessions, orders, ad_costs)\n",
    "\n",
    "profiles.head()"
   ]
  },
  {
   "cell_type": "code",
   "execution_count": 35,
   "metadata": {},
   "outputs": [],
   "source": [
    "min_date=min(profiles['dt'])\n",
    "max_date=max(profiles['dt'])"
   ]
  },
  {
   "cell_type": "code",
   "execution_count": 36,
   "metadata": {},
   "outputs": [
    {
     "name": "stdout",
     "output_type": "stream",
     "text": [
      "2019-05-01\n"
     ]
    }
   ],
   "source": [
    "print(min_date)"
   ]
  },
  {
   "cell_type": "code",
   "execution_count": 37,
   "metadata": {},
   "outputs": [
    {
     "name": "stdout",
     "output_type": "stream",
     "text": [
      "2019-10-27\n"
     ]
    }
   ],
   "source": [
    "print(max_date)"
   ]
  },
  {
   "cell_type": "markdown",
   "metadata": {},
   "source": [
    "Вывод: самая ранняя дата:  1 мая 2019 года, самая поздняя дата: 27 октября 2019 года. "
   ]
  },
  {
   "cell_type": "markdown",
   "metadata": {},
   "source": [
    "<div class=\"alert alert-block alert-warning\">📝\n",
    "    \n",
    "\n",
    "__Комментарий от ревьюера №1__\n",
    "\n",
    "Неплохо бы проверить даты на соответствие ТЗ\n",
    "</div>"
   ]
  },
  {
   "cell_type": "markdown",
   "metadata": {},
   "source": [
    "<div class=\"alert alert-info\"> <b>Комментарии студента:</b>Так в описании проекта написано, что данные есть от 1 мая до 27 октября, следовательно все правильно. Или я не понимаю о каком тз речь. </div>"
   ]
  },
  {
   "cell_type": "markdown",
   "metadata": {},
   "source": [
    "<div class=\"alert alert-block alert-success\">✔️\n",
    "    \n",
    "\n",
    "__Комментарий от ревьюера №2__\n",
    "    \n",
    "Все верно!👍 Это стоило отметить в промежуточном выводе"
   ]
  },
  {
   "cell_type": "markdown",
   "metadata": {},
   "source": [
    "#### Пользователи и страны"
   ]
  },
  {
   "cell_type": "code",
   "execution_count": 38,
   "metadata": {},
   "outputs": [
    {
     "data": {
      "text/html": [
       "<div>\n",
       "<style scoped>\n",
       "    .dataframe tbody tr th:only-of-type {\n",
       "        vertical-align: middle;\n",
       "    }\n",
       "\n",
       "    .dataframe tbody tr th {\n",
       "        vertical-align: top;\n",
       "    }\n",
       "\n",
       "    .dataframe thead th {\n",
       "        text-align: right;\n",
       "    }\n",
       "</style>\n",
       "<table border=\"1\" class=\"dataframe\">\n",
       "  <thead>\n",
       "    <tr style=\"text-align: right;\">\n",
       "      <th></th>\n",
       "      <th>user_id</th>\n",
       "      <th>payer</th>\n",
       "    </tr>\n",
       "    <tr>\n",
       "      <th>region</th>\n",
       "      <th></th>\n",
       "      <th></th>\n",
       "    </tr>\n",
       "  </thead>\n",
       "  <tbody>\n",
       "    <tr>\n",
       "      <th>United States</th>\n",
       "      <td>100002</td>\n",
       "      <td>6.9%</td>\n",
       "    </tr>\n",
       "    <tr>\n",
       "      <th>Germany</th>\n",
       "      <td>14981</td>\n",
       "      <td>4.11%</td>\n",
       "    </tr>\n",
       "    <tr>\n",
       "      <th>UK</th>\n",
       "      <td>17575</td>\n",
       "      <td>3.98%</td>\n",
       "    </tr>\n",
       "    <tr>\n",
       "      <th>France</th>\n",
       "      <td>17450</td>\n",
       "      <td>3.8%</td>\n",
       "    </tr>\n",
       "  </tbody>\n",
       "</table>\n",
       "</div>"
      ],
      "text/plain": [
       "               user_id  payer\n",
       "region                       \n",
       "United States   100002   6.9%\n",
       "Germany          14981  4.11%\n",
       "UK               17575  3.98%\n",
       "France           17450   3.8%"
      ]
     },
     "execution_count": 38,
     "metadata": {},
     "output_type": "execute_result"
    }
   ],
   "source": [
    "profiles_payer=profiles.groupby('region').agg({'user_id': 'nunique','payer':'mean'}).sort_values(by='payer', ascending=False)\n",
    "profiles_payer['payer']=profiles_payer['payer']*100\n",
    "profiles_payer['payer']=profiles_payer['payer'].round(2)\n",
    "profiles_payer['payer']=profiles_payer['payer'].astype(str)+'%'\n",
    "profiles_payer"
   ]
  },
  {
   "cell_type": "markdown",
   "metadata": {},
   "source": [
    "<div class=\"alert alert-block alert-warning\">📝\n",
    "    \n",
    "\n",
    "__Комментарий от ревьюера №1__\n",
    "\n",
    "В единственной или последней строке кода Юпитера, метод print() не обязательно писать, в отличии от тренажера\n",
    "</div>"
   ]
  },
  {
   "cell_type": "markdown",
   "metadata": {},
   "source": [
    "<div class=\"alert alert-block alert-warning\">📝\n",
    "    \n",
    "\n",
    "__Комментарий от ревьюера №1__\n",
    "\n",
    "Давай, полученные в этом разделе значения переведем в %? (умножим на 100), чтобы коллегам и заказчику было удобнее понимать суть данных\n",
    "</div>"
   ]
  },
  {
   "cell_type": "markdown",
   "metadata": {},
   "source": [
    "<div class=\"alert alert-info\"> <b>Комментарии студента:</b>\n",
    "    Перевел </div>"
   ]
  },
  {
   "cell_type": "code",
   "execution_count": 39,
   "metadata": {},
   "outputs": [
    {
     "data": {
      "image/png": "[encoded data removed]",
      "text/plain": [
       "<Figure size 432x288 with 1 Axes>"
      ]
     },
     "metadata": {
      "needs_background": "light"
     },
     "output_type": "display_data"
    }
   ],
   "source": [
    "profiles.groupby('region').agg({'user_id': 'nunique'}).plot(grid=True);\n",
    "plt.title('Соотношение привлеченных пользователей в разбивке по странам')\n",
    "plt.xlabel('Страны');\n",
    "plt.ylabel('Количество пользователей');"
   ]
  },
  {
   "cell_type": "code",
   "execution_count": 40,
   "metadata": {
    "scrolled": true
   },
   "outputs": [
    {
     "data": {
      "image/png": "[encoded data removed]",
      "text/plain": [
       "<Figure size 432x288 with 1 Axes>"
      ]
     },
     "metadata": {
      "needs_background": "light"
     },
     "output_type": "display_data"
    }
   ],
   "source": [
    "profiles.groupby('region').agg({'payer': 'mean'}).plot(grid=True);\n",
    "plt.title('Соотношение платящих пользователей в разбивке по странам')\n",
    "plt.xlabel('Страны');\n",
    "plt.ylabel('Количество платящих пользователей');"
   ]
  },
  {
   "cell_type": "markdown",
   "metadata": {},
   "source": [
    "Вывод: Большая часть пользователей приходится на США, на втором месте находится Великобритания, рядом с ней Франция, а на последнем Германия. При этом из привлеченных пользователей в среднем в платящих в процентном соотношении больше становятся пользователи из США, потом уже Германии, Великобритании и на последнем месте находится Франция."
   ]
  },
  {
   "cell_type": "markdown",
   "metadata": {},
   "source": [
    "#### Пользователи и девайсы"
   ]
  },
  {
   "cell_type": "code",
   "execution_count": 41,
   "metadata": {},
   "outputs": [
    {
     "name": "stdout",
     "output_type": "stream",
     "text": [
      "         user_id     payer\n",
      "device                    \n",
      "Mac        30042  0.063644\n",
      "iPhone     54479  0.062079\n",
      "Android    35032  0.058518\n",
      "PC         30455  0.050468\n"
     ]
    }
   ],
   "source": [
    "print(profiles.groupby('device').agg({'user_id': 'nunique', 'payer': 'mean'}).sort_values(by='payer', ascending=False))"
   ]
  },
  {
   "cell_type": "code",
   "execution_count": 42,
   "metadata": {},
   "outputs": [
    {
     "data": {
      "image/png": "[encoded data removed]",
      "text/plain": [
       "<Figure size 432x288 with 1 Axes>"
      ]
     },
     "metadata": {
      "needs_background": "light"
     },
     "output_type": "display_data"
    }
   ],
   "source": [
    "profiles.groupby('device').agg({'user_id': 'nunique'}).plot(grid=True);\n",
    "plt.title('Соотношение привлеченных пользователей по девайсам')\n",
    "plt.xlabel('Device');\n",
    "plt.ylabel('Количество пользователей');"
   ]
  },
  {
   "cell_type": "markdown",
   "metadata": {},
   "source": [
    "<div class=\"alert alert-block alert-success\">✔️\n",
    "    \n",
    "\n",
    "__Комментарий от ревьюера №1__\n",
    "\n",
    "Здорово, что визуализируешь полученные данные. Это важный навык для аналитика. Развивай его!)\n",
    "</div>"
   ]
  },
  {
   "cell_type": "code",
   "execution_count": 43,
   "metadata": {},
   "outputs": [
    {
     "data": {
      "image/png": "[encoded data removed]",
      "text/plain": [
       "<Figure size 432x288 with 1 Axes>"
      ]
     },
     "metadata": {
      "needs_background": "light"
     },
     "output_type": "display_data"
    }
   ],
   "source": [
    "profiles.groupby('device').agg({'payer': 'mean'}).plot(grid=True);\n",
    "plt.title('Соотношение платящих пользователей по девайсам')\n",
    "plt.xlabel('Device');\n",
    "plt.ylabel('Доля платящих пользователей');"
   ]
  },
  {
   "cell_type": "markdown",
   "metadata": {},
   "source": [
    "Вывод: по графикам мы можем увидеть, что больше всего привлеченных пользователей приходятся на девайс - Iphone. PC, MAC, Android примерно на одном уровне. НО при этом доля платящих пользователей больше всего на девайсе - MAC, за ним идет Iphone, Android, PC на последнем месте."
   ]
  },
  {
   "cell_type": "markdown",
   "metadata": {},
   "source": [
    "#### Пользователи и рекламные источники"
   ]
  },
  {
   "cell_type": "code",
   "execution_count": 44,
   "metadata": {},
   "outputs": [
    {
     "name": "stdout",
     "output_type": "stream",
     "text": [
      "                    user_id     payer\n",
      "channel                              \n",
      "FaceBoom              29144  0.122049\n",
      "AdNonSense             3880  0.113402\n",
      "lambdaMediaAds         2149  0.104700\n",
      "TipTop                19561  0.096007\n",
      "RocketSuperAds         4448  0.079137\n",
      "WahooNetBanner         8553  0.052964\n",
      "YRabbit                4312  0.038265\n",
      "MediaTornado           4364  0.035747\n",
      "LeapBob                8553  0.030633\n",
      "OppleCreativeMedia     8605  0.027077\n",
      "organic               56439  0.020553\n"
     ]
    }
   ],
   "source": [
    "print(profiles.groupby('channel').agg({'user_id': 'nunique', 'payer': 'mean'}).sort_values(by='payer', ascending=False)) "
   ]
  },
  {
   "cell_type": "code",
   "execution_count": 45,
   "metadata": {},
   "outputs": [
    {
     "data": {
      "image/png": "[encoded data removed]",
      "text/plain": [
       "<Figure size 648x432 with 1 Axes>"
      ]
     },
     "metadata": {
      "needs_background": "light"
     },
     "output_type": "display_data"
    }
   ],
   "source": [
    "profiles.groupby('channel').agg({'payer': 'mean'}).plot(grid=True, figsize=(9,6));\n",
    "plt.title('Соотношение платящих пользователей по каналам рекламы')\n",
    "plt.xlabel('Название источника рекламы');\n",
    "plt.ylabel('Доля платящих пользователей');"
   ]
  },
  {
   "cell_type": "code",
   "execution_count": 46,
   "metadata": {},
   "outputs": [
    {
     "data": {
      "image/png": "[encoded data removed]",
      "text/plain": [
       "<Figure size 648x432 with 1 Axes>"
      ]
     },
     "metadata": {
      "needs_background": "light"
     },
     "output_type": "display_data"
    }
   ],
   "source": [
    "profiles.groupby('channel').agg({'user_id': 'nunique'}).plot(grid=True, figsize=(9,6));\n",
    "plt.title('Соотношение количества пользователей по каналам рекламы')\n",
    "plt.xlabel('Название источника рекламы');\n",
    "plt.ylabel('Количество пользователей');"
   ]
  },
  {
   "cell_type": "markdown",
   "metadata": {},
   "source": [
    "Вывод: По количеству привлеченных пользователей лидирует органический трафик, далее идет FACEBOOM, TipTip. Однако по этим же каналам привлечения доля платящих пользователей больше FaceBoom, AdNonSense, lambdaMediaAds, TipTop, RocketSuperAds, WahooNetBanner. Остальные каналы находятся примерно на одинаковом уровне по доле платящих пользователей, даже из бесплатного источника - Organic есть пользователи, которые что-то приобретают.               "
   ]
  },
  {
   "cell_type": "markdown",
   "metadata": {},
   "source": [
    "# Общий вывод по исследовательскому анализу"
   ]
  },
  {
   "cell_type": "markdown",
   "metadata": {},
   "source": [
    "После исследовательского анализа мы видим, что большая часть пользователей приходится из США, а Франция и Великобритания находятся примерно на одном уровне, а Германия на последнем. При этом пользователей из США в 2 раза больше, чем если взять всех пользователей из других стран вместе. В платящих пользователей приходится тоже больше на США, потом уже идет Германия, за ней Великобритания, Франция на последнем месте. Думаю это связано с уровнем дохода. Если разбивать пользователей по девайсам, то больше всего людей приходят со смартфонов: в первую очередь Iphone, потом Android. Mac и PC примерно на одном уровне в 30к пользователей каждый. Больше всего платящих пользователей используют Mac и Iphone.\n",
    "Касательно рекламных каналов больше всего пользователей конечно приходят бесплатно - органическим путем. Но они конвертятся в платщих меньше всего. Зато те пользователе которые пришли с платных источников, конвертятся лучше. Лидерами являются: FaceBoom, AdNonSense, lambdaMediaAds, TipTop, RocketSuperAds, WahooNetBanner по доле платящих пользователей. Учитывая все эти факторы нужно только разобраться окупаются ли эти источники пользователей, даже учитывая их хорошую конвертацию."
   ]
  },
  {
   "cell_type": "markdown",
   "metadata": {},
   "source": [
    "<div class=\"alert alert-block alert-danger\">✍\n",
    "    \n",
    "\n",
    "__Комментарий от ревьюера №1__\n",
    "\n",
    "Расчёт верный. Но нету общего вывода по разделу. Поправишь, пожалуйста, этот момент во всем проекте, чтобы дальше не акцентировать на этом внимаение?\n",
    "</div>"
   ]
  },
  {
   "cell_type": "markdown",
   "metadata": {},
   "source": [
    "<div class=\"alert alert-info\"> <b>Комментарии студента:</b>\n",
    "    Добавил </div>"
   ]
  },
  {
   "cell_type": "markdown",
   "metadata": {},
   "source": [
    "<div class=\"alert alert-block alert-success\">✔️\n",
    "    \n",
    "\n",
    "__Комментарий от ревьюера №2__\n",
    "\n",
    "\n",
    "В целом в данном разделе был проведен хороший анализ данных - мы посмотрели на базовые значения конверсии пользователей в покупатели по регионам, устройствам и каналу привлечения, определили основной рынок. Получается, что больше всего приходит пользователей из США и они лучше других конвертируется. При этом большая часть пользователей заходит с мобильных устройств, это тоже стоит отметить. Также, мы можем сказать, что наибольшую конверсию имеют пользователи, которые пользуются Mac, а затем следуют пользователи iPhone, т.е. мы можем сказать, что в целом пользователи Apple имеют лучшую конверсию в покупателей. Возможно, тут есть плюсы ApplePay."
   ]
  },
  {
   "cell_type": "markdown",
   "metadata": {
    "id": "80LRB5-eWVwm"
   },
   "source": [
    "### Маркетинг\n",
    "\n",
    "- Посчитайте общую сумму расходов на маркетинг.\n",
    "- Выясните, как траты распределены по рекламным источникам, то есть сколько денег потратили на каждый источник.\n",
    "- Постройте визуализацию динамики изменения расходов во времени (по неделям и месяцам) по каждому источнику. Постарайтесь отразить это на одном графике.\n",
    "- Узнайте, сколько в среднем стоило привлечение одного пользователя (CAC) из каждого источника. Используйте профили пользователей.\n",
    "\n",
    "Напишите промежуточные выводы."
   ]
  },
  {
   "cell_type": "markdown",
   "metadata": {
    "id": "DQE9emXqWVwm"
   },
   "source": [
    "#### Общая сумма расходов на маркетинг"
   ]
  },
  {
   "cell_type": "code",
   "execution_count": 47,
   "metadata": {},
   "outputs": [
    {
     "name": "stdout",
     "output_type": "stream",
     "text": [
      "105497\n"
     ]
    }
   ],
   "source": [
    "total_costs=round(ad_costs['costs'].sum())\n",
    "print(total_costs)"
   ]
  },
  {
   "cell_type": "markdown",
   "metadata": {},
   "source": [
    "<div class=\"alert alert-block alert-success\">✔️\n",
    "    \n",
    "\n",
    "__Комментарий от ревьюера №1__\n",
    "\n",
    "        \n",
    "Здорово, что округлил"
   ]
  },
  {
   "cell_type": "markdown",
   "metadata": {},
   "source": [
    "#### Распределение бюджета по рекламным каналам"
   ]
  },
  {
   "cell_type": "code",
   "execution_count": 48,
   "metadata": {},
   "outputs": [
    {
     "name": "stdout",
     "output_type": "stream",
     "text": [
      "                       costs\n",
      "channel                     \n",
      "TipTop              54751.30\n",
      "FaceBoom            32445.60\n",
      "WahooNetBanner       5151.00\n",
      "AdNonSense           3911.25\n",
      "OppleCreativeMedia   2151.25\n",
      "RocketSuperAds       1833.00\n",
      "LeapBob              1797.60\n",
      "lambdaMediaAds       1557.60\n",
      "MediaTornado          954.48\n",
      "YRabbit               944.22\n"
     ]
    }
   ],
   "source": [
    "print(ad_costs.groupby('channel').agg({'costs': 'sum'}).sort_values(by='costs', ascending=False)) "
   ]
  },
  {
   "cell_type": "markdown",
   "metadata": {},
   "source": [
    "Вывод: по данному срезу мы видим, что от общей суммыв 105497$ более 80 процентов ушло на 2 рекламных канала: TipTop, FaceBoom. На остальные источники приходится от 1 до 5 процентов от общего бюджета на рекламу. "
   ]
  },
  {
   "cell_type": "markdown",
   "metadata": {},
   "source": [
    "#### Временное распределение затрат по рекламным каналам"
   ]
  },
  {
   "cell_type": "code",
   "execution_count": 49,
   "metadata": {},
   "outputs": [
    {
     "data": {
      "image/png": "[encoded data removed]",
      "text/plain": [
       "<Figure size 648x432 with 1 Axes>"
      ]
     },
     "metadata": {
      "needs_background": "light"
     },
     "output_type": "display_data"
    }
   ],
   "source": [
    "ad_costs['Месячные расходы']=ad_costs['dt'].astype('datetime64[M]')\n",
    "ad_costs.pivot_table(index='Месячные расходы', columns='channel', values='costs', aggfunc='sum').plot(figsize=(9,6), grid=True);\n",
    "plt.title('Затраты на рекламу в разбивку по месяцам');\n",
    "plt.xlabel('Календарные месяцы');\n",
    "plt.ylabel('Затраты на рекламу');"
   ]
  },
  {
   "cell_type": "code",
   "execution_count": 50,
   "metadata": {},
   "outputs": [
    {
     "data": {
      "image/png": "[encoded data removed]",
      "text/plain": [
       "<Figure size 648x432 with 1 Axes>"
      ]
     },
     "metadata": {
      "needs_background": "light"
     },
     "output_type": "display_data"
    }
   ],
   "source": [
    "ad_costs['Недельные расходы']=ad_costs['dt'].astype('datetime64[W]')\n",
    "ad_costs.pivot_table(index='Недельные расходы', columns='channel', values='costs', aggfunc='sum').plot(figsize=(9,6), grid=True);\n",
    "plt.title('Затраты на рекламу в разбивку по неделям');\n",
    "plt.xlabel('Недели 2019 года');\n",
    "plt.ylabel('Затраты на рекламу');"
   ]
  },
  {
   "cell_type": "markdown",
   "metadata": {},
   "source": [
    "<div class=\"alert alert-block alert-danger\">✍\n",
    "    \n",
    "\n",
    "__Комментарий от ревьюера №1__\n",
    "\n",
    "Графики верны, но отсутствует их оформление (заголовки + подписи осей). Поправь, пожалуйста, этот момент во всем проекте. Чтобы дальше на этом не акцентировать внимание\n",
    "</div>"
   ]
  },
  {
   "cell_type": "markdown",
   "metadata": {},
   "source": [
    "<div class=\"alert alert-info\"> <b>Комментарии студента:</b>\n",
    "    Добавил </div>"
   ]
  },
  {
   "cell_type": "markdown",
   "metadata": {},
   "source": [
    "<div class=\"alert alert-block alert-success\">✔️\n",
    "    \n",
    "\n",
    "__Комментарий от ревьюера №2__\n",
    "\n",
    "Отличный и наглядный график 👍\n",
    "    \n",
    "Здорово, когда он подписан. Так быстрее понять о чем идёт речь на нём.\n",
    "    \n",
    "</div>"
   ]
  },
  {
   "cell_type": "markdown",
   "metadata": {},
   "source": [
    "#### Средняя стоимость привлечения пользователей"
   ]
  },
  {
   "cell_type": "code",
   "execution_count": 51,
   "metadata": {},
   "outputs": [
    {
     "name": "stdout",
     "output_type": "stream",
     "text": [
      "                    acquisition_cost\n",
      "channel                             \n",
      "TipTop                      2.799003\n",
      "FaceBoom                    1.113286\n",
      "AdNonSense                  1.008054\n",
      "lambdaMediaAds              0.724802\n",
      "WahooNetBanner              0.602245\n",
      "RocketSuperAds              0.412095\n",
      "OppleCreativeMedia          0.250000\n",
      "YRabbit                     0.218975\n",
      "MediaTornado                0.218717\n",
      "LeapBob                     0.210172\n",
      "organic                     0.000000\n"
     ]
    }
   ],
   "source": [
    "print(profiles.groupby('channel').agg({'acquisition_cost':'mean'}).sort_values(by='acquisition_cost', ascending=False))"
   ]
  },
  {
   "cell_type": "markdown",
   "metadata": {},
   "source": [
    "<div class=\"alert alert-block alert-warning\">📝\n",
    "    \n",
    "\n",
    "__Комментарий от ревьюера №1__\n",
    "\n",
    "Неплохо бы посчитать средний САС по проекту\n",
    "</div>"
   ]
  },
  {
   "cell_type": "markdown",
   "metadata": {},
   "source": [
    "<div class=\"alert alert-info\"> <b>Комментарии студента:</b>\n",
    "    Рассчитал снизу </div>"
   ]
  },
  {
   "cell_type": "code",
   "execution_count": 52,
   "metadata": {},
   "outputs": [
    {
     "data": {
      "text/plain": [
       "0.703277825182657"
      ]
     },
     "execution_count": 52,
     "metadata": {},
     "output_type": "execute_result"
    }
   ],
   "source": [
    "average_cac=ad_costs['costs'].sum()/profiles_payer['user_id'].sum()\n",
    "average_cac"
   ]
  },
  {
   "cell_type": "markdown",
   "metadata": {},
   "source": [
    "<div class=\"alert alert-block alert-success\">✔️\n",
    "    \n",
    "\n",
    "__Комментарий от ревьюера №2__\n",
    "\n",
    "Отличный инсайд для заказчика)\n",
    "    \n",
    "</div>"
   ]
  },
  {
   "cell_type": "markdown",
   "metadata": {},
   "source": [
    "Вывод: Учитывая что TipTop находится лишь только на 4-м месте по доле платящих клиентов. Стоимость привлечения уникальных клиентов\n",
    "через этот ресурс неоправдано дорогая. Практически 3-х кратная разница между TipTop и FaceBoom, когда FaceBoom стоит всего 1,11 за \n",
    "привлеченного клиента и является лидиром по доле платящих клиентов. Что-то явно не так."
   ]
  },
  {
   "cell_type": "markdown",
   "metadata": {},
   "source": [
    "<div class=\"alert alert-block alert-success\">✔️\n",
    "    \n",
    "\n",
    "__Комментарий от ревьюера №1__\n",
    "\n",
    "Наиболее дорогостоящим каналом привлечения пользователей является TipTop, однако количество и доля платящих пользователей, приходящих с этого источника, не так высоки. Это можно объяснить молодой аудиторией TipTop'a и, соответственно, не очень высокой их платежеспособностью.\n",
    "    \n",
    "</div>"
   ]
  },
  {
   "cell_type": "markdown",
   "metadata": {},
   "source": [
    "# Общий вывод по резделу маркетинга"
   ]
  },
  {
   "cell_type": "markdown",
   "metadata": {},
   "source": [
    "Как мы видим из графиков распределения затрат по месяцам и неделям. С течением времени все больше и больше средств компания вкладывает в TipTop и FaceBoom, когда как в остальные рекламные источники вкладывают примерно одни и те же средства, что и в начале. Общий бюджет затрат на рекламу за изучаемый период - 105497$. Из него 80 процентов уходит на TipTop и FaceBoom - это ненормально. Тем более, что привлечение пользователя на ресурсе TipTop стоит кратно выше, чем на других ресурсах. Средний САС по нашему проекту = 0.70 долларов ."
   ]
  },
  {
   "cell_type": "markdown",
   "metadata": {
    "id": "poDjrQVHWVwn"
   },
   "source": [
    "### Оцените окупаемость рекламы\n",
    "\n",
    "Используя графики LTV, ROI и CAC, проанализируйте окупаемость рекламы. Считайте, что на календаре 1 ноября 2019 года, а в бизнес-плане заложено, что пользователи должны окупаться не позднее чем через две недели после привлечения. Необходимость включения в анализ органических пользователей определите самостоятельно.\n",
    "\n",
    "- Проанализируйте окупаемость рекламы c помощью графиков LTV и ROI, а также графики динамики LTV, CAC и ROI.\n",
    "- Проверьте конверсию пользователей и динамику её изменения. То же самое сделайте с удержанием пользователей. Постройте и изучите графики конверсии и удержания.\n",
    "- Проанализируйте окупаемость рекламы с разбивкой по устройствам. Постройте графики LTV и ROI, а также графики динамики LTV, CAC и ROI.\n",
    "- Проанализируйте окупаемость рекламы с разбивкой по странам. Постройте графики LTV и ROI, а также графики динамики LTV, CAC и ROI.\n",
    "- Проанализируйте окупаемость рекламы с разбивкой по рекламным каналам. Постройте графики LTV и ROI, а также графики динамики LTV, CAC и ROI.\n",
    "- Ответьте на такие вопросы:\n",
    "    - Окупается ли реклама, направленная на привлечение пользователей в целом?\n",
    "    - Какие устройства, страны и рекламные каналы могут оказывать негативное влияние на окупаемость рекламы?\n",
    "    - Чем могут быть вызваны проблемы окупаемости?\n",
    "\n",
    "Напишите вывод, опишите возможные причины обнаруженных проблем и промежуточные рекомендации для рекламного отдела."
   ]
  },
  {
   "cell_type": "markdown",
   "metadata": {
    "id": "hbNu9EXeWVwo"
   },
   "source": [
    "#### Анализ окупаемости рекламы"
   ]
  },
  {
   "cell_type": "code",
   "execution_count": 53,
   "metadata": {},
   "outputs": [],
   "source": [
    "profiles1=profiles[profiles['channel']!='organic']"
   ]
  },
  {
   "cell_type": "markdown",
   "metadata": {},
   "source": [
    "<div class=\"alert alert-block alert-success\">✔️\n",
    "    \n",
    "\n",
    "__Комментарий от ревьюера №1__\n",
    "\n",
    "Совершенно верно, поскольку мы за них ничего не платим,  а нам нужно изучить именно окупаемость рекламы. \n",
    "</div>"
   ]
  },
  {
   "cell_type": "markdown",
   "metadata": {},
   "source": [
    "Поскольку органические пользователи приходят бесплатно, я считаю, что их можно удалить из последующего анализа."
   ]
  },
  {
   "cell_type": "code",
   "execution_count": 54,
   "metadata": {},
   "outputs": [],
   "source": [
    "observation_date = datetime(2019, 11, 1).date()  # момент анализа\n",
    "horizon_days = 14 "
   ]
  },
  {
   "cell_type": "code",
   "execution_count": 55,
   "metadata": {},
   "outputs": [
    {
     "data": {
      "image/png": "[encoded data removed]",
      "text/plain": [
       "<Figure size 1440x720 with 5 Axes>"
      ]
     },
     "metadata": {
      "needs_background": "light"
     },
     "output_type": "display_data"
    }
   ],
   "source": [
    "ltv_raw, ltv_grouped, ltv_history, roi_grouped, roi_history = get_ltv(\n",
    "    profiles1, orders, observation_date, horizon_days)\n",
    "\n",
    "plot_ltv_roi(ltv_grouped, ltv_history, roi_grouped, roi_history, horizon_days) "
   ]
  },
  {
   "cell_type": "markdown",
   "metadata": {},
   "source": [
    "<div class=\"alert alert-block alert-danger\">✍\n",
    "    \n",
    "\n",
    "__Комментарий от ревьюера №1__\n",
    "    \n",
    "Поправь, пожалуйста, описание динамики изменения стоимости привлечения пользователей по каналам, устройствам и странам, когда будет проведена фильтрация органических пользователей (выше сделал срез, а в исследовании используешь не `profiles1`, а `profiles`"
   ]
  },
  {
   "cell_type": "markdown",
   "metadata": {},
   "source": [
    "<div class=\"alert alert-info\"> <b>Комментарии студента:</b>\n",
    "    Исправил </div>"
   ]
  },
  {
   "cell_type": "markdown",
   "metadata": {},
   "source": [
    "Вывод: Как мы видим, изначально компания зарабатывала больше денег посредством привлечения клиентов через рекламу. Потому это стало убыточным для организации, поскольку затраты на привлечения клиентов сильно выросли."
   ]
  },
  {
   "cell_type": "markdown",
   "metadata": {},
   "source": [
    "<div class=\"alert alert-block alert-success\">✔️\n",
    "    \n",
    "\n",
    "__Комментарий от ревьюера №2__\n",
    "    \n",
    "Логика анализа верная, согласен с выводом. Наблюдаем, что динамика ROI за лайфтайм падает. При относительно стабильной динамике LTV, динамика САС растёт с мая по конец октября. Эту закономерность мы наблюдаем в динамике ROI, что при сильном увеличении САС, в равной степени падает динамика ROI пользователей.\n",
    "</div>\n"
   ]
  },
  {
   "cell_type": "markdown",
   "metadata": {},
   "source": [
    "#### Проверки пользователей"
   ]
  },
  {
   "cell_type": "markdown",
   "metadata": {},
   "source": [
    "##### Проверка удержания пользователей"
   ]
  },
  {
   "cell_type": "code",
   "execution_count": 56,
   "metadata": {},
   "outputs": [
    {
     "name": "stdout",
     "output_type": "stream",
     "text": [
      "       cohort_size    0         1         2         3         4         5  \\\n",
      "payer                                                                       \n",
      "False        81334  1.0  0.176876  0.086594  0.051823  0.033504  0.024701   \n",
      "True          7310  1.0  0.380985  0.293023  0.235568  0.210260  0.191245   \n",
      "\n",
      "              6         7         8         9        10        11        12  \\\n",
      "payer                                                                         \n",
      "False  0.018651  0.014188  0.011729  0.009541  0.007488  0.006393  0.006012   \n",
      "True   0.166758  0.156908  0.145144  0.136389  0.135021  0.121888  0.118741   \n",
      "\n",
      "             13  \n",
      "payer            \n",
      "False  0.004709  \n",
      "True   0.104925  \n",
      "\n",
      "                  cohort_size    0         1         2         3         4  \\\n",
      "payer dt                                                                     \n",
      "False 2019-05-01          358  1.0  0.212291  0.072626  0.061453  0.022346   \n",
      "      2019-05-02          300  1.0  0.196667  0.103333  0.033333  0.030000   \n",
      "      2019-05-03          315  1.0  0.180952  0.076190  0.066667  0.028571   \n",
      "      2019-05-04          413  1.0  0.164649  0.101695  0.058111  0.024213   \n",
      "      2019-05-05          412  1.0  0.191748  0.092233  0.065534  0.033981   \n",
      "...                       ...  ...       ...       ...       ...       ...   \n",
      "True  2019-10-15           38  1.0  0.421053  0.263158  0.236842  0.157895   \n",
      "      2019-10-16           27  1.0  0.481481  0.407407  0.259259  0.074074   \n",
      "      2019-10-17           36  1.0  0.305556  0.250000  0.194444  0.083333   \n",
      "      2019-10-18           56  1.0  0.321429  0.321429  0.232143  0.214286   \n",
      "      2019-10-19           51  1.0  0.372549  0.333333  0.176471  0.176471   \n",
      "\n",
      "                         5         6         7         8         9        10  \\\n",
      "payer dt                                                                       \n",
      "False 2019-05-01  0.011173  0.025140  0.011173  0.013966  0.008380  0.000000   \n",
      "      2019-05-02  0.016667  0.023333  0.010000  0.006667  0.006667  0.010000   \n",
      "      2019-05-03  0.028571  0.031746  0.015873  0.009524  0.003175  0.006349   \n",
      "      2019-05-04  0.021792  0.014528  0.007264  0.021792  0.009685  0.012107   \n",
      "      2019-05-05  0.021845  0.014563  0.019417  0.009709  0.000000  0.007282   \n",
      "...                    ...       ...       ...       ...       ...       ...   \n",
      "True  2019-10-15  0.105263  0.078947  0.157895  0.131579  0.157895  0.105263   \n",
      "      2019-10-16  0.148148  0.222222  0.148148  0.111111  0.111111  0.185185   \n",
      "      2019-10-17  0.111111  0.027778  0.111111  0.166667  0.138889  0.111111   \n",
      "      2019-10-18  0.321429  0.125000  0.142857  0.196429  0.142857  0.142857   \n",
      "      2019-10-19  0.176471  0.117647  0.176471  0.156863  0.137255  0.117647   \n",
      "\n",
      "                        11        12        13  \n",
      "payer dt                                        \n",
      "False 2019-05-01  0.011173  0.002793  0.013966  \n",
      "      2019-05-02  0.010000  0.016667  0.003333  \n",
      "      2019-05-03  0.003175  0.006349  0.003175  \n",
      "      2019-05-04  0.016949  0.002421  0.007264  \n",
      "      2019-05-05  0.009709  0.012136  0.002427  \n",
      "...                    ...       ...       ...  \n",
      "True  2019-10-15  0.105263  0.026316  0.157895  \n",
      "      2019-10-16  0.037037  0.037037  0.111111  \n",
      "      2019-10-17  0.027778  0.138889  0.000000  \n",
      "      2019-10-18  0.142857  0.089286  0.035714  \n",
      "      2019-10-19  0.117647  0.117647  0.000000  \n",
      "\n",
      "[344 rows x 15 columns]\n"
     ]
    }
   ],
   "source": [
    "retention_raw, retention, retention_history = get_retention(\n",
    "    profiles1, sessions, datetime(2019, 11, 1).date(), 14)\n",
    "\n",
    "print(retention)  # таблица удержания\n",
    "print()\n",
    "print(retention_history)  # таблица динамики удержания "
   ]
  },
  {
   "cell_type": "code",
   "execution_count": 57,
   "metadata": {},
   "outputs": [
    {
     "name": "stdout",
     "output_type": "stream",
     "text": [
      "Общее количество новых пользователей: 88644 88644\n",
      "Общее количество новых покупателей: 7310 7310\n"
     ]
    }
   ],
   "source": [
    "# сумма размеров когорт равна числу новых клиентов в изучаемый период?\n",
    "\n",
    "report = profiles1.query(\n",
    "     # в профилях находим пользователей, привлечённых с 1 мая по 19 октября\n",
    "    'datetime(2019, 5, 1).date() <= dt <= datetime(2019, 10, 19).date()'\n",
    ")\n",
    "print(\n",
    "    # считаем уникальных пользователей в профилях и складываем размеры когорт\n",
    "    'Общее количество новых пользователей: {} {}'.format(\n",
    "        len(report['user_id'].unique()), retention['cohort_size'].sum()\n",
    "    )\n",
    ")\n",
    "\n",
    "# сумма размеров платящих когорт равна числу покупателей в изучаемый период?\n",
    "\n",
    "report = profiles1.query(\n",
    "    # в профилях находим платящих пользователей, привлечённых с 1 мая по 19 октября\n",
    "    'datetime(2019, 5, 1).date() <= dt <= datetime(2019, 10, 19).date() and payer == True'\n",
    ")\n",
    "print(\n",
    "    # считаем уникальных платящих пользователей в профилях \n",
    "    # и складываем размеры платящих когорт\n",
    "    'Общее количество новых покупателей: {} {}'.format(\n",
    "        len(report['user_id'].unique()),\n",
    "        retention.query('payer == True')['cohort_size'].sum(),\n",
    "    )  \n",
    ") "
   ]
  },
  {
   "cell_type": "markdown",
   "metadata": {},
   "source": [
    "Вывод: Данные сходятся — первые две проверки пройдены."
   ]
  },
  {
   "cell_type": "code",
   "execution_count": 58,
   "metadata": {},
   "outputs": [
    {
     "data": {
      "image/png": "[encoded data removed]",
      "text/plain": [
       "<Figure size 1080x360 with 1 Axes>"
      ]
     },
     "metadata": {
      "needs_background": "light"
     },
     "output_type": "display_data"
    }
   ],
   "source": [
    "# строим кривые удержания\n",
    "\n",
    "report = retention.drop(columns=['cohort_size', 0])\n",
    "report.T.plot(grid=True, xticks=list(report.columns.values), figsize=(15, 5))\n",
    "plt.xlabel('Лайфтайм')\n",
    "plt.title('Кривые удержания с разбивкой по совершению покупок')\n",
    "plt.show() "
   ]
  },
  {
   "cell_type": "markdown",
   "metadata": {},
   "source": [
    "Вывод: Кривая удержания платящих пользователей выше, чем неплатящих, обе кривые постепенно снижаются. Все в порядке."
   ]
  },
  {
   "cell_type": "markdown",
   "metadata": {},
   "source": [
    "##### Проверка конверсии пользователей"
   ]
  },
  {
   "cell_type": "code",
   "execution_count": 59,
   "metadata": {},
   "outputs": [
    {
     "name": "stdout",
     "output_type": "stream",
     "text": [
      "           cohort_size       0.0       1.0       2.0       3.0     4.0  \\\n",
      "cohort                                                                   \n",
      "All users        88644  0.058752  0.066321  0.069999  0.072571  0.0745   \n",
      "\n",
      "                5.0       6.0       7.0       8.0       9.0      10.0  \\\n",
      "cohort                                                                  \n",
      "All users  0.075775  0.076745  0.077591  0.078291  0.078945  0.079362   \n",
      "\n",
      "               11.0      12.0      13.0  \n",
      "cohort                                   \n",
      "All users  0.079678  0.079904  0.080197  \n",
      "\n",
      "            cohort_size       0.0       1.0       2.0       3.0       4.0  \\\n",
      "dt                                                                          \n",
      "2019-05-01          390  0.058974  0.066667  0.071795  0.071795  0.076923   \n",
      "2019-05-02          323  0.058824  0.068111  0.068111  0.068111  0.068111   \n",
      "2019-05-03          346  0.057803  0.069364  0.075145  0.078035  0.083815   \n",
      "2019-05-04          457  0.070022  0.074398  0.076586  0.078775  0.085339   \n",
      "2019-05-05          438  0.036530  0.043379  0.047945  0.052511  0.052511   \n",
      "...                 ...       ...       ...       ...       ...       ...   \n",
      "2019-10-15          442  0.065611  0.067873  0.072398  0.072398  0.079186   \n",
      "2019-10-16          436  0.045872  0.048165  0.057339  0.057339  0.057339   \n",
      "2019-10-17          449  0.060134  0.066815  0.073497  0.073497  0.075724   \n",
      "2019-10-18          591  0.081218  0.082910  0.084602  0.086294  0.087986   \n",
      "2019-10-19          588  0.061224  0.066327  0.073129  0.076531  0.078231   \n",
      "\n",
      "                 5.0       6.0       7.0       8.0       9.0      10.0  \\\n",
      "dt                                                                       \n",
      "2019-05-01  0.076923  0.076923  0.079487  0.082051  0.082051  0.082051   \n",
      "2019-05-02  0.068111  0.068111  0.068111  0.068111  0.068111  0.071207   \n",
      "2019-05-03  0.083815  0.083815  0.083815  0.083815  0.083815  0.083815   \n",
      "2019-05-04  0.085339  0.087527  0.089716  0.089716  0.091904  0.091904   \n",
      "2019-05-05  0.052511  0.052511  0.052511  0.052511  0.052511  0.052511   \n",
      "...              ...       ...       ...       ...       ...       ...   \n",
      "2019-10-15  0.081448  0.083710  0.083710  0.083710  0.085973  0.085973   \n",
      "2019-10-16  0.059633  0.059633  0.059633  0.059633  0.059633  0.059633   \n",
      "2019-10-17  0.075724  0.077951  0.077951  0.080178  0.080178  0.080178   \n",
      "2019-10-18  0.087986  0.091371  0.091371  0.091371  0.093063  0.094755   \n",
      "2019-10-19  0.081633  0.081633  0.081633  0.083333  0.083333  0.083333   \n",
      "\n",
      "                11.0      12.0      13.0  \n",
      "dt                                        \n",
      "2019-05-01  0.082051  0.082051  0.082051  \n",
      "2019-05-02  0.071207  0.071207  0.071207  \n",
      "2019-05-03  0.083815  0.083815  0.086705  \n",
      "2019-05-04  0.091904  0.091904  0.091904  \n",
      "2019-05-05  0.052511  0.052511  0.052511  \n",
      "...              ...       ...       ...  \n",
      "2019-10-15  0.085973  0.085973  0.085973  \n",
      "2019-10-16  0.059633  0.059633  0.061927  \n",
      "2019-10-17  0.080178  0.080178  0.080178  \n",
      "2019-10-18  0.094755  0.094755  0.094755  \n",
      "2019-10-19  0.085034  0.086735  0.086735  \n",
      "\n",
      "[172 rows x 15 columns]\n"
     ]
    }
   ],
   "source": [
    "conversion_raw, conversion, conversion_history = get_conversion(\n",
    "    profiles1, orders, datetime(2019, 11, 1).date(), 14\n",
    ")\n",
    "\n",
    "print(conversion)  # таблица конверсии\n",
    "print()\n",
    "print(conversion_history)  # таблица динамики конверсии "
   ]
  },
  {
   "cell_type": "code",
   "execution_count": 60,
   "metadata": {},
   "outputs": [
    {
     "name": "stdout",
     "output_type": "stream",
     "text": [
      "Общее количество новых пользователей: 88644 88644\n"
     ]
    }
   ],
   "source": [
    "# сумма размеров когорт равна числу новых клиентов в изучаемый период?\n",
    "\n",
    "report = profiles1.query(\n",
    "    # в профилях находим пользователей, привлечённых с 1 по 19 октября\n",
    "    'datetime(2019, 5, 1).date() <= dt <= datetime(2019, 10, 19).date()'\n",
    ")\n",
    "print(\n",
    "    # считаем уникальных пользователей в профилях и складываем размеры когорт\n",
    "    'Общее количество новых пользователей: {} {}'.format(\n",
    "        len(report['user_id'].unique()), conversion['cohort_size'].sum()\n",
    "    )\n",
    ") "
   ]
  },
  {
   "cell_type": "markdown",
   "metadata": {},
   "source": [
    "Вывод: Количество пользователей совпадает — здесь проблем нет."
   ]
  },
  {
   "cell_type": "code",
   "execution_count": 61,
   "metadata": {},
   "outputs": [
    {
     "data": {
      "image/png": "[encoded data removed]",
      "text/plain": [
       "<Figure size 720x360 with 1 Axes>"
      ]
     },
     "metadata": {
      "needs_background": "light"
     },
     "output_type": "display_data"
    }
   ],
   "source": [
    "report = conversion.drop(columns=['cohort_size'])\n",
    "report.T.plot(grid=True, xticks=list(report.columns.values), figsize=(10, 5))\n",
    "plt.title('Кривая конверсии')\n",
    "plt.show() "
   ]
  },
  {
   "cell_type": "markdown",
   "metadata": {},
   "source": [
    "Вывод: кривая конверсии выглядит нормально."
   ]
  },
  {
   "cell_type": "code",
   "execution_count": 62,
   "metadata": {},
   "outputs": [
    {
     "name": "stdout",
     "output_type": "stream",
     "text": [
      "           cohort_size 0.0 1.0 2.0 3.0 4.0 5.0 6.0 7.0 8.0 9.0 10.0 11.0 12.0  \\\n",
      "cohort                                                                          \n",
      "All users        88644                                                          \n",
      "\n",
      "          13.0  \n",
      "cohort          \n",
      "All users       \n"
     ]
    }
   ],
   "source": [
    "print(conversion[conversion > 1].fillna('')) "
   ]
  },
  {
   "cell_type": "code",
   "execution_count": 63,
   "metadata": {},
   "outputs": [
    {
     "name": "stdout",
     "output_type": "stream",
     "text": [
      "            cohort_size 0.0 1.0 2.0 3.0 4.0 5.0 6.0 7.0 8.0 9.0 10.0 11.0  \\\n",
      "dt                                                                          \n",
      "2019-05-01          390                                                     \n",
      "2019-05-02          323                                                     \n",
      "2019-05-03          346                                                     \n",
      "2019-05-04          457                                                     \n",
      "2019-05-05          438                                                     \n",
      "...                 ...  ..  ..  ..  ..  ..  ..  ..  ..  ..  ..  ...  ...   \n",
      "2019-10-15          442                                                     \n",
      "2019-10-16          436                                                     \n",
      "2019-10-17          449                                                     \n",
      "2019-10-18          591                                                     \n",
      "2019-10-19          588                                                     \n",
      "\n",
      "           12.0 13.0  \n",
      "dt                    \n",
      "2019-05-01            \n",
      "2019-05-02            \n",
      "2019-05-03            \n",
      "2019-05-04            \n",
      "2019-05-05            \n",
      "...         ...  ...  \n",
      "2019-10-15            \n",
      "2019-10-16            \n",
      "2019-10-17            \n",
      "2019-10-18            \n",
      "2019-10-19            \n",
      "\n",
      "[172 rows x 15 columns]\n"
     ]
    }
   ],
   "source": [
    "print(conversion_history[conversion_history > 1].fillna('')) "
   ]
  },
  {
   "cell_type": "code",
   "execution_count": 64,
   "metadata": {},
   "outputs": [
    {
     "name": "stdout",
     "output_type": "stream",
     "text": [
      "Количество уникальных покупателей из таблицы конверсии: 6803\n"
     ]
    }
   ],
   "source": [
    "# рассчитываем число покупателей по данным из таблицы конверсии\n",
    "\n",
    "print(\n",
    "    'Количество уникальных покупателей из таблицы конверсии: {:.0f}'.format(\n",
    "        conversion['cohort_size'][0] * conversion[6][0]\n",
    "    )\n",
    ") "
   ]
  },
  {
   "cell_type": "code",
   "execution_count": 65,
   "metadata": {},
   "outputs": [
    {
     "name": "stdout",
     "output_type": "stream",
     "text": [
      "Количество уникальных покупателей из таблицы заказов: 6803\n"
     ]
    }
   ],
   "source": [
    "# рассчитываем число покупателей по данным о покупках\n",
    "\n",
    "# берём данные пользователей, привлечённых между 1 и 19 октября \n",
    "report = orders.merge(\n",
    "    profiles1.query(\n",
    "        'datetime(2019, 5, 1).date() <= dt <= datetime(2019, 10, 19).date()'\n",
    "    ),\n",
    "    on='user_id',\n",
    ")\n",
    "# рассчитываем лайфтайм для каждой покупки\n",
    "report['lifetime'] = (report['event_dt'] - report['first_ts']).dt.days\n",
    "# исключаем лишние лайфтаймы\n",
    "report = report.query('lifetime <= 6')\n",
    "\n",
    "print(\n",
    "    'Количество уникальных покупателей из таблицы заказов: {:.0f}'.format(\n",
    "        len(report['user_id'].unique())\n",
    "    )\n",
    ") "
   ]
  },
  {
   "cell_type": "markdown",
   "metadata": {},
   "source": [
    "Вывод: количество уникальных покупателей, рассчитанное двумя способами совпадает. Другие тесты пройдены. Соответственно расчет сделан без ошибок."
   ]
  },
  {
   "cell_type": "markdown",
   "metadata": {},
   "source": [
    "<div class=\"alert alert-block alert-danger\">✍\n",
    "    \n",
    "\n",
    "__Комментарий от ревьюера №1__\n",
    "\n",
    "Немного не так. Код для расчёта конверсии и удержания можно взять из тренажера: Юнит экономика - Разбор кейса\n",
    "</div>"
   ]
  },
  {
   "cell_type": "markdown",
   "metadata": {},
   "source": [
    "<div class=\"alert alert-info\"> <b>Комментарии студента:</b>\n",
    "    Я не понял, что не так. profiles я заменил на profiles1. Итоговые цифры расчетов изменились, но равны друг другу. Код для расчета конверсии и удержания я и так изначально взял из тренажера: Юнит экономика - Разбор кейса. </div>"
   ]
  },
  {
   "cell_type": "markdown",
   "metadata": {},
   "source": [
    "<div class=\"alert alert-block alert-danger\">✍\n",
    "    \n",
    "\n",
    "__Комментарий от ревьюера №2__\n",
    "\n",
    "Даниил, смотри: неже вывел код для подсчёта конверсии и удержания пользователей (без разбивки по метрикам). В конце раздела, покажу, как сделать с разбивкой. Добавь, пожалуйста, выводы\n",
    "</div>"
   ]
  },
  {
   "cell_type": "markdown",
   "metadata": {},
   "source": [
    "<div class=\"alert alert-info\"> <b>Комментарии студента:</b>\n",
    "    Выводы добавил</div>"
   ]
  },
  {
   "cell_type": "code",
   "execution_count": null,
   "metadata": {},
   "outputs": [],
   "source": [
    "conversion_raw, conversion_grouped, conversion_history = get_conversion(\n",
    "    profiles, orders, observation_date, horizon_days)\n",
    "\n",
    "plot_conversion(conversion_grouped, conversion_history, horizon_days) "
   ]
  },
  {
   "cell_type": "markdown",
   "metadata": {},
   "source": [
    "Вывод: Кривая конверсии всех пользователей выглядит нормально. Чем больше человек пользуется приложением, тем больше вероятность того, что он в будущем станет платящим пользователем. Динамика конверсии на 14-й день в целом сильно не менялась в течение нескольких месяцев. Можно выделить Май и Июнь месяц."
   ]
  },
  {
   "cell_type": "code",
   "execution_count": null,
   "metadata": {},
   "outputs": [],
   "source": [
    "# считаем удержание пользователей\n",
    "retention_raw, retention_grouped, retention_history = get_retention(\n",
    "    profiles, sessions, observation_date, horizon_days)\n",
    "\n",
    "# строим графики удержания с разбивкой на платящих и неплатящих пользователей\n",
    "plot_retention(retention_grouped, retention_history, horizon_days)"
   ]
  },
  {
   "cell_type": "markdown",
   "metadata": {},
   "source": [
    "Вывод: Кривые удержания платящих и неплатящих пользователей выглядят нормально. Но динамика удержания именно платящих пользователей сильно просядает в конце Октября месяца(исследумоего периода)."
   ]
  },
  {
   "cell_type": "markdown",
   "metadata": {},
   "source": [
    "<div class=\"alert alert-block alert-success\">✔️\n",
    "    \n",
    "\n",
    "__Комментарий от ревьюера №3__\n",
    "\n",
    "Хорошо, анализ конверсии и удержания корректен"
   ]
  },
  {
   "cell_type": "markdown",
   "metadata": {},
   "source": [
    "#### Анализ окупаемости рекламы с разбивкой по устройствам"
   ]
  },
  {
   "cell_type": "code",
   "execution_count": null,
   "metadata": {
    "scrolled": false
   },
   "outputs": [],
   "source": [
    "dimensions = ['device']\n",
    "\n",
    "ltv_raw, ltv_grouped, ltv_history, roi_grouped, roi_history = get_ltv(\n",
    "    profiles1, orders, observation_date, horizon_days, dimensions=dimensions\n",
    ")\n",
    "\n",
    "plot_ltv_roi(\n",
    "    ltv_grouped, ltv_history, roi_grouped, roi_history, horizon_days, window=14\n",
    ") "
   ]
  },
  {
   "cell_type": "code",
   "execution_count": null,
   "metadata": {},
   "outputs": [],
   "source": [
    "conversion_raw, conversion_grouped, conversion_history = get_conversion(\n",
    "    profiles, orders, observation_date, horizon_days, dimensions=dimensions\n",
    ")\n",
    "\n",
    "plot_conversion(conversion_grouped, conversion_history, horizon_days) "
   ]
  },
  {
   "cell_type": "code",
   "execution_count": null,
   "metadata": {},
   "outputs": [],
   "source": [
    "retention_raw, retention_grouped, retention_history = get_retention(\n",
    "    profiles, sessions, observation_date, horizon_days, dimensions=dimensions\n",
    ")\n",
    "\n",
    "plot_retention(retention_grouped, retention_history, horizon_days) "
   ]
  },
  {
   "cell_type": "markdown",
   "metadata": {},
   "source": [
    "Вывод: как мы видим по всем девайсам LTV примерно одинаковый. Лучше всего конвертятся пользователи Mac, Iphone. Но из-за сильно увеличевшийся стоимости привлечения пользователей Mac, Iphone, Android лишь только пользователи PC являются прибыльными. Хотя после нескольких месяцев и пользователи PC показывают плохую динамику. Динамика удержания за все время сильно не изменилась"
   ]
  },
  {
   "cell_type": "markdown",
   "metadata": {},
   "source": [
    "<div class=\"alert alert-block alert-success\">✔️\n",
    "    \n",
    "\n",
    "__Комментарий от ревьюера №2__\n",
    "\n",
    "С окупаемостью проблемы по всем устройствам кроме PC. Это значит, что у нас, по крайней мере, нет технических проблем, влияющих на монетизацию;\n",
    "</div>"
   ]
  },
  {
   "cell_type": "markdown",
   "metadata": {},
   "source": [
    "#### Анализ окупаемости рекламы с разбивкой по странам"
   ]
  },
  {
   "cell_type": "code",
   "execution_count": null,
   "metadata": {},
   "outputs": [],
   "source": [
    "dimensions = ['region']\n",
    "\n",
    "ltv_raw, ltv_grouped, ltv_history, roi_grouped, roi_history = get_ltv(\n",
    "    profiles1, orders, observation_date, horizon_days, dimensions=dimensions\n",
    ")\n",
    "\n",
    "plot_ltv_roi(\n",
    "    ltv_grouped, ltv_history, roi_grouped, roi_history, horizon_days, window=14\n",
    ") "
   ]
  },
  {
   "cell_type": "code",
   "execution_count": null,
   "metadata": {},
   "outputs": [],
   "source": [
    "conversion_raw, conversion_grouped, conversion_history = get_conversion(\n",
    "    profiles, orders, observation_date, horizon_days, dimensions=dimensions\n",
    ")\n",
    "\n",
    "plot_conversion(conversion_grouped, conversion_history, horizon_days) "
   ]
  },
  {
   "cell_type": "code",
   "execution_count": null,
   "metadata": {},
   "outputs": [],
   "source": [
    "retention_raw, retention_grouped, retention_history = get_retention(\n",
    "    profiles, sessions, observation_date, horizon_days, dimensions=dimensions\n",
    ")\n",
    "\n",
    "plot_retention(retention_grouped, retention_history, horizon_days) "
   ]
  },
  {
   "cell_type": "markdown",
   "metadata": {},
   "source": [
    "Вывод: мы видим, что по всем странам LTV примерно одинаковый. Выделяется только США, у пользователей из этой страны LTV немного больше. Конвертятся пользователей из США тоже лучше остальных, а вот удержать этих пользователей сложнее, чем других. Также стоимость привлечения клиентов в этой стране кратно больше, чем в других регионах. Поэтому показатель ROI показывает, что убытки мы наблюдаем именно от пользователей из США. Получается, что в США не только тяжело приобрести нового клиента, но и удердать его в приложении тоже является проблемой."
   ]
  },
  {
   "cell_type": "markdown",
   "metadata": {},
   "source": [
    "<div class=\"alert alert-block alert-success\">✔️\n",
    "    \n",
    "\n",
    "__Комментарий от ревьюера №2__\n",
    "\n",
    "Все верно. Нужно разбираться детальнее с рекламой в США, тем более, что это наш основной рынок. "
   ]
  },
  {
   "cell_type": "markdown",
   "metadata": {},
   "source": [
    "#### Анализ окупаемости рекламы с разбивкой по каналам привлечения"
   ]
  },
  {
   "cell_type": "code",
   "execution_count": null,
   "metadata": {
    "scrolled": false
   },
   "outputs": [],
   "source": [
    "# смотрим окупаемость с разбивкой по устройствам\n",
    "\n",
    "dimensions = ['channel']\n",
    "\n",
    "ltv_raw, ltv_grouped, ltv_history, roi_grouped, roi_history = get_ltv(\n",
    "    profiles1, orders, observation_date, horizon_days, dimensions=dimensions\n",
    ")\n",
    "\n",
    "plot_ltv_roi(\n",
    "    ltv_grouped, ltv_history, roi_grouped, roi_history, horizon_days, window=14\n",
    ") "
   ]
  },
  {
   "cell_type": "code",
   "execution_count": null,
   "metadata": {},
   "outputs": [],
   "source": [
    "conversion_raw, conversion_grouped, conversion_history = get_conversion(\n",
    "    profiles, orders, observation_date, horizon_days, dimensions=dimensions\n",
    ")\n",
    "\n",
    "plot_conversion(conversion_grouped, conversion_history, horizon_days) "
   ]
  },
  {
   "cell_type": "code",
   "execution_count": null,
   "metadata": {},
   "outputs": [],
   "source": [
    "retention_raw, retention_grouped, retention_history = get_retention(\n",
    "    profiles, sessions, observation_date, horizon_days, dimensions=dimensions\n",
    ")\n",
    "\n",
    "plot_retention(retention_grouped, retention_history, horizon_days) "
   ]
  },
  {
   "cell_type": "markdown",
   "metadata": {},
   "source": [
    "Вывод: По рекламным источникам мы можем наблюдать, что LTV TipTop и lambdaMediaAds значительно выше других источников. При этом стоимость привлечение юзера из TipTop очень сильно выросла, а у всех других источников осталось +- на том же уровне. FaceBoom вообще не показывает изменений в цене, но тоже является одним из самых дорогих. И как мы видим по показателю ROI источники, которые приносят платежных клиентов с большей долей являются убыточными(TipTop, FaceBoom, AdNonSense). Скорее всего, проблема TipTop заключается в его дороговизне в плане привлечения клиентов, а с FaceBoom и AdNonSense можно явно заметить, что кривые удержание клиентов, который пришли с этих платформ достаточно сильно отстают от остальных рекламных каналов. Из-за этого их показатель ROI убыточен, у них хорошая конвертация \"юзеров\" в платящих пользователей, но плохое удержание клиентов в приложении - видимо люди, которые приходят через эти траффики имееют достаток, но не сильно заинтересованы в нашем продукте."
   ]
  },
  {
   "cell_type": "markdown",
   "metadata": {},
   "source": [
    "<div class=\"alert alert-block alert-success\">✔️\n",
    "    \n",
    "\n",
    "__Комментарий от ревьюера №2__\n",
    "    \n",
    "Да, действительно, есть проблемы с каналом TipTop, видим значительный рост затрат на привлечение.\n",
    "</div>"
   ]
  },
  {
   "cell_type": "markdown",
   "metadata": {},
   "source": [
    "<div class=\"alert alert-block alert-danger\">✍\n",
    "    \n",
    "\n",
    "__Комментарий от ревьюера №1__\n",
    "\n",
    "Лучше после каждого раздела, графика (или серии тестов) писать вывод по полученным данным с учетом поставленной бизнес задачи - так проще читать проект, поскольку будущим коллегам или заказчику не надо будет самим интерпретировать результаты каждого раздела, теста или графика.\n",
    "</div>"
   ]
  },
  {
   "cell_type": "markdown",
   "metadata": {},
   "source": [
    "<div class=\"alert alert-info\"> <b>Комментарии студента:</b>\n",
    "    Добавил </div>"
   ]
  },
  {
   "cell_type": "markdown",
   "metadata": {},
   "source": [
    "<div class=\"alert alert-block alert-danger\">✍\n",
    "    \n",
    "\n",
    "__Комментарий от ревьюера №1__\n",
    "\n",
    "Анализ не полный, т.к. проблемы могут быть в удержании каналов/стран/устройств/, а без анализа конверсии и удержания, мы не сможем дать рекомендации маркетологам.\n",
    "</div>"
   ]
  },
  {
   "cell_type": "markdown",
   "metadata": {},
   "source": [
    "<div class=\"alert alert-info\"> <b>Комментарии студента:</b>\n",
    "    Наверное, я не понимаю, что от меня требуется. Я строил таблицы динамики конверсии и удержания в пункте 5.2 , проверил их. </div>"
   ]
  },
  {
   "attachments": {
    "image.png": {
     "image/png": "[encoded data removed]"
    }
   },
   "cell_type": "markdown",
   "metadata": {},
   "source": [
    "<div class=\"alert alert-block alert-danger\">✍\n",
    "    \n",
    "\n",
    "__Комментарий от ревьюера №2__\n",
    "    \n",
    "    \n",
    "Даниил, в тренажере имеется код для расчёта конверсии и удержания для девайсов. Его можно использовать, чтобы в нашем проекте рассмотреть конверсию и удержание для стран / каналов / устройств. Бгодаря этим данным, мы можем оценить, какие источники хорошо себя показывают, а какие хуже. Поправь, пожалуйста\n",
    "\n",
    "![image.png](attachment:image.png)\n",
    "</div>"
   ]
  },
  {
   "cell_type": "markdown",
   "metadata": {},
   "source": [
    "<div class=\"alert alert-info\"> <b>Комментарии студента:</b>\n",
    "    Добавил </div>"
   ]
  },
  {
   "cell_type": "markdown",
   "metadata": {},
   "source": [
    "<div class=\"alert alert-block alert-success\">✔️\n",
    "    \n",
    "\n",
    "__Комментарий от ревьюера №3__\n",
    "\n",
    "Хорошо, анализ конверсии и удержания корректен, согласен с интерпретацией результатов. Проблемные источники определены верно."
   ]
  },
  {
   "cell_type": "markdown",
   "metadata": {},
   "source": [
    "#### Расчет окупаемости рекламы в целом"
   ]
  },
  {
   "cell_type": "code",
   "execution_count": null,
   "metadata": {},
   "outputs": [],
   "source": [
    "#total_revenue=orders['revenue'].sum()"
   ]
  },
  {
   "cell_type": "code",
   "execution_count": null,
   "metadata": {},
   "outputs": [],
   "source": [
    "#print(total_revenue-total_costs)"
   ]
  },
  {
   "cell_type": "code",
   "execution_count": null,
   "metadata": {},
   "outputs": [],
   "source": [
    "orders1=orders.merge(profiles[['channel','user_id']], on='user_id', how='left')"
   ]
  },
  {
   "cell_type": "code",
   "execution_count": null,
   "metadata": {},
   "outputs": [],
   "source": [
    "orders1=orders1[orders1['channel'] != 'organic']\n",
    "total_revenue1=orders1['revenue'].sum()\n",
    "print(total_revenue1 - total_costs)"
   ]
  },
  {
   "cell_type": "markdown",
   "metadata": {},
   "source": [
    "<div class=\"alert alert-info\"> <b>Комментарии студента:</b>\n",
    "    Исправил расчет окупаемости в целом, удалив покупки органического трафика. Мне кажется так правильно будет </div>"
   ]
  },
  {
   "cell_type": "markdown",
   "metadata": {},
   "source": [
    "Вывод: \n",
    "\n",
    "Да, как мы видим из пункта 5.6 - в целом реклама окупается.\n",
    "\n",
    "Негативное влияние на рекламную кампанию приложения в целом оказывают следующие страны: США\n",
    "Стоимость привлечения клиента в этой стране за несколько месяцев стала очень большой.\n",
    "Негативное влияние на рекламную кампанию приложения в целом оказывают следующие девайсы: Iphone, Mac\n",
    "Стоимость привлечения клиента, использующих Mac, Iphone значительно выросла. Гораздо сильнее чем стоимость привлечения пользователей Android и PC.\n",
    "Негативное влияние на рекламную кампанию приложения в целом оказывают следующие каналы привлечения: FaceBoom, TipTop, Adnonsense\n",
    "На удивление данные источники рекламы являются фаворитами по доле платящих людей, НО являются очень дорогими относительно других рекламных каналов.\n",
    "\n",
    "Проблемы окупаемости связаны в первую очередь с кратным увеличинием стоимости привлечения клиента в достаточно короткий срок (несколько месяцев). Также естественно неправильное распределение бюджета по странам происхождения, каналам привлечения, девайсам использования клиента."
   ]
  },
  {
   "cell_type": "markdown",
   "metadata": {
    "id": "Jn9XBfZCWVwo"
   },
   "source": [
    "### Напишите выводы\n",
    "\n",
    "- Выделите причины неэффективности привлечения пользователей.\n",
    "- Сформулируйте рекомендации для отдела маркетинга."
   ]
  },
  {
   "cell_type": "markdown",
   "metadata": {},
   "source": [
    "Главной целью данного проекта был анализ рекламных кампаний приложения и поиск рекоммендация для вывода компании в плюс.\n",
    "\n",
    "Мною были извлечены данные, в последствии обработаны. Построены функции для расчета и анализа LTV, ROI, удержания и конверсии.\n",
    "Также я осуществил исследовательский анализ данных, анализ маркетинга и оценка окупаемости рекламы как в целом, так и в разбивке по различным категориям.\n",
    "\n",
    "В целом мы ранее посчитали на данный момент привлеченный клиенты приносят больше денег, чем уходит на их привлечение. Но у нашего приложения есть потенциальная возможность значительно увеличить свою прибыль. Во-первых, нужно отметить тот факт, что на данный момент не целесообразно работать с клиентами из США. Их привлечение стоит слишком дорого и по итогу данные клиенты не окупаются. Во-вторых, нужно обратить внимание на девайсы, используемые пользователями. Несмотря на то что пользователи Mac и Iphone чаще производят оплату внутри приложения, стоимость их привлечения тоже достаточно велика. Поэтому стоит сконцентрироваться на \"юзерах\", которые используеют Android и PC.  \n",
    "Чтобы увеличить нашу прибыль мы должны ориентироваться на пользователей Android и PC из следующих стран: Франция, Германия, Великобритания. Касательно рекламных каналов моя рекомендация:протестировать их на коротком промежутке времени с учетом выбранных девайсов и стран пользователей и в последствии распределить следующий рекламный бюджет в зависимости от их окупаемости. \n",
    "Также нужно провести работу по имеющимся рекламным источникам - отказаться от ресурсов TipTop, FaceBoom, Adnonsense, поскольку привлекаемые клиенты через эти каналы по итогу не окупаются. \n",
    "Альтернативные каналы на которые стоит обратить внимание: Yrabbit, MediaTornado, lambdaMediaAds, RocketSuperAds. \n",
    "Данные каналы показывают хорошую динамику удержания и конверсии. Их ROI находится на приемлимом уровне. Инвестируя в рекламу по этим каналам мы можем значительно увеличить прибыль компании. Советую также выделить ограниченный бюджет на остальные источники, промониторить динамику в течение двух недель, поскольку при сузившемся выборе потенциальных клиентов - возможно ROI остальных рекламных каналов станет выше уровня окупаемости."
   ]
  },
  {
   "cell_type": "markdown",
   "metadata": {},
   "source": [
    "<div class=\"alert alert-block alert-danger\">✍\n",
    "    \n",
    "\n",
    "__Комментарий от ревьюера №1__\n",
    "        \n",
    "Шикарный вывод, молодец, что в итоговом выводе сформулировал рекомендации для отдела маркетинга. Давай напишем про каналы, от которых стоит отказаться. Давай предложти альтернативные каналы, по которому показатели конверсии, удержания и ROI на приемлемом уровне. Как думаешь, а канал `Yrabbit` подойдет?"
   ]
  },
  {
   "cell_type": "markdown",
   "metadata": {},
   "source": [
    "<div class=\"alert alert-info\"> <b>Комментарии студента:</b>\n",
    "    Скорректировал </div>"
   ]
  },
  {
   "cell_type": "markdown",
   "metadata": {},
   "source": [
    "<div class=\"alert alert-block alert-warning\">📝\n",
    "    \n",
    "\n",
    "__Комментарий от ревьюера №2__\n",
    "\n",
    "Отлично, давай теперь посмотрим на конверсию и удержание. И возможно пересмотрим выводы?\n",
    "</div>"
   ]
  },
  {
   "cell_type": "markdown",
   "metadata": {},
   "source": [
    "<div class=\"alert alert-block alert-warning\">📝\n",
    "    \n",
    "\n",
    "__Комментарий от ревьюера №3__\n",
    "        \n",
    "Я бы не рекомендовал вкладываться в канал `Yrabbit`. Почему я так думаю: да, канал сейчас окупается, потому что там низкий CAC. Фактически мы сейчас сильно много не платим за новых клиентов (CAC = 0,21) . И уже на этих клиентах (которые обошлись нам недорого) мы сможем спрогнозировать будущую картину. Они имеют низкую конвертируемость и сильно падающее удержание на последних днях горизонта. Т.е. можно сделать вывод, что им не интересно наше приложение. Возможно, это просто не наша аудитория. Они не заинтересованы в нашем приложении"
   ]
  },
  {
   "cell_type": "code",
   "execution_count": null,
   "metadata": {},
   "outputs": [],
   "source": []
  },
  {
   "cell_type": "markdown",
   "metadata": {
    "id": "Y8A6E79yWVwo"
   },
   "source": [
    "<div class=\"alert alert-block alert-warning\">📝\n",
    "Комментарий от ревьюера №1 </b> \n",
    "\n",
    "\n",
    "\n",
    "У тебя получилась очень сильная и хорошая работа. Здорово, что расчеты ты сопровождаешь иллюстрациями, а так же не забываешь про комментарии, твой проект интересно проверять. \n",
    "\n",
    "---\n",
    "\n",
    "Нужно поправить:\n",
    "\n",
    "1) Оформление графиков\n",
    "\n",
    "2) После каждого раздела / графика (или серии тестов) писать вывод по полученным данным с учетом поставленной бизнес задачи\n",
    "\n",
    "3) Из расчетов нам следует исключить пользователей с органическим трафиком\n",
    "\n",
    "4) Конверсия и удержание по метрикам (страны / каналы / девайсы) (расчёт взять из тренажера)\n",
    "\n",
    "5) Финальный вывод\n",
    "\n",
    "6) Подправить выводы, после изменений\n",
    "\n",
    "----\n",
    "\n",
    "\n",
    "Если у тебя будут какие-то вопросы по моим комментариям - обязательно пиши! Буду ждать работу на повторное ревью :)</div>"
   ]
  },
  {
   "cell_type": "markdown",
   "metadata": {},
   "source": [
    "<div class=\"alert alert-block alert-warning\">📝\n",
    "Комментарий от ревьюера №2 </b> \n",
    "\n",
    "\n",
    "\n",
    "Отличная работа. Осталось поправить пару моментов:\n",
    "\n",
    "---\n",
    "\n",
    "Нужно поправить:\n",
    "\n",
    "1) Шаг 5.2 описать выводы по конверсии и удержанию для всех пользователей (без разбивки)\n",
    "\n",
    "2) Конверсия и удержание по метрикам (страны / каналы / девайсы) (расчёт взять из тренажера)\n",
    "\n",
    "3) Подправить выводы, после изменений\n",
    "\n",
    "----\n",
    "\n",
    "\n",
    "Если у тебя будут какие-то вопросы по моим комментариям - обязательно пиши! Буду ждать работу на повторное ревью :)</div>"
   ]
  },
  {
   "cell_type": "markdown",
   "metadata": {},
   "source": [
    "<div style=\"border:solid blue 3px; padding: 20px\">\n",
    "<div class=\"alert alert-block alert-success\">✔️\n",
    "    \n",
    "\n",
    "__Коментарий от ревьюера №3__\n",
    "\n",
    "    \n",
    "В остальном всё чудно😊. Твой проект так и просится на github =)   \n",
    "    \n",
    "Поздравляю с успешным завершением проекта 😊👍\n",
    "И желаю успехов в новых работах 😊\n",
    "\n",
    "---\n",
    "\n",
    "От себя хочу порекомендовать тебе отличную книгу про язык Python. Она очень классная (можно купить как новую, так и на Авито попадается. Вот ссылка на pdf этой книги)\n",
    "    \n",
    "https://monster-book.com/avtomatizaciya-zadach-s-python\n",
    "    "
   ]
  },
  {
   "cell_type": "code",
   "execution_count": null,
   "metadata": {},
   "outputs": [],
   "source": []
  }
 ],
 "metadata": {
  "ExecuteTimeLog": [
   {
    "duration": 418,
    "start_time": "2022-12-04T17:21:58.588Z"
   },
   {
    "duration": 1716,
    "start_time": "2022-12-04T17:23:11.747Z"
   },
   {
    "duration": 196,
    "start_time": "2022-12-04T17:23:18.127Z"
   },
   {
    "duration": 59,
    "start_time": "2022-12-04T17:23:18.945Z"
   },
   {
    "duration": 388,
    "start_time": "2022-12-04T17:24:46.334Z"
   },
   {
    "duration": 632,
    "start_time": "2022-12-04T17:24:46.724Z"
   },
   {
    "duration": 55,
    "start_time": "2022-12-04T17:30:32.791Z"
   },
   {
    "duration": 60,
    "start_time": "2022-12-04T17:30:59.027Z"
   },
   {
    "duration": 8,
    "start_time": "2022-12-04T17:31:32.053Z"
   },
   {
    "duration": 7,
    "start_time": "2022-12-04T17:32:09.766Z"
   },
   {
    "duration": 235,
    "start_time": "2022-12-04T17:34:32.078Z"
   },
   {
    "duration": 11,
    "start_time": "2022-12-04T17:35:27.350Z"
   },
   {
    "duration": 126,
    "start_time": "2022-12-04T17:39:52.502Z"
   },
   {
    "duration": 36,
    "start_time": "2022-12-04T17:40:05.874Z"
   },
   {
    "duration": 32,
    "start_time": "2022-12-04T17:43:13.599Z"
   },
   {
    "duration": 11,
    "start_time": "2022-12-04T17:44:09.805Z"
   },
   {
    "duration": 15,
    "start_time": "2022-12-04T17:44:37.124Z"
   },
   {
    "duration": 10,
    "start_time": "2022-12-04T17:44:58.201Z"
   },
   {
    "duration": 7,
    "start_time": "2022-12-04T17:45:26.576Z"
   },
   {
    "duration": 12,
    "start_time": "2022-12-04T17:46:45.062Z"
   },
   {
    "duration": 5,
    "start_time": "2022-12-04T17:46:57.358Z"
   },
   {
    "duration": 8,
    "start_time": "2022-12-04T17:47:09.569Z"
   },
   {
    "duration": 4,
    "start_time": "2022-12-04T17:47:57.135Z"
   },
   {
    "duration": 6,
    "start_time": "2022-12-04T17:48:15.856Z"
   },
   {
    "duration": 11,
    "start_time": "2022-12-04T17:48:27.080Z"
   },
   {
    "duration": 1187,
    "start_time": "2022-12-04T17:59:39.677Z"
   },
   {
    "duration": 11,
    "start_time": "2022-12-04T17:59:55.175Z"
   },
   {
    "duration": 397,
    "start_time": "2022-12-04T17:59:59.479Z"
   },
   {
    "duration": 680,
    "start_time": "2022-12-04T17:59:59.878Z"
   },
   {
    "duration": 59,
    "start_time": "2022-12-04T18:00:00.560Z"
   },
   {
    "duration": 267,
    "start_time": "2022-12-04T18:00:00.621Z"
   },
   {
    "duration": 12,
    "start_time": "2022-12-04T18:00:00.890Z"
   },
   {
    "duration": 147,
    "start_time": "2022-12-04T18:00:00.912Z"
   },
   {
    "duration": 37,
    "start_time": "2022-12-04T18:00:01.060Z"
   },
   {
    "duration": 42,
    "start_time": "2022-12-04T18:00:01.099Z"
   },
   {
    "duration": 38,
    "start_time": "2022-12-04T18:00:01.143Z"
   },
   {
    "duration": 25,
    "start_time": "2022-12-04T18:00:01.183Z"
   },
   {
    "duration": 32,
    "start_time": "2022-12-04T18:00:01.209Z"
   },
   {
    "duration": 55,
    "start_time": "2022-12-04T18:00:01.242Z"
   },
   {
    "duration": 46,
    "start_time": "2022-12-04T18:00:01.299Z"
   },
   {
    "duration": 17,
    "start_time": "2022-12-04T18:00:01.346Z"
   },
   {
    "duration": 54,
    "start_time": "2022-12-04T18:00:01.365Z"
   },
   {
    "duration": 34,
    "start_time": "2022-12-04T18:00:01.421Z"
   },
   {
    "duration": 42,
    "start_time": "2022-12-04T18:00:01.457Z"
   },
   {
    "duration": 32,
    "start_time": "2022-12-04T18:00:01.501Z"
   },
   {
    "duration": 21,
    "start_time": "2022-12-04T18:00:01.535Z"
   },
   {
    "duration": 36,
    "start_time": "2022-12-04T18:00:01.558Z"
   },
   {
    "duration": 417,
    "start_time": "2022-12-04T18:04:07.986Z"
   },
   {
    "duration": 649,
    "start_time": "2022-12-04T18:04:08.405Z"
   },
   {
    "duration": 55,
    "start_time": "2022-12-04T18:04:09.056Z"
   },
   {
    "duration": 255,
    "start_time": "2022-12-04T18:04:09.114Z"
   },
   {
    "duration": 4,
    "start_time": "2022-12-04T18:04:09.370Z"
   },
   {
    "duration": 16,
    "start_time": "2022-12-04T18:04:09.376Z"
   },
   {
    "duration": 1214,
    "start_time": "2022-12-04T18:04:09.393Z"
   },
   {
    "duration": 0,
    "start_time": "2022-12-04T18:04:10.609Z"
   },
   {
    "duration": 0,
    "start_time": "2022-12-04T18:04:10.610Z"
   },
   {
    "duration": 0,
    "start_time": "2022-12-04T18:04:10.611Z"
   },
   {
    "duration": 0,
    "start_time": "2022-12-04T18:04:10.612Z"
   },
   {
    "duration": 0,
    "start_time": "2022-12-04T18:04:10.613Z"
   },
   {
    "duration": 0,
    "start_time": "2022-12-04T18:04:10.614Z"
   },
   {
    "duration": 0,
    "start_time": "2022-12-04T18:04:10.615Z"
   },
   {
    "duration": 0,
    "start_time": "2022-12-04T18:04:10.615Z"
   },
   {
    "duration": 0,
    "start_time": "2022-12-04T18:04:10.617Z"
   },
   {
    "duration": 0,
    "start_time": "2022-12-04T18:04:10.618Z"
   },
   {
    "duration": 0,
    "start_time": "2022-12-04T18:04:10.618Z"
   },
   {
    "duration": 0,
    "start_time": "2022-12-04T18:04:10.620Z"
   },
   {
    "duration": 0,
    "start_time": "2022-12-04T18:04:10.622Z"
   },
   {
    "duration": 0,
    "start_time": "2022-12-04T18:04:10.623Z"
   },
   {
    "duration": 125,
    "start_time": "2022-12-04T18:05:36.608Z"
   },
   {
    "duration": 38,
    "start_time": "2022-12-04T18:05:39.331Z"
   },
   {
    "duration": 34,
    "start_time": "2022-12-04T18:05:40.038Z"
   },
   {
    "duration": 12,
    "start_time": "2022-12-04T18:05:50.451Z"
   },
   {
    "duration": 12,
    "start_time": "2022-12-04T18:05:51.187Z"
   },
   {
    "duration": 9,
    "start_time": "2022-12-04T18:05:54.530Z"
   },
   {
    "duration": 8,
    "start_time": "2022-12-04T18:06:09.936Z"
   },
   {
    "duration": 3,
    "start_time": "2022-12-04T18:06:38.461Z"
   },
   {
    "duration": 7,
    "start_time": "2022-12-04T18:06:39.172Z"
   },
   {
    "duration": 10,
    "start_time": "2022-12-04T18:06:51.494Z"
   },
   {
    "duration": 6,
    "start_time": "2022-12-04T18:06:52.100Z"
   },
   {
    "duration": 11,
    "start_time": "2022-12-04T18:06:54.228Z"
   },
   {
    "duration": 11,
    "start_time": "2022-12-04T18:06:58.211Z"
   },
   {
    "duration": 5,
    "start_time": "2022-12-04T18:06:59.717Z"
   },
   {
    "duration": 7,
    "start_time": "2022-12-04T18:07:04.804Z"
   },
   {
    "duration": 3,
    "start_time": "2022-12-04T18:07:28.645Z"
   },
   {
    "duration": 4,
    "start_time": "2022-12-04T18:07:31.868Z"
   },
   {
    "duration": 6,
    "start_time": "2022-12-04T18:07:32.268Z"
   },
   {
    "duration": 10,
    "start_time": "2022-12-04T18:07:32.836Z"
   },
   {
    "duration": 3,
    "start_time": "2022-12-04T18:15:08.492Z"
   },
   {
    "duration": 9,
    "start_time": "2022-12-04T18:15:09.018Z"
   },
   {
    "duration": 60,
    "start_time": "2022-12-04T18:15:27.434Z"
   },
   {
    "duration": 36,
    "start_time": "2022-12-04T18:15:28.051Z"
   },
   {
    "duration": 32,
    "start_time": "2022-12-04T18:15:30.958Z"
   },
   {
    "duration": 4,
    "start_time": "2022-12-04T18:16:10.994Z"
   },
   {
    "duration": 7,
    "start_time": "2022-12-04T18:16:15.141Z"
   },
   {
    "duration": 1110,
    "start_time": "2022-12-04T18:16:18.323Z"
   },
   {
    "duration": 0,
    "start_time": "2022-12-04T18:16:19.435Z"
   },
   {
    "duration": 10,
    "start_time": "2022-12-04T18:16:27.355Z"
   },
   {
    "duration": 6,
    "start_time": "2022-12-04T18:16:28.771Z"
   },
   {
    "duration": 11,
    "start_time": "2022-12-04T18:16:30.578Z"
   },
   {
    "duration": 10,
    "start_time": "2022-12-04T18:16:35.347Z"
   },
   {
    "duration": 6,
    "start_time": "2022-12-04T18:16:36.541Z"
   },
   {
    "duration": 7,
    "start_time": "2022-12-04T18:16:37.236Z"
   },
   {
    "duration": 4,
    "start_time": "2022-12-04T18:16:38.082Z"
   },
   {
    "duration": 4,
    "start_time": "2022-12-04T18:16:39.490Z"
   },
   {
    "duration": 6,
    "start_time": "2022-12-04T18:16:40.499Z"
   },
   {
    "duration": 10,
    "start_time": "2022-12-04T18:16:41.694Z"
   },
   {
    "duration": 858,
    "start_time": "2022-12-04T18:18:01.645Z"
   },
   {
    "duration": 1110,
    "start_time": "2022-12-04T18:18:05.839Z"
   },
   {
    "duration": 620,
    "start_time": "2022-12-04T18:18:06.951Z"
   },
   {
    "duration": 52,
    "start_time": "2022-12-04T18:18:07.573Z"
   },
   {
    "duration": 238,
    "start_time": "2022-12-04T18:18:07.626Z"
   },
   {
    "duration": 3,
    "start_time": "2022-12-04T18:18:07.867Z"
   },
   {
    "duration": 6,
    "start_time": "2022-12-04T18:18:07.871Z"
   },
   {
    "duration": 12,
    "start_time": "2022-12-04T18:18:07.878Z"
   },
   {
    "duration": 139,
    "start_time": "2022-12-04T18:18:07.892Z"
   },
   {
    "duration": 36,
    "start_time": "2022-12-04T18:18:08.033Z"
   },
   {
    "duration": 47,
    "start_time": "2022-12-04T18:18:08.071Z"
   },
   {
    "duration": 12,
    "start_time": "2022-12-04T18:18:08.120Z"
   },
   {
    "duration": 12,
    "start_time": "2022-12-04T18:18:08.133Z"
   },
   {
    "duration": 3,
    "start_time": "2022-12-04T18:18:08.147Z"
   },
   {
    "duration": 4,
    "start_time": "2022-12-04T18:18:08.152Z"
   },
   {
    "duration": 9,
    "start_time": "2022-12-04T18:18:08.158Z"
   },
   {
    "duration": 11,
    "start_time": "2022-12-04T18:18:08.169Z"
   },
   {
    "duration": 35,
    "start_time": "2022-12-04T18:18:08.182Z"
   },
   {
    "duration": 10,
    "start_time": "2022-12-04T18:18:08.219Z"
   },
   {
    "duration": 10,
    "start_time": "2022-12-04T18:18:08.231Z"
   },
   {
    "duration": 5,
    "start_time": "2022-12-04T18:18:08.244Z"
   },
   {
    "duration": 8,
    "start_time": "2022-12-04T18:18:08.251Z"
   },
   {
    "duration": 5,
    "start_time": "2022-12-04T18:18:08.261Z"
   },
   {
    "duration": 9,
    "start_time": "2022-12-04T18:18:08.267Z"
   },
   {
    "duration": 7,
    "start_time": "2022-12-04T18:18:08.314Z"
   },
   {
    "duration": 16,
    "start_time": "2022-12-04T18:18:08.323Z"
   },
   {
    "duration": 8,
    "start_time": "2022-12-04T18:18:08.341Z"
   },
   {
    "duration": 1121,
    "start_time": "2022-12-04T18:22:02.230Z"
   },
   {
    "duration": 624,
    "start_time": "2022-12-04T18:22:03.353Z"
   },
   {
    "duration": 55,
    "start_time": "2022-12-04T18:22:03.979Z"
   },
   {
    "duration": 249,
    "start_time": "2022-12-04T18:22:04.036Z"
   },
   {
    "duration": 3,
    "start_time": "2022-12-04T18:22:04.287Z"
   },
   {
    "duration": 6,
    "start_time": "2022-12-04T18:22:04.292Z"
   },
   {
    "duration": 20,
    "start_time": "2022-12-04T18:22:04.300Z"
   },
   {
    "duration": 135,
    "start_time": "2022-12-04T18:22:04.322Z"
   },
   {
    "duration": 36,
    "start_time": "2022-12-04T18:22:04.458Z"
   },
   {
    "duration": 45,
    "start_time": "2022-12-04T18:22:04.496Z"
   },
   {
    "duration": 11,
    "start_time": "2022-12-04T18:22:04.543Z"
   },
   {
    "duration": 14,
    "start_time": "2022-12-04T18:22:04.555Z"
   },
   {
    "duration": 3,
    "start_time": "2022-12-04T18:22:04.571Z"
   },
   {
    "duration": 9,
    "start_time": "2022-12-04T18:22:04.575Z"
   },
   {
    "duration": 29,
    "start_time": "2022-12-04T18:22:04.585Z"
   },
   {
    "duration": 10,
    "start_time": "2022-12-04T18:22:04.616Z"
   },
   {
    "duration": 9,
    "start_time": "2022-12-04T18:22:04.628Z"
   },
   {
    "duration": 11,
    "start_time": "2022-12-04T18:22:04.638Z"
   },
   {
    "duration": 12,
    "start_time": "2022-12-04T18:22:04.651Z"
   },
   {
    "duration": 10,
    "start_time": "2022-12-04T18:22:04.665Z"
   },
   {
    "duration": 44,
    "start_time": "2022-12-04T18:22:04.676Z"
   },
   {
    "duration": 7,
    "start_time": "2022-12-04T18:22:04.721Z"
   },
   {
    "duration": 7,
    "start_time": "2022-12-04T18:22:04.730Z"
   },
   {
    "duration": 9,
    "start_time": "2022-12-04T18:22:04.738Z"
   },
   {
    "duration": 12,
    "start_time": "2022-12-04T18:22:04.749Z"
   },
   {
    "duration": 75,
    "start_time": "2022-12-04T18:22:04.762Z"
   },
   {
    "duration": 93,
    "start_time": "2022-12-04T18:32:30.027Z"
   },
   {
    "duration": 591,
    "start_time": "2022-12-04T18:32:35.423Z"
   },
   {
    "duration": 1120,
    "start_time": "2022-12-04T18:35:54.633Z"
   },
   {
    "duration": 616,
    "start_time": "2022-12-04T18:35:55.755Z"
   },
   {
    "duration": 53,
    "start_time": "2022-12-04T18:35:56.373Z"
   },
   {
    "duration": 249,
    "start_time": "2022-12-04T18:35:56.428Z"
   },
   {
    "duration": 2,
    "start_time": "2022-12-04T18:35:56.679Z"
   },
   {
    "duration": 6,
    "start_time": "2022-12-04T18:35:56.683Z"
   },
   {
    "duration": 22,
    "start_time": "2022-12-04T18:35:56.690Z"
   },
   {
    "duration": 137,
    "start_time": "2022-12-04T18:35:56.714Z"
   },
   {
    "duration": 40,
    "start_time": "2022-12-04T18:35:56.853Z"
   },
   {
    "duration": 36,
    "start_time": "2022-12-04T18:35:56.913Z"
   },
   {
    "duration": 14,
    "start_time": "2022-12-04T18:35:56.951Z"
   },
   {
    "duration": 14,
    "start_time": "2022-12-04T18:35:56.967Z"
   },
   {
    "duration": 3,
    "start_time": "2022-12-04T18:35:56.983Z"
   },
   {
    "duration": 30,
    "start_time": "2022-12-04T18:35:56.987Z"
   },
   {
    "duration": 11,
    "start_time": "2022-12-04T18:35:57.019Z"
   },
   {
    "duration": 18,
    "start_time": "2022-12-04T18:35:57.032Z"
   },
   {
    "duration": 9,
    "start_time": "2022-12-04T18:35:57.052Z"
   },
   {
    "duration": 10,
    "start_time": "2022-12-04T18:35:57.063Z"
   },
   {
    "duration": 11,
    "start_time": "2022-12-04T18:35:57.074Z"
   },
   {
    "duration": 27,
    "start_time": "2022-12-04T18:35:57.088Z"
   },
   {
    "duration": 10,
    "start_time": "2022-12-04T18:35:57.117Z"
   },
   {
    "duration": 6,
    "start_time": "2022-12-04T18:35:57.130Z"
   },
   {
    "duration": 7,
    "start_time": "2022-12-04T18:35:57.137Z"
   },
   {
    "duration": 8,
    "start_time": "2022-12-04T18:35:57.146Z"
   },
   {
    "duration": 16,
    "start_time": "2022-12-04T18:35:57.155Z"
   },
   {
    "duration": 8,
    "start_time": "2022-12-04T18:35:57.175Z"
   },
   {
    "duration": 77,
    "start_time": "2022-12-04T18:35:57.185Z"
   },
   {
    "duration": 6,
    "start_time": "2022-12-04T18:37:22.500Z"
   },
   {
    "duration": 7,
    "start_time": "2022-12-04T18:37:41.803Z"
   },
   {
    "duration": 10,
    "start_time": "2022-12-04T18:38:01.314Z"
   },
   {
    "duration": 4,
    "start_time": "2022-12-04T18:41:59.047Z"
   },
   {
    "duration": 9,
    "start_time": "2022-12-04T18:42:13.112Z"
   },
   {
    "duration": 5,
    "start_time": "2022-12-04T18:42:39.741Z"
   },
   {
    "duration": 11,
    "start_time": "2022-12-04T18:42:53.820Z"
   },
   {
    "duration": 44,
    "start_time": "2022-12-05T18:08:53.447Z"
   },
   {
    "duration": 1327,
    "start_time": "2022-12-05T18:09:48.062Z"
   },
   {
    "duration": 914,
    "start_time": "2022-12-05T18:09:49.391Z"
   },
   {
    "duration": 64,
    "start_time": "2022-12-05T18:09:50.306Z"
   },
   {
    "duration": 237,
    "start_time": "2022-12-05T18:09:50.372Z"
   },
   {
    "duration": 3,
    "start_time": "2022-12-05T18:09:50.610Z"
   },
   {
    "duration": 14,
    "start_time": "2022-12-05T18:09:50.614Z"
   },
   {
    "duration": 25,
    "start_time": "2022-12-05T18:09:50.630Z"
   },
   {
    "duration": 131,
    "start_time": "2022-12-05T18:09:50.656Z"
   },
   {
    "duration": 45,
    "start_time": "2022-12-05T18:09:50.789Z"
   },
   {
    "duration": 49,
    "start_time": "2022-12-05T18:09:50.837Z"
   },
   {
    "duration": 13,
    "start_time": "2022-12-05T18:09:50.888Z"
   },
   {
    "duration": 14,
    "start_time": "2022-12-05T18:09:50.902Z"
   },
   {
    "duration": 3,
    "start_time": "2022-12-05T18:09:50.918Z"
   },
   {
    "duration": 11,
    "start_time": "2022-12-05T18:09:50.922Z"
   },
   {
    "duration": 11,
    "start_time": "2022-12-05T18:09:50.935Z"
   },
   {
    "duration": 38,
    "start_time": "2022-12-05T18:09:50.948Z"
   },
   {
    "duration": 14,
    "start_time": "2022-12-05T18:09:50.988Z"
   },
   {
    "duration": 15,
    "start_time": "2022-12-05T18:09:51.004Z"
   },
   {
    "duration": 10,
    "start_time": "2022-12-05T18:09:51.020Z"
   },
   {
    "duration": 10,
    "start_time": "2022-12-05T18:09:51.032Z"
   },
   {
    "duration": 26,
    "start_time": "2022-12-05T18:09:51.044Z"
   },
   {
    "duration": 7,
    "start_time": "2022-12-05T18:09:51.072Z"
   },
   {
    "duration": 14,
    "start_time": "2022-12-05T18:09:51.081Z"
   },
   {
    "duration": 10,
    "start_time": "2022-12-05T18:09:51.097Z"
   },
   {
    "duration": 11,
    "start_time": "2022-12-05T18:09:51.109Z"
   },
   {
    "duration": 6,
    "start_time": "2022-12-05T18:09:51.121Z"
   },
   {
    "duration": 33,
    "start_time": "2022-12-05T18:09:51.129Z"
   },
   {
    "duration": 19,
    "start_time": "2022-12-05T18:09:51.165Z"
   },
   {
    "duration": 21,
    "start_time": "2022-12-05T18:09:51.186Z"
   },
   {
    "duration": 9,
    "start_time": "2022-12-05T18:09:51.209Z"
   },
   {
    "duration": 9,
    "start_time": "2022-12-05T18:09:51.220Z"
   },
   {
    "duration": 22,
    "start_time": "2022-12-05T18:09:51.230Z"
   },
   {
    "duration": 12,
    "start_time": "2022-12-05T18:09:51.254Z"
   },
   {
    "duration": 107,
    "start_time": "2022-12-05T18:09:51.268Z"
   },
   {
    "duration": 459,
    "start_time": "2022-12-05T18:11:01.058Z"
   },
   {
    "duration": 463,
    "start_time": "2022-12-05T18:11:11.573Z"
   },
   {
    "duration": 11,
    "start_time": "2022-12-05T18:14:51.842Z"
   },
   {
    "duration": 20,
    "start_time": "2022-12-05T18:15:42.121Z"
   },
   {
    "duration": 3,
    "start_time": "2022-12-05T18:15:52.525Z"
   },
   {
    "duration": 3,
    "start_time": "2022-12-05T18:16:06.488Z"
   },
   {
    "duration": 29,
    "start_time": "2022-12-05T18:19:42.708Z"
   },
   {
    "duration": 1358,
    "start_time": "2022-12-06T16:59:57.167Z"
   },
   {
    "duration": 2015,
    "start_time": "2022-12-06T16:59:58.527Z"
   },
   {
    "duration": 72,
    "start_time": "2022-12-06T17:00:00.546Z"
   },
   {
    "duration": 265,
    "start_time": "2022-12-06T17:00:00.621Z"
   },
   {
    "duration": 4,
    "start_time": "2022-12-06T17:00:00.888Z"
   },
   {
    "duration": 26,
    "start_time": "2022-12-06T17:00:00.894Z"
   },
   {
    "duration": 37,
    "start_time": "2022-12-06T17:00:00.923Z"
   },
   {
    "duration": 160,
    "start_time": "2022-12-06T17:00:00.962Z"
   },
   {
    "duration": 54,
    "start_time": "2022-12-06T17:00:01.125Z"
   },
   {
    "duration": 59,
    "start_time": "2022-12-06T17:00:01.180Z"
   },
   {
    "duration": 12,
    "start_time": "2022-12-06T17:00:01.241Z"
   },
   {
    "duration": 19,
    "start_time": "2022-12-06T17:00:01.255Z"
   },
   {
    "duration": 9,
    "start_time": "2022-12-06T17:00:01.276Z"
   },
   {
    "duration": 12,
    "start_time": "2022-12-06T17:00:01.287Z"
   },
   {
    "duration": 14,
    "start_time": "2022-12-06T17:00:01.301Z"
   },
   {
    "duration": 23,
    "start_time": "2022-12-06T17:00:01.317Z"
   },
   {
    "duration": 24,
    "start_time": "2022-12-06T17:00:01.343Z"
   },
   {
    "duration": 15,
    "start_time": "2022-12-06T17:00:01.369Z"
   },
   {
    "duration": 42,
    "start_time": "2022-12-06T17:00:01.385Z"
   },
   {
    "duration": 11,
    "start_time": "2022-12-06T17:00:01.429Z"
   },
   {
    "duration": 16,
    "start_time": "2022-12-06T17:00:01.441Z"
   },
   {
    "duration": 28,
    "start_time": "2022-12-06T17:00:01.458Z"
   },
   {
    "duration": 10,
    "start_time": "2022-12-06T17:00:01.488Z"
   },
   {
    "duration": 13,
    "start_time": "2022-12-06T17:00:01.499Z"
   },
   {
    "duration": 14,
    "start_time": "2022-12-06T17:00:01.514Z"
   },
   {
    "duration": 8,
    "start_time": "2022-12-06T17:00:01.530Z"
   },
   {
    "duration": 13,
    "start_time": "2022-12-06T17:00:01.542Z"
   },
   {
    "duration": 13,
    "start_time": "2022-12-06T17:00:01.558Z"
   },
   {
    "duration": 12,
    "start_time": "2022-12-06T17:00:01.573Z"
   },
   {
    "duration": 11,
    "start_time": "2022-12-06T17:00:01.586Z"
   },
   {
    "duration": 8,
    "start_time": "2022-12-06T17:00:01.599Z"
   },
   {
    "duration": 25,
    "start_time": "2022-12-06T17:00:01.609Z"
   },
   {
    "duration": 13,
    "start_time": "2022-12-06T17:00:01.637Z"
   },
   {
    "duration": 486,
    "start_time": "2022-12-06T17:00:01.652Z"
   },
   {
    "duration": 24,
    "start_time": "2022-12-06T17:00:02.140Z"
   },
   {
    "duration": 9,
    "start_time": "2022-12-06T17:00:02.166Z"
   },
   {
    "duration": 12,
    "start_time": "2022-12-06T17:00:02.177Z"
   },
   {
    "duration": 86,
    "start_time": "2022-12-06T17:00:02.191Z"
   },
   {
    "duration": 120,
    "start_time": "2022-12-06T17:09:21.762Z"
   },
   {
    "duration": 45,
    "start_time": "2022-12-06T17:09:33.506Z"
   },
   {
    "duration": 69,
    "start_time": "2022-12-06T17:10:11.336Z"
   },
   {
    "duration": 33,
    "start_time": "2022-12-06T17:11:15.481Z"
   },
   {
    "duration": 35,
    "start_time": "2022-12-06T17:11:53.002Z"
   },
   {
    "duration": 33,
    "start_time": "2022-12-06T17:14:52.963Z"
   },
   {
    "duration": 38,
    "start_time": "2022-12-06T17:16:26.736Z"
   },
   {
    "duration": 4,
    "start_time": "2022-12-06T17:27:49.858Z"
   },
   {
    "duration": 4,
    "start_time": "2022-12-06T17:27:58.556Z"
   },
   {
    "duration": 4,
    "start_time": "2022-12-06T17:28:29.100Z"
   },
   {
    "duration": 22,
    "start_time": "2022-12-06T17:34:52.707Z"
   },
   {
    "duration": 19,
    "start_time": "2022-12-06T17:37:50.438Z"
   },
   {
    "duration": 30,
    "start_time": "2022-12-06T17:39:35.228Z"
   },
   {
    "duration": 313,
    "start_time": "2022-12-06T17:39:43.855Z"
   },
   {
    "duration": 327,
    "start_time": "2022-12-06T17:39:51.276Z"
   },
   {
    "duration": 354,
    "start_time": "2022-12-06T17:40:32.869Z"
   },
   {
    "duration": 16,
    "start_time": "2022-12-06T17:42:12.635Z"
   },
   {
    "duration": 348,
    "start_time": "2022-12-06T17:42:34.799Z"
   },
   {
    "duration": 422,
    "start_time": "2022-12-06T17:43:05.468Z"
   },
   {
    "duration": 376,
    "start_time": "2022-12-06T17:43:25.280Z"
   },
   {
    "duration": 394,
    "start_time": "2022-12-06T17:43:32.823Z"
   },
   {
    "duration": 351,
    "start_time": "2022-12-06T17:43:48.600Z"
   },
   {
    "duration": 310,
    "start_time": "2022-12-06T17:44:11.065Z"
   },
   {
    "duration": 338,
    "start_time": "2022-12-06T17:44:19.980Z"
   },
   {
    "duration": 9,
    "start_time": "2022-12-06T17:47:05.977Z"
   },
   {
    "duration": 21,
    "start_time": "2022-12-06T17:55:11.655Z"
   },
   {
    "duration": 41,
    "start_time": "2022-12-06T18:04:43.028Z"
   },
   {
    "duration": 153,
    "start_time": "2022-12-06T18:09:39.596Z"
   },
   {
    "duration": 133,
    "start_time": "2022-12-06T18:14:58.368Z"
   },
   {
    "duration": 228,
    "start_time": "2022-12-06T18:16:41.624Z"
   },
   {
    "duration": 149,
    "start_time": "2022-12-06T18:16:49.092Z"
   },
   {
    "duration": 150,
    "start_time": "2022-12-06T18:55:30.838Z"
   },
   {
    "duration": 147,
    "start_time": "2022-12-06T18:59:02.697Z"
   },
   {
    "duration": 9,
    "start_time": "2022-12-06T19:01:30.242Z"
   },
   {
    "duration": 246,
    "start_time": "2022-12-06T19:01:38.509Z"
   },
   {
    "duration": 10,
    "start_time": "2022-12-06T19:04:50.334Z"
   },
   {
    "duration": 2,
    "start_time": "2022-12-06T19:04:53.341Z"
   },
   {
    "duration": 316,
    "start_time": "2022-12-06T19:04:55.077Z"
   },
   {
    "duration": 1290,
    "start_time": "2022-12-06T19:05:25.639Z"
   },
   {
    "duration": 1734,
    "start_time": "2022-12-06T19:05:26.931Z"
   },
   {
    "duration": 72,
    "start_time": "2022-12-06T19:05:28.667Z"
   },
   {
    "duration": 320,
    "start_time": "2022-12-06T19:05:28.741Z"
   },
   {
    "duration": 5,
    "start_time": "2022-12-06T19:05:29.064Z"
   },
   {
    "duration": 17,
    "start_time": "2022-12-06T19:05:29.071Z"
   },
   {
    "duration": 42,
    "start_time": "2022-12-06T19:05:29.091Z"
   },
   {
    "duration": 187,
    "start_time": "2022-12-06T19:05:29.135Z"
   },
   {
    "duration": 60,
    "start_time": "2022-12-06T19:05:29.323Z"
   },
   {
    "duration": 64,
    "start_time": "2022-12-06T19:05:29.387Z"
   },
   {
    "duration": 15,
    "start_time": "2022-12-06T19:05:29.453Z"
   },
   {
    "duration": 16,
    "start_time": "2022-12-06T19:05:29.470Z"
   },
   {
    "duration": 3,
    "start_time": "2022-12-06T19:05:29.488Z"
   },
   {
    "duration": 9,
    "start_time": "2022-12-06T19:05:29.493Z"
   },
   {
    "duration": 39,
    "start_time": "2022-12-06T19:05:29.504Z"
   },
   {
    "duration": 23,
    "start_time": "2022-12-06T19:05:29.545Z"
   },
   {
    "duration": 18,
    "start_time": "2022-12-06T19:05:29.570Z"
   },
   {
    "duration": 17,
    "start_time": "2022-12-06T19:05:29.590Z"
   },
   {
    "duration": 28,
    "start_time": "2022-12-06T19:05:29.610Z"
   },
   {
    "duration": 9,
    "start_time": "2022-12-06T19:05:29.641Z"
   },
   {
    "duration": 16,
    "start_time": "2022-12-06T19:05:29.652Z"
   },
   {
    "duration": 4,
    "start_time": "2022-12-06T19:05:29.671Z"
   },
   {
    "duration": 8,
    "start_time": "2022-12-06T19:05:29.677Z"
   },
   {
    "duration": 9,
    "start_time": "2022-12-06T19:05:29.687Z"
   },
   {
    "duration": 12,
    "start_time": "2022-12-06T19:05:29.698Z"
   },
   {
    "duration": 33,
    "start_time": "2022-12-06T19:05:29.712Z"
   },
   {
    "duration": 14,
    "start_time": "2022-12-06T19:05:29.747Z"
   },
   {
    "duration": 8,
    "start_time": "2022-12-06T19:05:29.765Z"
   },
   {
    "duration": 10,
    "start_time": "2022-12-06T19:05:29.775Z"
   },
   {
    "duration": 8,
    "start_time": "2022-12-06T19:05:29.787Z"
   },
   {
    "duration": 10,
    "start_time": "2022-12-06T19:05:29.797Z"
   },
   {
    "duration": 37,
    "start_time": "2022-12-06T19:05:29.809Z"
   },
   {
    "duration": 13,
    "start_time": "2022-12-06T19:05:29.849Z"
   },
   {
    "duration": 543,
    "start_time": "2022-12-06T19:05:29.865Z"
   },
   {
    "duration": 29,
    "start_time": "2022-12-06T19:05:30.410Z"
   },
   {
    "duration": 19,
    "start_time": "2022-12-06T19:05:30.441Z"
   },
   {
    "duration": 21,
    "start_time": "2022-12-06T19:05:30.462Z"
   },
   {
    "duration": 58,
    "start_time": "2022-12-06T19:05:30.484Z"
   },
   {
    "duration": 36,
    "start_time": "2022-12-06T19:05:30.544Z"
   },
   {
    "duration": 60,
    "start_time": "2022-12-06T19:05:30.582Z"
   },
   {
    "duration": 5,
    "start_time": "2022-12-06T19:05:30.643Z"
   },
   {
    "duration": 29,
    "start_time": "2022-12-06T19:05:30.650Z"
   },
   {
    "duration": 358,
    "start_time": "2022-12-06T19:05:30.681Z"
   },
   {
    "duration": 393,
    "start_time": "2022-12-06T19:05:31.041Z"
   },
   {
    "duration": 28,
    "start_time": "2022-12-06T19:05:31.437Z"
   },
   {
    "duration": 43,
    "start_time": "2022-12-06T19:05:31.467Z"
   },
   {
    "duration": 3,
    "start_time": "2022-12-06T19:05:31.512Z"
   },
   {
    "duration": 351,
    "start_time": "2022-12-06T19:05:31.517Z"
   },
   {
    "duration": 1233,
    "start_time": "2022-12-06T19:09:08.386Z"
   },
   {
    "duration": 790,
    "start_time": "2022-12-06T19:09:09.621Z"
   },
   {
    "duration": 67,
    "start_time": "2022-12-06T19:09:10.413Z"
   },
   {
    "duration": 281,
    "start_time": "2022-12-06T19:09:10.481Z"
   },
   {
    "duration": 3,
    "start_time": "2022-12-06T19:09:10.765Z"
   },
   {
    "duration": 6,
    "start_time": "2022-12-06T19:09:10.770Z"
   },
   {
    "duration": 16,
    "start_time": "2022-12-06T19:09:10.778Z"
   },
   {
    "duration": 157,
    "start_time": "2022-12-06T19:09:10.796Z"
   },
   {
    "duration": 48,
    "start_time": "2022-12-06T19:09:10.955Z"
   },
   {
    "duration": 52,
    "start_time": "2022-12-06T19:09:11.004Z"
   },
   {
    "duration": 11,
    "start_time": "2022-12-06T19:09:11.058Z"
   },
   {
    "duration": 15,
    "start_time": "2022-12-06T19:09:11.071Z"
   },
   {
    "duration": 4,
    "start_time": "2022-12-06T19:09:11.089Z"
   },
   {
    "duration": 7,
    "start_time": "2022-12-06T19:09:11.096Z"
   },
   {
    "duration": 40,
    "start_time": "2022-12-06T19:09:11.105Z"
   },
   {
    "duration": 13,
    "start_time": "2022-12-06T19:09:11.147Z"
   },
   {
    "duration": 9,
    "start_time": "2022-12-06T19:09:11.162Z"
   },
   {
    "duration": 10,
    "start_time": "2022-12-06T19:09:11.173Z"
   },
   {
    "duration": 10,
    "start_time": "2022-12-06T19:09:11.185Z"
   },
   {
    "duration": 8,
    "start_time": "2022-12-06T19:09:11.197Z"
   },
   {
    "duration": 38,
    "start_time": "2022-12-06T19:09:11.206Z"
   },
   {
    "duration": 7,
    "start_time": "2022-12-06T19:09:11.246Z"
   },
   {
    "duration": 9,
    "start_time": "2022-12-06T19:09:11.254Z"
   },
   {
    "duration": 10,
    "start_time": "2022-12-06T19:09:11.264Z"
   },
   {
    "duration": 12,
    "start_time": "2022-12-06T19:09:11.276Z"
   },
   {
    "duration": 10,
    "start_time": "2022-12-06T19:09:11.289Z"
   },
   {
    "duration": 15,
    "start_time": "2022-12-06T19:09:11.301Z"
   },
   {
    "duration": 22,
    "start_time": "2022-12-06T19:09:11.318Z"
   },
   {
    "duration": 17,
    "start_time": "2022-12-06T19:09:11.342Z"
   },
   {
    "duration": 13,
    "start_time": "2022-12-06T19:09:11.361Z"
   },
   {
    "duration": 9,
    "start_time": "2022-12-06T19:09:11.376Z"
   },
   {
    "duration": 14,
    "start_time": "2022-12-06T19:09:11.387Z"
   },
   {
    "duration": 12,
    "start_time": "2022-12-06T19:09:11.403Z"
   },
   {
    "duration": 508,
    "start_time": "2022-12-06T19:09:11.417Z"
   },
   {
    "duration": 27,
    "start_time": "2022-12-06T19:09:11.927Z"
   },
   {
    "duration": 13,
    "start_time": "2022-12-06T19:09:11.955Z"
   },
   {
    "duration": 10,
    "start_time": "2022-12-06T19:09:11.969Z"
   },
   {
    "duration": 41,
    "start_time": "2022-12-06T19:09:11.981Z"
   },
   {
    "duration": 38,
    "start_time": "2022-12-06T19:09:12.024Z"
   },
   {
    "duration": 35,
    "start_time": "2022-12-06T19:09:12.063Z"
   },
   {
    "duration": 4,
    "start_time": "2022-12-06T19:09:12.102Z"
   },
   {
    "duration": 36,
    "start_time": "2022-12-06T19:09:12.107Z"
   },
   {
    "duration": 323,
    "start_time": "2022-12-06T19:09:12.145Z"
   },
   {
    "duration": 378,
    "start_time": "2022-12-06T19:09:12.470Z"
   },
   {
    "duration": 19,
    "start_time": "2022-12-06T19:09:12.850Z"
   },
   {
    "duration": 31,
    "start_time": "2022-12-06T19:09:12.871Z"
   },
   {
    "duration": 3,
    "start_time": "2022-12-06T19:09:12.904Z"
   },
   {
    "duration": 348,
    "start_time": "2022-12-06T19:09:12.909Z"
   },
   {
    "duration": 1591,
    "start_time": "2022-12-06T19:09:43.198Z"
   },
   {
    "duration": 98,
    "start_time": "2022-12-06T19:17:56.814Z"
   },
   {
    "duration": 23,
    "start_time": "2022-12-06T19:18:17.944Z"
   },
   {
    "duration": 162,
    "start_time": "2022-12-06T19:18:42.598Z"
   },
   {
    "duration": 12,
    "start_time": "2022-12-06T19:20:14.441Z"
   },
   {
    "duration": 10,
    "start_time": "2022-12-06T19:20:25.207Z"
   },
   {
    "duration": 4,
    "start_time": "2022-12-06T19:20:44.497Z"
   },
   {
    "duration": 31,
    "start_time": "2022-12-06T19:21:06.795Z"
   },
   {
    "duration": 188,
    "start_time": "2022-12-06T19:29:06.451Z"
   },
   {
    "duration": 41,
    "start_time": "2022-12-06T19:29:21.437Z"
   },
   {
    "duration": 171,
    "start_time": "2022-12-06T19:29:47.014Z"
   },
   {
    "duration": 385,
    "start_time": "2022-12-06T19:31:27.217Z"
   },
   {
    "duration": 40,
    "start_time": "2022-12-06T19:33:10.849Z"
   },
   {
    "duration": 380,
    "start_time": "2022-12-06T19:33:20.137Z"
   },
   {
    "duration": 1231,
    "start_time": "2022-12-06T19:49:18.348Z"
   },
   {
    "duration": 41,
    "start_time": "2022-12-06T19:49:26.167Z"
   },
   {
    "duration": 51,
    "start_time": "2022-12-06T19:52:55.182Z"
   },
   {
    "duration": 47,
    "start_time": "2022-12-06T19:53:36.831Z"
   },
   {
    "duration": 41,
    "start_time": "2022-12-06T19:54:16.217Z"
   },
   {
    "duration": 222,
    "start_time": "2022-12-06T19:55:56.130Z"
   },
   {
    "duration": 252,
    "start_time": "2022-12-06T19:58:28.973Z"
   },
   {
    "duration": 223,
    "start_time": "2022-12-06T19:58:35.090Z"
   },
   {
    "duration": 21,
    "start_time": "2022-12-06T20:00:14.179Z"
   },
   {
    "duration": 207,
    "start_time": "2022-12-06T20:01:04.042Z"
   },
   {
    "duration": 14,
    "start_time": "2022-12-06T20:01:13.205Z"
   },
   {
    "duration": 15,
    "start_time": "2022-12-06T20:01:45.194Z"
   },
   {
    "duration": 16,
    "start_time": "2022-12-06T20:01:49.869Z"
   },
   {
    "duration": 18,
    "start_time": "2022-12-06T20:01:52.947Z"
   },
   {
    "duration": 4,
    "start_time": "2022-12-06T20:03:15.297Z"
   },
   {
    "duration": 31,
    "start_time": "2022-12-06T20:03:20.722Z"
   },
   {
    "duration": 28,
    "start_time": "2022-12-06T20:03:52.414Z"
   },
   {
    "duration": 218,
    "start_time": "2022-12-06T20:04:25.401Z"
   },
   {
    "duration": 19,
    "start_time": "2022-12-06T20:04:32.351Z"
   },
   {
    "duration": 222,
    "start_time": "2022-12-06T20:04:40.419Z"
   },
   {
    "duration": 19,
    "start_time": "2022-12-06T20:04:45.923Z"
   },
   {
    "duration": 218,
    "start_time": "2022-12-06T20:09:10.144Z"
   },
   {
    "duration": 374,
    "start_time": "2022-12-06T20:12:07.538Z"
   },
   {
    "duration": 368,
    "start_time": "2022-12-06T20:12:54.897Z"
   },
   {
    "duration": 369,
    "start_time": "2022-12-06T20:13:00.593Z"
   },
   {
    "duration": 73,
    "start_time": "2022-12-06T20:13:49.283Z"
   },
   {
    "duration": 373,
    "start_time": "2022-12-06T20:14:09.783Z"
   },
   {
    "duration": 102,
    "start_time": "2022-12-06T20:17:21.285Z"
   },
   {
    "duration": 54,
    "start_time": "2022-12-06T20:32:16.044Z"
   },
   {
    "duration": 218,
    "start_time": "2022-12-06T20:33:25.708Z"
   },
   {
    "duration": 396,
    "start_time": "2022-12-06T20:36:28.499Z"
   },
   {
    "duration": 68,
    "start_time": "2022-12-06T20:36:35.804Z"
   },
   {
    "duration": 56,
    "start_time": "2022-12-06T20:37:20.605Z"
   },
   {
    "duration": 53,
    "start_time": "2022-12-06T20:37:46.367Z"
   },
   {
    "duration": 55,
    "start_time": "2022-12-06T20:38:02.405Z"
   },
   {
    "duration": 1190,
    "start_time": "2022-12-06T20:38:52.736Z"
   },
   {
    "duration": 713,
    "start_time": "2022-12-06T20:38:53.928Z"
   },
   {
    "duration": 71,
    "start_time": "2022-12-06T20:38:54.643Z"
   },
   {
    "duration": 300,
    "start_time": "2022-12-06T20:38:54.717Z"
   },
   {
    "duration": 3,
    "start_time": "2022-12-06T20:38:55.019Z"
   },
   {
    "duration": 12,
    "start_time": "2022-12-06T20:38:55.024Z"
   },
   {
    "duration": 20,
    "start_time": "2022-12-06T20:38:55.038Z"
   },
   {
    "duration": 162,
    "start_time": "2022-12-06T20:38:55.060Z"
   },
   {
    "duration": 52,
    "start_time": "2022-12-06T20:38:55.224Z"
   },
   {
    "duration": 62,
    "start_time": "2022-12-06T20:38:55.280Z"
   },
   {
    "duration": 13,
    "start_time": "2022-12-06T20:38:55.343Z"
   },
   {
    "duration": 13,
    "start_time": "2022-12-06T20:38:55.358Z"
   },
   {
    "duration": 3,
    "start_time": "2022-12-06T20:38:55.372Z"
   },
   {
    "duration": 7,
    "start_time": "2022-12-06T20:38:55.377Z"
   },
   {
    "duration": 11,
    "start_time": "2022-12-06T20:38:55.385Z"
   },
   {
    "duration": 40,
    "start_time": "2022-12-06T20:38:55.397Z"
   },
   {
    "duration": 6,
    "start_time": "2022-12-06T20:38:55.439Z"
   },
   {
    "duration": 15,
    "start_time": "2022-12-06T20:38:55.446Z"
   },
   {
    "duration": 10,
    "start_time": "2022-12-06T20:38:55.463Z"
   },
   {
    "duration": 17,
    "start_time": "2022-12-06T20:38:55.475Z"
   },
   {
    "duration": 15,
    "start_time": "2022-12-06T20:38:55.494Z"
   },
   {
    "duration": 25,
    "start_time": "2022-12-06T20:38:55.511Z"
   },
   {
    "duration": 18,
    "start_time": "2022-12-06T20:38:55.539Z"
   },
   {
    "duration": 21,
    "start_time": "2022-12-06T20:38:55.559Z"
   },
   {
    "duration": 32,
    "start_time": "2022-12-06T20:38:55.582Z"
   },
   {
    "duration": 15,
    "start_time": "2022-12-06T20:38:55.616Z"
   },
   {
    "duration": 36,
    "start_time": "2022-12-06T20:38:55.633Z"
   },
   {
    "duration": 28,
    "start_time": "2022-12-06T20:38:55.673Z"
   },
   {
    "duration": 27,
    "start_time": "2022-12-06T20:38:55.703Z"
   },
   {
    "duration": 26,
    "start_time": "2022-12-06T20:38:55.733Z"
   },
   {
    "duration": 22,
    "start_time": "2022-12-06T20:38:55.761Z"
   },
   {
    "duration": 23,
    "start_time": "2022-12-06T20:38:55.786Z"
   },
   {
    "duration": 17,
    "start_time": "2022-12-06T20:38:55.810Z"
   },
   {
    "duration": 566,
    "start_time": "2022-12-06T20:38:55.829Z"
   },
   {
    "duration": 23,
    "start_time": "2022-12-06T20:38:56.397Z"
   },
   {
    "duration": 17,
    "start_time": "2022-12-06T20:38:56.422Z"
   },
   {
    "duration": 12,
    "start_time": "2022-12-06T20:38:56.441Z"
   },
   {
    "duration": 48,
    "start_time": "2022-12-06T20:38:56.455Z"
   },
   {
    "duration": 34,
    "start_time": "2022-12-06T20:38:56.505Z"
   },
   {
    "duration": 34,
    "start_time": "2022-12-06T20:38:56.541Z"
   },
   {
    "duration": 4,
    "start_time": "2022-12-06T20:38:56.576Z"
   },
   {
    "duration": 12,
    "start_time": "2022-12-06T20:38:56.582Z"
   },
   {
    "duration": 363,
    "start_time": "2022-12-06T20:38:56.596Z"
   },
   {
    "duration": 393,
    "start_time": "2022-12-06T20:38:56.961Z"
   },
   {
    "duration": 20,
    "start_time": "2022-12-06T20:38:57.356Z"
   },
   {
    "duration": 32,
    "start_time": "2022-12-06T20:38:57.378Z"
   },
   {
    "duration": 3,
    "start_time": "2022-12-06T20:38:57.412Z"
   },
   {
    "duration": 1682,
    "start_time": "2022-12-06T20:38:57.417Z"
   },
   {
    "duration": 407,
    "start_time": "2022-12-06T20:38:59.101Z"
   },
   {
    "duration": 65,
    "start_time": "2022-12-06T20:38:59.510Z"
   },
   {
    "duration": 226,
    "start_time": "2022-12-06T20:38:59.577Z"
   },
   {
    "duration": 248,
    "start_time": "2022-12-06T20:39:55.638Z"
   },
   {
    "duration": 37,
    "start_time": "2022-12-06T20:41:10.544Z"
   },
   {
    "duration": 293,
    "start_time": "2022-12-06T20:41:23.730Z"
   },
   {
    "duration": 16,
    "start_time": "2022-12-06T20:41:37.172Z"
   },
   {
    "duration": 17,
    "start_time": "2022-12-06T20:41:55.441Z"
   },
   {
    "duration": 5,
    "start_time": "2022-12-06T20:42:27.711Z"
   },
   {
    "duration": 33,
    "start_time": "2022-12-06T20:42:42.292Z"
   },
   {
    "duration": 71,
    "start_time": "2022-12-06T20:43:22.150Z"
   },
   {
    "duration": 1830,
    "start_time": "2022-12-06T20:46:44.187Z"
   },
   {
    "duration": 1840,
    "start_time": "2022-12-06T20:49:40.456Z"
   },
   {
    "duration": 2583,
    "start_time": "2022-12-06T20:51:32.951Z"
   },
   {
    "duration": 1322,
    "start_time": "2022-12-07T17:20:42.088Z"
   },
   {
    "duration": 1224,
    "start_time": "2022-12-07T17:21:30.432Z"
   },
   {
    "duration": 1012,
    "start_time": "2022-12-07T17:21:31.658Z"
   },
   {
    "duration": 74,
    "start_time": "2022-12-07T17:21:32.672Z"
   },
   {
    "duration": 297,
    "start_time": "2022-12-07T17:21:32.749Z"
   },
   {
    "duration": 8,
    "start_time": "2022-12-07T17:21:33.050Z"
   },
   {
    "duration": 20,
    "start_time": "2022-12-07T17:21:33.060Z"
   },
   {
    "duration": 17,
    "start_time": "2022-12-07T17:21:33.082Z"
   },
   {
    "duration": 180,
    "start_time": "2022-12-07T17:21:33.101Z"
   },
   {
    "duration": 48,
    "start_time": "2022-12-07T17:21:33.283Z"
   },
   {
    "duration": 57,
    "start_time": "2022-12-07T17:21:33.334Z"
   },
   {
    "duration": 16,
    "start_time": "2022-12-07T17:21:33.393Z"
   },
   {
    "duration": 14,
    "start_time": "2022-12-07T17:21:33.411Z"
   },
   {
    "duration": 10,
    "start_time": "2022-12-07T17:21:33.427Z"
   },
   {
    "duration": 6,
    "start_time": "2022-12-07T17:21:33.439Z"
   },
   {
    "duration": 33,
    "start_time": "2022-12-07T17:21:33.446Z"
   },
   {
    "duration": 14,
    "start_time": "2022-12-07T17:21:33.487Z"
   },
   {
    "duration": 10,
    "start_time": "2022-12-07T17:21:33.503Z"
   },
   {
    "duration": 12,
    "start_time": "2022-12-07T17:21:33.514Z"
   },
   {
    "duration": 11,
    "start_time": "2022-12-07T17:21:33.528Z"
   },
   {
    "duration": 10,
    "start_time": "2022-12-07T17:21:33.541Z"
   },
   {
    "duration": 29,
    "start_time": "2022-12-07T17:21:33.552Z"
   },
   {
    "duration": 23,
    "start_time": "2022-12-07T17:21:33.582Z"
   },
   {
    "duration": 18,
    "start_time": "2022-12-07T17:21:33.607Z"
   },
   {
    "duration": 17,
    "start_time": "2022-12-07T17:21:33.627Z"
   },
   {
    "duration": 18,
    "start_time": "2022-12-07T17:21:33.646Z"
   },
   {
    "duration": 9,
    "start_time": "2022-12-07T17:21:33.666Z"
   },
   {
    "duration": 12,
    "start_time": "2022-12-07T17:21:33.676Z"
   },
   {
    "duration": 9,
    "start_time": "2022-12-07T17:21:33.692Z"
   },
   {
    "duration": 15,
    "start_time": "2022-12-07T17:21:33.703Z"
   },
   {
    "duration": 13,
    "start_time": "2022-12-07T17:21:33.720Z"
   },
   {
    "duration": 11,
    "start_time": "2022-12-07T17:21:33.735Z"
   },
   {
    "duration": 17,
    "start_time": "2022-12-07T17:21:33.748Z"
   },
   {
    "duration": 16,
    "start_time": "2022-12-07T17:21:33.767Z"
   },
   {
    "duration": 572,
    "start_time": "2022-12-07T17:21:33.785Z"
   },
   {
    "duration": 36,
    "start_time": "2022-12-07T17:21:34.359Z"
   },
   {
    "duration": 4,
    "start_time": "2022-12-07T17:21:34.398Z"
   },
   {
    "duration": 7,
    "start_time": "2022-12-07T17:21:34.404Z"
   },
   {
    "duration": 37,
    "start_time": "2022-12-07T17:21:34.413Z"
   },
   {
    "duration": 64,
    "start_time": "2022-12-07T17:21:34.453Z"
   },
   {
    "duration": 88,
    "start_time": "2022-12-07T17:21:34.520Z"
   },
   {
    "duration": 4,
    "start_time": "2022-12-07T17:21:34.610Z"
   },
   {
    "duration": 15,
    "start_time": "2022-12-07T17:21:34.616Z"
   },
   {
    "duration": 338,
    "start_time": "2022-12-07T17:21:34.633Z"
   },
   {
    "duration": 395,
    "start_time": "2022-12-07T17:21:34.974Z"
   },
   {
    "duration": 24,
    "start_time": "2022-12-07T17:21:35.371Z"
   },
   {
    "duration": 36,
    "start_time": "2022-12-07T17:21:35.397Z"
   },
   {
    "duration": 3,
    "start_time": "2022-12-07T17:21:35.435Z"
   },
   {
    "duration": 1707,
    "start_time": "2022-12-07T17:21:35.440Z"
   },
   {
    "duration": 439,
    "start_time": "2022-12-07T17:21:37.149Z"
   },
   {
    "duration": 53,
    "start_time": "2022-12-07T17:21:37.590Z"
   },
   {
    "duration": 273,
    "start_time": "2022-12-07T17:21:37.644Z"
   },
   {
    "duration": 246,
    "start_time": "2022-12-07T17:21:37.918Z"
   },
   {
    "duration": 39,
    "start_time": "2022-12-07T17:21:38.165Z"
   },
   {
    "duration": 409,
    "start_time": "2022-12-07T17:21:38.207Z"
   },
   {
    "duration": 15,
    "start_time": "2022-12-07T17:21:38.618Z"
   },
   {
    "duration": 25,
    "start_time": "2022-12-07T17:21:38.634Z"
   },
   {
    "duration": 25,
    "start_time": "2022-12-07T17:21:38.661Z"
   },
   {
    "duration": 89,
    "start_time": "2022-12-07T17:21:38.688Z"
   },
   {
    "duration": 2020,
    "start_time": "2022-12-07T17:21:38.779Z"
   },
   {
    "duration": 2101,
    "start_time": "2022-12-07T17:21:40.802Z"
   },
   {
    "duration": 2800,
    "start_time": "2022-12-07T17:21:42.905Z"
   },
   {
    "duration": 165,
    "start_time": "2022-12-07T17:46:55.140Z"
   },
   {
    "duration": 44,
    "start_time": "2022-12-07T17:51:56.310Z"
   },
   {
    "duration": 46,
    "start_time": "2022-12-07T17:52:06.018Z"
   },
   {
    "duration": 43,
    "start_time": "2022-12-07T17:52:12.122Z"
   },
   {
    "duration": 192,
    "start_time": "2022-12-07T17:52:28.442Z"
   },
   {
    "duration": 34,
    "start_time": "2022-12-07T17:53:09.505Z"
   },
   {
    "duration": 349,
    "start_time": "2022-12-07T17:55:44.171Z"
   },
   {
    "duration": 42,
    "start_time": "2022-12-07T18:06:13.151Z"
   },
   {
    "duration": 171,
    "start_time": "2022-12-07T18:14:12.930Z"
   },
   {
    "duration": 260,
    "start_time": "2022-12-07T18:14:48.637Z"
   },
   {
    "duration": 165,
    "start_time": "2022-12-07T18:15:13.010Z"
   },
   {
    "duration": 157,
    "start_time": "2022-12-07T18:15:16.741Z"
   },
   {
    "duration": 162,
    "start_time": "2022-12-07T18:15:51.385Z"
   },
   {
    "duration": 153,
    "start_time": "2022-12-07T18:16:18.112Z"
   },
   {
    "duration": 171,
    "start_time": "2022-12-07T18:17:42.936Z"
   },
   {
    "duration": 202,
    "start_time": "2022-12-07T18:19:08.325Z"
   },
   {
    "duration": 173,
    "start_time": "2022-12-07T18:19:16.936Z"
   },
   {
    "duration": 170,
    "start_time": "2022-12-07T18:21:25.257Z"
   },
   {
    "duration": 170,
    "start_time": "2022-12-07T18:27:53.321Z"
   },
   {
    "duration": 161,
    "start_time": "2022-12-07T18:28:13.992Z"
   },
   {
    "duration": 164,
    "start_time": "2022-12-07T18:28:24.508Z"
   },
   {
    "duration": 168,
    "start_time": "2022-12-07T18:28:59.720Z"
   },
   {
    "duration": 177,
    "start_time": "2022-12-07T18:30:51.622Z"
   },
   {
    "duration": 269,
    "start_time": "2022-12-07T18:33:05.482Z"
   },
   {
    "duration": 169,
    "start_time": "2022-12-07T18:33:17.950Z"
   },
   {
    "duration": 159,
    "start_time": "2022-12-07T18:34:21.865Z"
   },
   {
    "duration": 190,
    "start_time": "2022-12-07T18:34:52.715Z"
   },
   {
    "duration": 195,
    "start_time": "2022-12-07T18:35:06.888Z"
   },
   {
    "duration": 176,
    "start_time": "2022-12-07T18:35:20.121Z"
   },
   {
    "duration": 216,
    "start_time": "2022-12-07T18:35:40.254Z"
   },
   {
    "duration": 181,
    "start_time": "2022-12-07T18:35:49.947Z"
   },
   {
    "duration": 192,
    "start_time": "2022-12-07T18:37:23.649Z"
   },
   {
    "duration": 48,
    "start_time": "2022-12-07T18:55:14.155Z"
   },
   {
    "duration": 3,
    "start_time": "2022-12-07T19:09:25.441Z"
   },
   {
    "duration": 4,
    "start_time": "2022-12-07T19:09:48.204Z"
   },
   {
    "duration": 3,
    "start_time": "2022-12-07T19:10:01.836Z"
   },
   {
    "duration": 5,
    "start_time": "2022-12-07T19:10:11.690Z"
   },
   {
    "duration": 4,
    "start_time": "2022-12-07T19:10:21.005Z"
   },
   {
    "duration": 1140,
    "start_time": "2022-12-07T21:05:40.226Z"
   },
   {
    "duration": 988,
    "start_time": "2022-12-07T21:05:41.368Z"
   },
   {
    "duration": 64,
    "start_time": "2022-12-07T21:05:42.358Z"
   },
   {
    "duration": 281,
    "start_time": "2022-12-07T21:05:42.425Z"
   },
   {
    "duration": 5,
    "start_time": "2022-12-07T21:05:42.708Z"
   },
   {
    "duration": 12,
    "start_time": "2022-12-07T21:05:42.715Z"
   },
   {
    "duration": 15,
    "start_time": "2022-12-07T21:05:42.729Z"
   },
   {
    "duration": 172,
    "start_time": "2022-12-07T21:05:42.746Z"
   },
   {
    "duration": 43,
    "start_time": "2022-12-07T21:05:42.919Z"
   },
   {
    "duration": 49,
    "start_time": "2022-12-07T21:05:42.966Z"
   },
   {
    "duration": 13,
    "start_time": "2022-12-07T21:05:43.017Z"
   },
   {
    "duration": 14,
    "start_time": "2022-12-07T21:05:43.032Z"
   },
   {
    "duration": 3,
    "start_time": "2022-12-07T21:05:43.048Z"
   },
   {
    "duration": 7,
    "start_time": "2022-12-07T21:05:43.053Z"
   },
   {
    "duration": 15,
    "start_time": "2022-12-07T21:05:43.062Z"
   },
   {
    "duration": 17,
    "start_time": "2022-12-07T21:05:43.113Z"
   },
   {
    "duration": 9,
    "start_time": "2022-12-07T21:05:43.132Z"
   },
   {
    "duration": 11,
    "start_time": "2022-12-07T21:05:43.143Z"
   },
   {
    "duration": 11,
    "start_time": "2022-12-07T21:05:43.156Z"
   },
   {
    "duration": 10,
    "start_time": "2022-12-07T21:05:43.169Z"
   },
   {
    "duration": 8,
    "start_time": "2022-12-07T21:05:43.215Z"
   },
   {
    "duration": 5,
    "start_time": "2022-12-07T21:05:43.225Z"
   },
   {
    "duration": 7,
    "start_time": "2022-12-07T21:05:43.232Z"
   },
   {
    "duration": 9,
    "start_time": "2022-12-07T21:05:43.241Z"
   },
   {
    "duration": 12,
    "start_time": "2022-12-07T21:05:43.251Z"
   },
   {
    "duration": 7,
    "start_time": "2022-12-07T21:05:43.265Z"
   },
   {
    "duration": 8,
    "start_time": "2022-12-07T21:05:43.311Z"
   },
   {
    "duration": 9,
    "start_time": "2022-12-07T21:05:43.324Z"
   },
   {
    "duration": 10,
    "start_time": "2022-12-07T21:05:43.335Z"
   },
   {
    "duration": 7,
    "start_time": "2022-12-07T21:05:43.347Z"
   },
   {
    "duration": 8,
    "start_time": "2022-12-07T21:05:43.356Z"
   },
   {
    "duration": 8,
    "start_time": "2022-12-07T21:05:43.366Z"
   },
   {
    "duration": 42,
    "start_time": "2022-12-07T21:05:43.376Z"
   },
   {
    "duration": 497,
    "start_time": "2022-12-07T21:05:43.420Z"
   },
   {
    "duration": 21,
    "start_time": "2022-12-07T21:05:43.920Z"
   },
   {
    "duration": 29,
    "start_time": "2022-12-07T21:05:43.943Z"
   },
   {
    "duration": 18,
    "start_time": "2022-12-07T21:05:43.974Z"
   },
   {
    "duration": 41,
    "start_time": "2022-12-07T21:05:43.994Z"
   },
   {
    "duration": 195,
    "start_time": "2022-12-07T21:05:44.037Z"
   },
   {
    "duration": 174,
    "start_time": "2022-12-07T21:05:44.235Z"
   },
   {
    "duration": 32,
    "start_time": "2022-12-07T21:05:44.412Z"
   },
   {
    "duration": 196,
    "start_time": "2022-12-07T21:05:44.446Z"
   },
   {
    "duration": 184,
    "start_time": "2022-12-07T21:05:44.645Z"
   },
   {
    "duration": 39,
    "start_time": "2022-12-07T21:05:44.832Z"
   },
   {
    "duration": 231,
    "start_time": "2022-12-07T21:05:44.873Z"
   },
   {
    "duration": 217,
    "start_time": "2022-12-07T21:05:45.106Z"
   },
   {
    "duration": 4,
    "start_time": "2022-12-07T21:05:45.325Z"
   },
   {
    "duration": 10,
    "start_time": "2022-12-07T21:05:45.331Z"
   },
   {
    "duration": 314,
    "start_time": "2022-12-07T21:05:45.343Z"
   },
   {
    "duration": 449,
    "start_time": "2022-12-07T21:05:45.659Z"
   },
   {
    "duration": 19,
    "start_time": "2022-12-07T21:05:46.112Z"
   },
   {
    "duration": 39,
    "start_time": "2022-12-07T21:05:46.133Z"
   },
   {
    "duration": 3,
    "start_time": "2022-12-07T21:05:46.174Z"
   },
   {
    "duration": 2089,
    "start_time": "2022-12-07T21:05:46.179Z"
   },
   {
    "duration": 403,
    "start_time": "2022-12-07T21:05:48.269Z"
   },
   {
    "duration": 64,
    "start_time": "2022-12-07T21:05:48.674Z"
   },
   {
    "duration": 245,
    "start_time": "2022-12-07T21:05:48.740Z"
   },
   {
    "duration": 270,
    "start_time": "2022-12-07T21:05:48.987Z"
   },
   {
    "duration": 34,
    "start_time": "2022-12-07T21:05:49.258Z"
   },
   {
    "duration": 215,
    "start_time": "2022-12-07T21:05:49.293Z"
   },
   {
    "duration": 14,
    "start_time": "2022-12-07T21:05:49.512Z"
   },
   {
    "duration": 21,
    "start_time": "2022-12-07T21:05:49.528Z"
   },
   {
    "duration": 7,
    "start_time": "2022-12-07T21:05:49.551Z"
   },
   {
    "duration": 98,
    "start_time": "2022-12-07T21:05:49.559Z"
   },
   {
    "duration": 1807,
    "start_time": "2022-12-07T21:05:49.659Z"
   },
   {
    "duration": 1961,
    "start_time": "2022-12-07T21:05:51.468Z"
   },
   {
    "duration": 2955,
    "start_time": "2022-12-07T21:05:53.431Z"
   },
   {
    "duration": 4,
    "start_time": "2022-12-07T21:05:56.388Z"
   },
   {
    "duration": 21,
    "start_time": "2022-12-07T21:05:56.395Z"
   },
   {
    "duration": 70,
    "start_time": "2022-12-10T08:23:51.777Z"
   },
   {
    "duration": 1426,
    "start_time": "2022-12-10T08:23:58.400Z"
   },
   {
    "duration": 2576,
    "start_time": "2022-12-10T08:23:59.829Z"
   },
   {
    "duration": 89,
    "start_time": "2022-12-10T08:24:02.406Z"
   },
   {
    "duration": 283,
    "start_time": "2022-12-10T08:24:02.497Z"
   },
   {
    "duration": 4,
    "start_time": "2022-12-10T08:24:02.782Z"
   },
   {
    "duration": 8,
    "start_time": "2022-12-10T08:24:02.788Z"
   },
   {
    "duration": 36,
    "start_time": "2022-12-10T08:24:02.797Z"
   },
   {
    "duration": 182,
    "start_time": "2022-12-10T08:24:02.835Z"
   },
   {
    "duration": 54,
    "start_time": "2022-12-10T08:24:03.021Z"
   },
   {
    "duration": 65,
    "start_time": "2022-12-10T08:24:03.078Z"
   },
   {
    "duration": 25,
    "start_time": "2022-12-10T08:24:03.144Z"
   },
   {
    "duration": 15,
    "start_time": "2022-12-10T08:24:03.170Z"
   },
   {
    "duration": 3,
    "start_time": "2022-12-10T08:24:03.187Z"
   },
   {
    "duration": 7,
    "start_time": "2022-12-10T08:24:03.192Z"
   },
   {
    "duration": 15,
    "start_time": "2022-12-10T08:24:03.201Z"
   },
   {
    "duration": 52,
    "start_time": "2022-12-10T08:24:03.218Z"
   },
   {
    "duration": 9,
    "start_time": "2022-12-10T08:24:03.272Z"
   },
   {
    "duration": 17,
    "start_time": "2022-12-10T08:24:03.282Z"
   },
   {
    "duration": 10,
    "start_time": "2022-12-10T08:24:03.300Z"
   },
   {
    "duration": 60,
    "start_time": "2022-12-10T08:24:03.312Z"
   },
   {
    "duration": 10,
    "start_time": "2022-12-10T08:24:03.375Z"
   },
   {
    "duration": 9,
    "start_time": "2022-12-10T08:24:03.387Z"
   },
   {
    "duration": 10,
    "start_time": "2022-12-10T08:24:03.398Z"
   },
   {
    "duration": 68,
    "start_time": "2022-12-10T08:24:03.409Z"
   },
   {
    "duration": 22,
    "start_time": "2022-12-10T08:24:03.479Z"
   },
   {
    "duration": 7,
    "start_time": "2022-12-10T08:24:03.503Z"
   },
   {
    "duration": 52,
    "start_time": "2022-12-10T08:24:03.512Z"
   },
   {
    "duration": 10,
    "start_time": "2022-12-10T08:24:03.568Z"
   },
   {
    "duration": 29,
    "start_time": "2022-12-10T08:24:03.580Z"
   },
   {
    "duration": 54,
    "start_time": "2022-12-10T08:24:03.611Z"
   },
   {
    "duration": 10,
    "start_time": "2022-12-10T08:24:03.667Z"
   },
   {
    "duration": 12,
    "start_time": "2022-12-10T08:24:03.679Z"
   },
   {
    "duration": 14,
    "start_time": "2022-12-10T08:24:03.693Z"
   },
   {
    "duration": 584,
    "start_time": "2022-12-10T08:24:03.709Z"
   },
   {
    "duration": 29,
    "start_time": "2022-12-10T08:24:04.296Z"
   },
   {
    "duration": 36,
    "start_time": "2022-12-10T08:24:04.329Z"
   },
   {
    "duration": 7,
    "start_time": "2022-12-10T08:24:04.367Z"
   },
   {
    "duration": 169,
    "start_time": "2022-12-10T08:24:04.375Z"
   },
   {
    "duration": 0,
    "start_time": "2022-12-10T08:24:04.545Z"
   },
   {
    "duration": 0,
    "start_time": "2022-12-10T08:24:04.546Z"
   },
   {
    "duration": 0,
    "start_time": "2022-12-10T08:24:04.547Z"
   },
   {
    "duration": 0,
    "start_time": "2022-12-10T08:24:04.547Z"
   },
   {
    "duration": 0,
    "start_time": "2022-12-10T08:24:04.549Z"
   },
   {
    "duration": 0,
    "start_time": "2022-12-10T08:24:04.550Z"
   },
   {
    "duration": 0,
    "start_time": "2022-12-10T08:24:04.552Z"
   },
   {
    "duration": 0,
    "start_time": "2022-12-10T08:24:04.553Z"
   },
   {
    "duration": 0,
    "start_time": "2022-12-10T08:24:04.555Z"
   },
   {
    "duration": 0,
    "start_time": "2022-12-10T08:24:04.556Z"
   },
   {
    "duration": 0,
    "start_time": "2022-12-10T08:24:04.558Z"
   },
   {
    "duration": 0,
    "start_time": "2022-12-10T08:24:04.559Z"
   },
   {
    "duration": 0,
    "start_time": "2022-12-10T08:24:04.562Z"
   },
   {
    "duration": 0,
    "start_time": "2022-12-10T08:24:04.563Z"
   },
   {
    "duration": 0,
    "start_time": "2022-12-10T08:24:04.564Z"
   },
   {
    "duration": 0,
    "start_time": "2022-12-10T08:24:04.566Z"
   },
   {
    "duration": 0,
    "start_time": "2022-12-10T08:24:04.567Z"
   },
   {
    "duration": 0,
    "start_time": "2022-12-10T08:24:04.568Z"
   },
   {
    "duration": 0,
    "start_time": "2022-12-10T08:24:04.570Z"
   },
   {
    "duration": 0,
    "start_time": "2022-12-10T08:24:04.570Z"
   },
   {
    "duration": 0,
    "start_time": "2022-12-10T08:24:04.571Z"
   },
   {
    "duration": 0,
    "start_time": "2022-12-10T08:24:04.572Z"
   },
   {
    "duration": 0,
    "start_time": "2022-12-10T08:24:04.573Z"
   },
   {
    "duration": 0,
    "start_time": "2022-12-10T08:24:04.575Z"
   },
   {
    "duration": 0,
    "start_time": "2022-12-10T08:24:04.576Z"
   },
   {
    "duration": 0,
    "start_time": "2022-12-10T08:24:04.577Z"
   },
   {
    "duration": 0,
    "start_time": "2022-12-10T08:24:04.577Z"
   },
   {
    "duration": 0,
    "start_time": "2022-12-10T08:24:04.578Z"
   },
   {
    "duration": 0,
    "start_time": "2022-12-10T08:24:04.580Z"
   },
   {
    "duration": 0,
    "start_time": "2022-12-10T08:24:04.581Z"
   },
   {
    "duration": 0,
    "start_time": "2022-12-10T08:24:04.581Z"
   },
   {
    "duration": 42,
    "start_time": "2022-12-10T08:24:35.695Z"
   },
   {
    "duration": 34,
    "start_time": "2022-12-10T08:29:54.571Z"
   },
   {
    "duration": 53,
    "start_time": "2022-12-10T08:30:49.010Z"
   },
   {
    "duration": 37,
    "start_time": "2022-12-10T08:30:54.461Z"
   },
   {
    "duration": 46,
    "start_time": "2022-12-10T08:31:48.859Z"
   },
   {
    "duration": 42,
    "start_time": "2022-12-10T08:31:54.559Z"
   },
   {
    "duration": 56,
    "start_time": "2022-12-10T08:32:10.470Z"
   },
   {
    "duration": 61,
    "start_time": "2022-12-10T08:32:20.951Z"
   },
   {
    "duration": 69,
    "start_time": "2022-12-10T08:33:05.300Z"
   },
   {
    "duration": 68,
    "start_time": "2022-12-10T08:33:17.530Z"
   },
   {
    "duration": 40,
    "start_time": "2022-12-10T08:33:33.766Z"
   },
   {
    "duration": 34,
    "start_time": "2022-12-10T08:34:47.670Z"
   },
   {
    "duration": 40,
    "start_time": "2022-12-10T08:34:50.366Z"
   },
   {
    "duration": 46,
    "start_time": "2022-12-10T08:34:57.336Z"
   },
   {
    "duration": 36,
    "start_time": "2022-12-10T08:35:09.263Z"
   },
   {
    "duration": 1214,
    "start_time": "2022-12-10T08:38:00.694Z"
   },
   {
    "duration": 753,
    "start_time": "2022-12-10T08:38:01.912Z"
   },
   {
    "duration": 82,
    "start_time": "2022-12-10T08:38:02.666Z"
   },
   {
    "duration": 315,
    "start_time": "2022-12-10T08:38:02.753Z"
   },
   {
    "duration": 3,
    "start_time": "2022-12-10T08:38:03.069Z"
   },
   {
    "duration": 26,
    "start_time": "2022-12-10T08:38:03.074Z"
   },
   {
    "duration": 86,
    "start_time": "2022-12-10T08:38:03.101Z"
   },
   {
    "duration": 219,
    "start_time": "2022-12-10T08:38:03.190Z"
   },
   {
    "duration": 65,
    "start_time": "2022-12-10T08:38:03.411Z"
   },
   {
    "duration": 50,
    "start_time": "2022-12-10T08:38:03.479Z"
   },
   {
    "duration": 60,
    "start_time": "2022-12-10T08:38:03.530Z"
   },
   {
    "duration": 81,
    "start_time": "2022-12-10T08:38:03.592Z"
   },
   {
    "duration": 9,
    "start_time": "2022-12-10T08:38:03.675Z"
   },
   {
    "duration": 10,
    "start_time": "2022-12-10T08:38:03.686Z"
   },
   {
    "duration": 20,
    "start_time": "2022-12-10T08:38:03.698Z"
   },
   {
    "duration": 58,
    "start_time": "2022-12-10T08:38:03.720Z"
   },
   {
    "duration": 14,
    "start_time": "2022-12-10T08:38:03.780Z"
   },
   {
    "duration": 12,
    "start_time": "2022-12-10T08:38:03.796Z"
   },
   {
    "duration": 34,
    "start_time": "2022-12-10T08:38:03.810Z"
   },
   {
    "duration": 24,
    "start_time": "2022-12-10T08:38:03.845Z"
   },
   {
    "duration": 12,
    "start_time": "2022-12-10T08:38:03.870Z"
   },
   {
    "duration": 7,
    "start_time": "2022-12-10T08:38:03.883Z"
   },
   {
    "duration": 9,
    "start_time": "2022-12-10T08:38:03.891Z"
   },
   {
    "duration": 21,
    "start_time": "2022-12-10T08:38:03.902Z"
   },
   {
    "duration": 56,
    "start_time": "2022-12-10T08:38:03.924Z"
   },
   {
    "duration": 13,
    "start_time": "2022-12-10T08:38:03.982Z"
   },
   {
    "duration": 19,
    "start_time": "2022-12-10T08:38:03.997Z"
   },
   {
    "duration": 38,
    "start_time": "2022-12-10T08:38:04.027Z"
   },
   {
    "duration": 13,
    "start_time": "2022-12-10T08:38:04.067Z"
   },
   {
    "duration": 10,
    "start_time": "2022-12-10T08:38:04.081Z"
   },
   {
    "duration": 9,
    "start_time": "2022-12-10T08:38:04.093Z"
   },
   {
    "duration": 51,
    "start_time": "2022-12-10T08:38:04.104Z"
   },
   {
    "duration": 20,
    "start_time": "2022-12-10T08:38:04.158Z"
   },
   {
    "duration": 594,
    "start_time": "2022-12-10T08:38:04.180Z"
   },
   {
    "duration": 50,
    "start_time": "2022-12-10T08:38:04.776Z"
   },
   {
    "duration": 47,
    "start_time": "2022-12-10T08:38:04.827Z"
   },
   {
    "duration": 8,
    "start_time": "2022-12-10T08:38:04.876Z"
   },
   {
    "duration": 80,
    "start_time": "2022-12-10T08:38:04.886Z"
   },
   {
    "duration": 211,
    "start_time": "2022-12-10T08:38:04.971Z"
   },
   {
    "duration": 195,
    "start_time": "2022-12-10T08:38:05.183Z"
   },
   {
    "duration": 52,
    "start_time": "2022-12-10T08:38:05.380Z"
   },
   {
    "duration": 211,
    "start_time": "2022-12-10T08:38:05.438Z"
   },
   {
    "duration": 185,
    "start_time": "2022-12-10T08:38:05.655Z"
   },
   {
    "duration": 41,
    "start_time": "2022-12-10T08:38:05.841Z"
   },
   {
    "duration": 225,
    "start_time": "2022-12-10T08:38:05.884Z"
   },
   {
    "duration": 238,
    "start_time": "2022-12-10T08:38:06.110Z"
   },
   {
    "duration": 8,
    "start_time": "2022-12-10T08:38:06.354Z"
   },
   {
    "duration": 16,
    "start_time": "2022-12-10T08:38:06.364Z"
   },
   {
    "duration": 352,
    "start_time": "2022-12-10T08:38:06.382Z"
   },
   {
    "duration": 425,
    "start_time": "2022-12-10T08:38:06.736Z"
   },
   {
    "duration": 19,
    "start_time": "2022-12-10T08:38:07.163Z"
   },
   {
    "duration": 43,
    "start_time": "2022-12-10T08:38:07.184Z"
   },
   {
    "duration": 6,
    "start_time": "2022-12-10T08:38:07.238Z"
   },
   {
    "duration": 1734,
    "start_time": "2022-12-10T08:38:07.246Z"
   },
   {
    "duration": 413,
    "start_time": "2022-12-10T08:38:08.982Z"
   },
   {
    "duration": 72,
    "start_time": "2022-12-10T08:38:09.396Z"
   },
   {
    "duration": 279,
    "start_time": "2022-12-10T08:38:09.470Z"
   },
   {
    "duration": 268,
    "start_time": "2022-12-10T08:38:09.758Z"
   },
   {
    "duration": 49,
    "start_time": "2022-12-10T08:38:10.034Z"
   },
   {
    "duration": 268,
    "start_time": "2022-12-10T08:38:10.085Z"
   },
   {
    "duration": 28,
    "start_time": "2022-12-10T08:38:10.355Z"
   },
   {
    "duration": 30,
    "start_time": "2022-12-10T08:38:10.385Z"
   },
   {
    "duration": 6,
    "start_time": "2022-12-10T08:38:10.420Z"
   },
   {
    "duration": 131,
    "start_time": "2022-12-10T08:38:10.427Z"
   },
   {
    "duration": 2005,
    "start_time": "2022-12-10T08:38:10.561Z"
   },
   {
    "duration": 2112,
    "start_time": "2022-12-10T08:38:12.568Z"
   },
   {
    "duration": 2898,
    "start_time": "2022-12-10T08:38:14.682Z"
   },
   {
    "duration": 4,
    "start_time": "2022-12-10T08:38:17.582Z"
   },
   {
    "duration": 62,
    "start_time": "2022-12-10T08:38:17.588Z"
   },
   {
    "duration": 237,
    "start_time": "2022-12-10T08:51:12.673Z"
   },
   {
    "duration": 351,
    "start_time": "2022-12-10T09:35:21.013Z"
   },
   {
    "duration": 336,
    "start_time": "2022-12-10T09:36:25.009Z"
   },
   {
    "duration": 323,
    "start_time": "2022-12-10T09:38:15.358Z"
   },
   {
    "duration": 407,
    "start_time": "2022-12-10T09:38:29.668Z"
   },
   {
    "duration": 382,
    "start_time": "2022-12-10T09:41:02.687Z"
   },
   {
    "duration": 46,
    "start_time": "2022-12-10T09:47:29.793Z"
   },
   {
    "duration": 1349,
    "start_time": "2022-12-10T09:49:34.714Z"
   },
   {
    "duration": 724,
    "start_time": "2022-12-10T09:49:36.066Z"
   },
   {
    "duration": 77,
    "start_time": "2022-12-10T09:49:36.792Z"
   },
   {
    "duration": 287,
    "start_time": "2022-12-10T09:49:36.871Z"
   },
   {
    "duration": 3,
    "start_time": "2022-12-10T09:49:37.160Z"
   },
   {
    "duration": 11,
    "start_time": "2022-12-10T09:49:37.164Z"
   },
   {
    "duration": 23,
    "start_time": "2022-12-10T09:49:37.176Z"
   },
   {
    "duration": 201,
    "start_time": "2022-12-10T09:49:37.201Z"
   },
   {
    "duration": 64,
    "start_time": "2022-12-10T09:49:37.404Z"
   },
   {
    "duration": 64,
    "start_time": "2022-12-10T09:49:37.472Z"
   },
   {
    "duration": 19,
    "start_time": "2022-12-10T09:49:37.543Z"
   },
   {
    "duration": 15,
    "start_time": "2022-12-10T09:49:37.564Z"
   },
   {
    "duration": 4,
    "start_time": "2022-12-10T09:49:37.580Z"
   },
   {
    "duration": 6,
    "start_time": "2022-12-10T09:49:37.585Z"
   },
   {
    "duration": 10,
    "start_time": "2022-12-10T09:49:37.593Z"
   },
   {
    "duration": 31,
    "start_time": "2022-12-10T09:49:37.605Z"
   },
   {
    "duration": 27,
    "start_time": "2022-12-10T09:49:37.638Z"
   },
   {
    "duration": 12,
    "start_time": "2022-12-10T09:49:37.666Z"
   },
   {
    "duration": 11,
    "start_time": "2022-12-10T09:49:37.680Z"
   },
   {
    "duration": 11,
    "start_time": "2022-12-10T09:49:37.693Z"
   },
   {
    "duration": 14,
    "start_time": "2022-12-10T09:49:37.706Z"
   },
   {
    "duration": 36,
    "start_time": "2022-12-10T09:49:37.723Z"
   },
   {
    "duration": 9,
    "start_time": "2022-12-10T09:49:37.761Z"
   },
   {
    "duration": 12,
    "start_time": "2022-12-10T09:49:37.772Z"
   },
   {
    "duration": 16,
    "start_time": "2022-12-10T09:49:37.785Z"
   },
   {
    "duration": 54,
    "start_time": "2022-12-10T09:49:37.803Z"
   },
   {
    "duration": 11,
    "start_time": "2022-12-10T09:49:37.859Z"
   },
   {
    "duration": 8,
    "start_time": "2022-12-10T09:49:37.876Z"
   },
   {
    "duration": 13,
    "start_time": "2022-12-10T09:49:37.886Z"
   },
   {
    "duration": 11,
    "start_time": "2022-12-10T09:49:37.901Z"
   },
   {
    "duration": 39,
    "start_time": "2022-12-10T09:49:37.919Z"
   },
   {
    "duration": 8,
    "start_time": "2022-12-10T09:49:37.960Z"
   },
   {
    "duration": 13,
    "start_time": "2022-12-10T09:49:37.970Z"
   },
   {
    "duration": 567,
    "start_time": "2022-12-10T09:49:37.985Z"
   },
   {
    "duration": 22,
    "start_time": "2022-12-10T09:49:38.558Z"
   },
   {
    "duration": 20,
    "start_time": "2022-12-10T09:49:38.582Z"
   },
   {
    "duration": 48,
    "start_time": "2022-12-10T09:49:38.604Z"
   },
   {
    "duration": 51,
    "start_time": "2022-12-10T09:49:38.654Z"
   },
   {
    "duration": 221,
    "start_time": "2022-12-10T09:49:38.707Z"
   },
   {
    "duration": 191,
    "start_time": "2022-12-10T09:49:38.933Z"
   },
   {
    "duration": 36,
    "start_time": "2022-12-10T09:49:39.133Z"
   },
   {
    "duration": 193,
    "start_time": "2022-12-10T09:49:39.171Z"
   },
   {
    "duration": 191,
    "start_time": "2022-12-10T09:49:39.366Z"
   },
   {
    "duration": 35,
    "start_time": "2022-12-10T09:49:39.559Z"
   },
   {
    "duration": 208,
    "start_time": "2022-12-10T09:49:39.597Z"
   },
   {
    "duration": 218,
    "start_time": "2022-12-10T09:49:39.807Z"
   },
   {
    "duration": 13,
    "start_time": "2022-12-10T09:49:40.026Z"
   },
   {
    "duration": 23,
    "start_time": "2022-12-10T09:49:40.042Z"
   },
   {
    "duration": 380,
    "start_time": "2022-12-10T09:49:40.066Z"
   },
   {
    "duration": 471,
    "start_time": "2022-12-10T09:49:40.455Z"
   },
   {
    "duration": 30,
    "start_time": "2022-12-10T09:49:40.928Z"
   },
   {
    "duration": 43,
    "start_time": "2022-12-10T09:49:40.960Z"
   },
   {
    "duration": 3,
    "start_time": "2022-12-10T09:49:41.005Z"
   },
   {
    "duration": 1650,
    "start_time": "2022-12-10T09:49:41.010Z"
   },
   {
    "duration": 292,
    "start_time": "2022-12-10T09:49:42.661Z"
   },
   {
    "duration": 45,
    "start_time": "2022-12-10T09:49:42.958Z"
   },
   {
    "duration": 250,
    "start_time": "2022-12-10T09:49:43.005Z"
   },
   {
    "duration": 194,
    "start_time": "2022-12-10T09:49:43.257Z"
   },
   {
    "duration": 22,
    "start_time": "2022-12-10T09:49:43.453Z"
   },
   {
    "duration": 207,
    "start_time": "2022-12-10T09:49:43.477Z"
   },
   {
    "duration": 12,
    "start_time": "2022-12-10T09:49:43.686Z"
   },
   {
    "duration": 38,
    "start_time": "2022-12-10T09:49:43.700Z"
   },
   {
    "duration": 16,
    "start_time": "2022-12-10T09:49:43.741Z"
   },
   {
    "duration": 51,
    "start_time": "2022-12-10T09:49:43.759Z"
   },
   {
    "duration": 1860,
    "start_time": "2022-12-10T09:49:43.812Z"
   },
   {
    "duration": 1994,
    "start_time": "2022-12-10T09:49:45.674Z"
   },
   {
    "duration": 2608,
    "start_time": "2022-12-10T09:49:47.670Z"
   },
   {
    "duration": 6,
    "start_time": "2022-12-10T09:49:50.282Z"
   },
   {
    "duration": 9,
    "start_time": "2022-12-10T09:49:50.291Z"
   },
   {
    "duration": 60,
    "start_time": "2022-12-10T09:57:27.011Z"
   },
   {
    "duration": 21,
    "start_time": "2022-12-10T09:59:12.382Z"
   },
   {
    "duration": 58,
    "start_time": "2022-12-10T09:59:38.488Z"
   },
   {
    "duration": 136,
    "start_time": "2022-12-10T10:14:04.649Z"
   },
   {
    "duration": 4,
    "start_time": "2022-12-10T10:14:13.166Z"
   },
   {
    "duration": 3,
    "start_time": "2022-12-10T10:14:24.271Z"
   },
   {
    "duration": 6,
    "start_time": "2022-12-10T10:14:27.041Z"
   },
   {
    "duration": 850,
    "start_time": "2022-12-10T11:00:08.793Z"
   },
   {
    "duration": 3,
    "start_time": "2022-12-10T11:18:30.807Z"
   },
   {
    "duration": 28,
    "start_time": "2022-12-10T11:19:35.939Z"
   },
   {
    "duration": 39,
    "start_time": "2022-12-10T11:20:53.138Z"
   },
   {
    "duration": 10,
    "start_time": "2022-12-10T11:21:02.295Z"
   },
   {
    "duration": 9,
    "start_time": "2022-12-10T11:21:46.436Z"
   },
   {
    "duration": 7,
    "start_time": "2022-12-10T11:22:17.168Z"
   },
   {
    "duration": 12,
    "start_time": "2022-12-10T11:22:25.034Z"
   },
   {
    "duration": 13,
    "start_time": "2022-12-10T11:22:48.914Z"
   },
   {
    "duration": 3,
    "start_time": "2022-12-10T11:29:08.535Z"
   },
   {
    "duration": 3,
    "start_time": "2022-12-10T11:29:08.943Z"
   },
   {
    "duration": 100,
    "start_time": "2022-12-10T11:29:42.207Z"
   },
   {
    "duration": 104,
    "start_time": "2022-12-10T11:29:58.305Z"
   },
   {
    "duration": 16,
    "start_time": "2022-12-10T11:41:30.637Z"
   },
   {
    "duration": 10,
    "start_time": "2022-12-10T11:42:30.074Z"
   },
   {
    "duration": 61,
    "start_time": "2022-12-10T11:42:35.811Z"
   },
   {
    "duration": 1269,
    "start_time": "2022-12-10T12:24:26.736Z"
   },
   {
    "duration": 735,
    "start_time": "2022-12-10T12:24:28.007Z"
   },
   {
    "duration": 55,
    "start_time": "2022-12-10T12:24:28.743Z"
   },
   {
    "duration": 277,
    "start_time": "2022-12-10T12:24:28.801Z"
   },
   {
    "duration": 3,
    "start_time": "2022-12-10T12:24:29.081Z"
   },
   {
    "duration": 17,
    "start_time": "2022-12-10T12:24:29.086Z"
   },
   {
    "duration": 58,
    "start_time": "2022-12-10T12:24:29.105Z"
   },
   {
    "duration": 146,
    "start_time": "2022-12-10T12:24:29.164Z"
   },
   {
    "duration": 75,
    "start_time": "2022-12-10T12:24:29.312Z"
   },
   {
    "duration": 42,
    "start_time": "2022-12-10T12:24:29.389Z"
   },
   {
    "duration": 29,
    "start_time": "2022-12-10T12:24:29.433Z"
   },
   {
    "duration": 20,
    "start_time": "2022-12-10T12:24:29.464Z"
   },
   {
    "duration": 6,
    "start_time": "2022-12-10T12:24:29.486Z"
   },
   {
    "duration": 54,
    "start_time": "2022-12-10T12:24:29.495Z"
   },
   {
    "duration": 23,
    "start_time": "2022-12-10T12:24:29.551Z"
   },
   {
    "duration": 23,
    "start_time": "2022-12-10T12:24:29.576Z"
   },
   {
    "duration": 48,
    "start_time": "2022-12-10T12:24:29.601Z"
   },
   {
    "duration": 15,
    "start_time": "2022-12-10T12:24:29.650Z"
   },
   {
    "duration": 19,
    "start_time": "2022-12-10T12:24:29.667Z"
   },
   {
    "duration": 22,
    "start_time": "2022-12-10T12:24:29.688Z"
   },
   {
    "duration": 41,
    "start_time": "2022-12-10T12:24:29.711Z"
   },
   {
    "duration": 26,
    "start_time": "2022-12-10T12:24:29.754Z"
   },
   {
    "duration": 11,
    "start_time": "2022-12-10T12:24:29.782Z"
   },
   {
    "duration": 17,
    "start_time": "2022-12-10T12:24:29.795Z"
   },
   {
    "duration": 42,
    "start_time": "2022-12-10T12:24:29.814Z"
   },
   {
    "duration": 24,
    "start_time": "2022-12-10T12:24:29.859Z"
   },
   {
    "duration": 32,
    "start_time": "2022-12-10T12:24:29.885Z"
   },
   {
    "duration": 42,
    "start_time": "2022-12-10T12:24:29.918Z"
   },
   {
    "duration": 34,
    "start_time": "2022-12-10T12:24:29.961Z"
   },
   {
    "duration": 64,
    "start_time": "2022-12-10T12:24:29.997Z"
   },
   {
    "duration": 19,
    "start_time": "2022-12-10T12:24:30.063Z"
   },
   {
    "duration": 58,
    "start_time": "2022-12-10T12:24:30.084Z"
   },
   {
    "duration": 43,
    "start_time": "2022-12-10T12:24:30.144Z"
   },
   {
    "duration": 737,
    "start_time": "2022-12-10T12:24:30.189Z"
   },
   {
    "duration": 35,
    "start_time": "2022-12-10T12:24:30.929Z"
   },
   {
    "duration": 20,
    "start_time": "2022-12-10T12:24:30.966Z"
   },
   {
    "duration": 36,
    "start_time": "2022-12-10T12:24:30.988Z"
   },
   {
    "duration": 65,
    "start_time": "2022-12-10T12:24:31.033Z"
   },
   {
    "duration": 207,
    "start_time": "2022-12-10T12:24:31.100Z"
   },
   {
    "duration": 189,
    "start_time": "2022-12-10T12:24:31.312Z"
   },
   {
    "duration": 46,
    "start_time": "2022-12-10T12:24:31.505Z"
   },
   {
    "duration": 213,
    "start_time": "2022-12-10T12:24:31.553Z"
   },
   {
    "duration": 202,
    "start_time": "2022-12-10T12:24:31.768Z"
   },
   {
    "duration": 52,
    "start_time": "2022-12-10T12:24:31.972Z"
   },
   {
    "duration": 203,
    "start_time": "2022-12-10T12:24:32.026Z"
   },
   {
    "duration": 221,
    "start_time": "2022-12-10T12:24:32.232Z"
   },
   {
    "duration": 4,
    "start_time": "2022-12-10T12:24:32.456Z"
   },
   {
    "duration": 35,
    "start_time": "2022-12-10T12:24:32.461Z"
   },
   {
    "duration": 356,
    "start_time": "2022-12-10T12:24:32.498Z"
   },
   {
    "duration": 425,
    "start_time": "2022-12-10T12:24:32.856Z"
   },
   {
    "duration": 21,
    "start_time": "2022-12-10T12:24:33.284Z"
   },
   {
    "duration": 44,
    "start_time": "2022-12-10T12:24:33.307Z"
   },
   {
    "duration": 52,
    "start_time": "2022-12-10T12:24:33.353Z"
   },
   {
    "duration": 19,
    "start_time": "2022-12-10T12:24:33.406Z"
   },
   {
    "duration": 1618,
    "start_time": "2022-12-10T12:24:33.428Z"
   },
   {
    "duration": 303,
    "start_time": "2022-12-10T12:24:35.048Z"
   },
   {
    "duration": 69,
    "start_time": "2022-12-10T12:24:35.353Z"
   },
   {
    "duration": 242,
    "start_time": "2022-12-10T12:24:35.426Z"
   },
   {
    "duration": 200,
    "start_time": "2022-12-10T12:24:35.670Z"
   },
   {
    "duration": 21,
    "start_time": "2022-12-10T12:24:35.872Z"
   },
   {
    "duration": 213,
    "start_time": "2022-12-10T12:24:35.895Z"
   },
   {
    "duration": 17,
    "start_time": "2022-12-10T12:24:36.118Z"
   },
   {
    "duration": 44,
    "start_time": "2022-12-10T12:24:36.139Z"
   },
   {
    "duration": 6,
    "start_time": "2022-12-10T12:24:36.184Z"
   },
   {
    "duration": 62,
    "start_time": "2022-12-10T12:24:36.191Z"
   },
   {
    "duration": 1908,
    "start_time": "2022-12-10T12:24:36.255Z"
   },
   {
    "duration": 2021,
    "start_time": "2022-12-10T12:24:38.165Z"
   },
   {
    "duration": 2775,
    "start_time": "2022-12-10T12:24:40.188Z"
   },
   {
    "duration": 3,
    "start_time": "2022-12-10T12:24:42.966Z"
   },
   {
    "duration": 6,
    "start_time": "2022-12-10T12:24:42.971Z"
   },
   {
    "duration": 64,
    "start_time": "2022-12-10T12:24:42.980Z"
   },
   {
    "duration": 9,
    "start_time": "2022-12-10T12:24:43.046Z"
   },
   {
    "duration": 99,
    "start_time": "2022-12-10T12:31:23.111Z"
   },
   {
    "duration": 1149,
    "start_time": "2022-12-10T15:32:41.565Z"
   },
   {
    "duration": 839,
    "start_time": "2022-12-10T15:32:42.716Z"
   },
   {
    "duration": 61,
    "start_time": "2022-12-10T15:32:43.556Z"
   },
   {
    "duration": 228,
    "start_time": "2022-12-10T15:32:43.619Z"
   },
   {
    "duration": 3,
    "start_time": "2022-12-10T15:32:43.849Z"
   },
   {
    "duration": 10,
    "start_time": "2022-12-10T15:32:43.853Z"
   },
   {
    "duration": 14,
    "start_time": "2022-12-10T15:32:43.864Z"
   },
   {
    "duration": 142,
    "start_time": "2022-12-10T15:32:43.880Z"
   },
   {
    "duration": 44,
    "start_time": "2022-12-10T15:32:44.024Z"
   },
   {
    "duration": 49,
    "start_time": "2022-12-10T15:32:44.071Z"
   },
   {
    "duration": 10,
    "start_time": "2022-12-10T15:32:44.121Z"
   },
   {
    "duration": 11,
    "start_time": "2022-12-10T15:32:44.133Z"
   },
   {
    "duration": 2,
    "start_time": "2022-12-10T15:32:44.146Z"
   },
   {
    "duration": 6,
    "start_time": "2022-12-10T15:32:44.149Z"
   },
   {
    "duration": 11,
    "start_time": "2022-12-10T15:32:44.156Z"
   },
   {
    "duration": 30,
    "start_time": "2022-12-10T15:32:44.168Z"
   },
   {
    "duration": 7,
    "start_time": "2022-12-10T15:32:44.199Z"
   },
   {
    "duration": 13,
    "start_time": "2022-12-10T15:32:44.208Z"
   },
   {
    "duration": 9,
    "start_time": "2022-12-10T15:32:44.223Z"
   },
   {
    "duration": 11,
    "start_time": "2022-12-10T15:32:44.233Z"
   },
   {
    "duration": 10,
    "start_time": "2022-12-10T15:32:44.245Z"
   },
   {
    "duration": 6,
    "start_time": "2022-12-10T15:32:44.257Z"
   },
   {
    "duration": 6,
    "start_time": "2022-12-10T15:32:44.264Z"
   },
   {
    "duration": 7,
    "start_time": "2022-12-10T15:32:44.272Z"
   },
   {
    "duration": 9,
    "start_time": "2022-12-10T15:32:44.298Z"
   },
   {
    "duration": 8,
    "start_time": "2022-12-10T15:32:44.309Z"
   },
   {
    "duration": 7,
    "start_time": "2022-12-10T15:32:44.318Z"
   },
   {
    "duration": 7,
    "start_time": "2022-12-10T15:32:44.329Z"
   },
   {
    "duration": 12,
    "start_time": "2022-12-10T15:32:44.338Z"
   },
   {
    "duration": 2,
    "start_time": "2022-12-10T15:32:44.351Z"
   },
   {
    "duration": 9,
    "start_time": "2022-12-10T15:32:44.354Z"
   },
   {
    "duration": 32,
    "start_time": "2022-12-10T15:32:44.365Z"
   },
   {
    "duration": 24,
    "start_time": "2022-12-10T15:32:44.399Z"
   },
   {
    "duration": 505,
    "start_time": "2022-12-10T15:32:44.424Z"
   },
   {
    "duration": 20,
    "start_time": "2022-12-10T15:32:44.931Z"
   },
   {
    "duration": 25,
    "start_time": "2022-12-10T15:32:44.953Z"
   },
   {
    "duration": 9,
    "start_time": "2022-12-10T15:32:44.980Z"
   },
   {
    "duration": 42,
    "start_time": "2022-12-10T15:32:44.991Z"
   },
   {
    "duration": 177,
    "start_time": "2022-12-10T15:32:45.035Z"
   },
   {
    "duration": 179,
    "start_time": "2022-12-10T15:32:45.213Z"
   },
   {
    "duration": 29,
    "start_time": "2022-12-10T15:32:45.397Z"
   },
   {
    "duration": 163,
    "start_time": "2022-12-10T15:32:45.428Z"
   },
   {
    "duration": 183,
    "start_time": "2022-12-10T15:32:45.593Z"
   },
   {
    "duration": 36,
    "start_time": "2022-12-10T15:32:45.777Z"
   },
   {
    "duration": 206,
    "start_time": "2022-12-10T15:32:45.815Z"
   },
   {
    "duration": 207,
    "start_time": "2022-12-10T15:32:46.023Z"
   },
   {
    "duration": 3,
    "start_time": "2022-12-10T15:32:46.232Z"
   },
   {
    "duration": 25,
    "start_time": "2022-12-10T15:32:46.236Z"
   },
   {
    "duration": 276,
    "start_time": "2022-12-10T15:32:46.262Z"
   },
   {
    "duration": 350,
    "start_time": "2022-12-10T15:32:46.540Z"
   },
   {
    "duration": 16,
    "start_time": "2022-12-10T15:32:46.892Z"
   },
   {
    "duration": 28,
    "start_time": "2022-12-10T15:32:46.909Z"
   },
   {
    "duration": 45,
    "start_time": "2022-12-10T15:32:46.938Z"
   },
   {
    "duration": 3,
    "start_time": "2022-12-10T15:32:46.985Z"
   },
   {
    "duration": 1377,
    "start_time": "2022-12-10T15:32:46.989Z"
   },
   {
    "duration": 249,
    "start_time": "2022-12-10T15:32:48.367Z"
   },
   {
    "duration": 35,
    "start_time": "2022-12-10T15:32:48.617Z"
   },
   {
    "duration": 206,
    "start_time": "2022-12-10T15:32:48.654Z"
   },
   {
    "duration": 192,
    "start_time": "2022-12-10T15:32:48.861Z"
   },
   {
    "duration": 22,
    "start_time": "2022-12-10T15:32:49.055Z"
   },
   {
    "duration": 186,
    "start_time": "2022-12-10T15:32:49.080Z"
   },
   {
    "duration": 17,
    "start_time": "2022-12-10T15:32:49.267Z"
   },
   {
    "duration": 44,
    "start_time": "2022-12-10T15:32:49.286Z"
   },
   {
    "duration": 12,
    "start_time": "2022-12-10T15:32:49.332Z"
   },
   {
    "duration": 49,
    "start_time": "2022-12-10T15:32:49.345Z"
   },
   {
    "duration": 1633,
    "start_time": "2022-12-10T15:32:49.396Z"
   },
   {
    "duration": 1657,
    "start_time": "2022-12-10T15:32:51.031Z"
   },
   {
    "duration": 2109,
    "start_time": "2022-12-10T15:32:52.698Z"
   },
   {
    "duration": 2,
    "start_time": "2022-12-10T15:32:54.808Z"
   },
   {
    "duration": 5,
    "start_time": "2022-12-10T15:32:54.812Z"
   },
   {
    "duration": 36,
    "start_time": "2022-12-10T15:32:54.819Z"
   },
   {
    "duration": 10,
    "start_time": "2022-12-10T15:32:54.858Z"
   },
   {
    "duration": 986,
    "start_time": "2022-12-10T15:35:47.211Z"
   },
   {
    "duration": 1153,
    "start_time": "2022-12-10T15:35:55.774Z"
   },
   {
    "duration": 211,
    "start_time": "2022-12-10T15:36:52.845Z"
   },
   {
    "duration": 408,
    "start_time": "2022-12-10T15:36:58.268Z"
   },
   {
    "duration": 107,
    "start_time": "2022-12-10T15:37:06.449Z"
   },
   {
    "duration": 1235,
    "start_time": "2022-12-10T15:37:31.277Z"
   },
   {
    "duration": 640,
    "start_time": "2022-12-10T15:37:35.774Z"
   },
   {
    "duration": 66,
    "start_time": "2022-12-11T10:23:55.812Z"
   },
   {
    "duration": 8,
    "start_time": "2022-12-11T10:24:18.245Z"
   },
   {
    "duration": 7,
    "start_time": "2022-12-11T10:24:29.005Z"
   },
   {
    "duration": 8,
    "start_time": "2022-12-11T10:24:38.576Z"
   },
   {
    "duration": 8,
    "start_time": "2022-12-11T10:24:47.274Z"
   },
   {
    "duration": 7,
    "start_time": "2022-12-11T10:28:47.840Z"
   },
   {
    "duration": 8,
    "start_time": "2022-12-11T10:29:00.415Z"
   },
   {
    "duration": 1414,
    "start_time": "2022-12-11T10:29:05.280Z"
   },
   {
    "duration": 1025,
    "start_time": "2022-12-11T10:29:06.697Z"
   },
   {
    "duration": 91,
    "start_time": "2022-12-11T10:29:07.724Z"
   },
   {
    "duration": 278,
    "start_time": "2022-12-11T10:29:07.817Z"
   },
   {
    "duration": 4,
    "start_time": "2022-12-11T10:29:08.097Z"
   },
   {
    "duration": 10,
    "start_time": "2022-12-11T10:29:08.103Z"
   },
   {
    "duration": 18,
    "start_time": "2022-12-11T10:29:08.115Z"
   },
   {
    "duration": 165,
    "start_time": "2022-12-11T10:29:08.135Z"
   },
   {
    "duration": 70,
    "start_time": "2022-12-11T10:29:08.301Z"
   },
   {
    "duration": 41,
    "start_time": "2022-12-11T10:29:08.373Z"
   },
   {
    "duration": 13,
    "start_time": "2022-12-11T10:29:08.416Z"
   },
   {
    "duration": 33,
    "start_time": "2022-12-11T10:29:08.431Z"
   },
   {
    "duration": 5,
    "start_time": "2022-12-11T10:29:08.470Z"
   },
   {
    "duration": 9,
    "start_time": "2022-12-11T10:29:08.477Z"
   },
   {
    "duration": 16,
    "start_time": "2022-12-11T10:29:08.487Z"
   },
   {
    "duration": 22,
    "start_time": "2022-12-11T10:29:08.505Z"
   },
   {
    "duration": 9,
    "start_time": "2022-12-11T10:29:08.529Z"
   },
   {
    "duration": 26,
    "start_time": "2022-12-11T10:29:08.540Z"
   },
   {
    "duration": 12,
    "start_time": "2022-12-11T10:29:08.567Z"
   },
   {
    "duration": 7,
    "start_time": "2022-12-11T10:29:08.581Z"
   },
   {
    "duration": 10,
    "start_time": "2022-12-11T10:29:08.589Z"
   },
   {
    "duration": 10,
    "start_time": "2022-12-11T10:29:08.600Z"
   },
   {
    "duration": 15,
    "start_time": "2022-12-11T10:29:08.612Z"
   },
   {
    "duration": 9,
    "start_time": "2022-12-11T10:29:08.629Z"
   },
   {
    "duration": 29,
    "start_time": "2022-12-11T10:29:08.658Z"
   },
   {
    "duration": 9,
    "start_time": "2022-12-11T10:29:08.689Z"
   },
   {
    "duration": 14,
    "start_time": "2022-12-11T10:29:08.700Z"
   },
   {
    "duration": 8,
    "start_time": "2022-12-11T10:29:08.717Z"
   },
   {
    "duration": 12,
    "start_time": "2022-12-11T10:29:08.727Z"
   },
   {
    "duration": 7,
    "start_time": "2022-12-11T10:29:08.741Z"
   },
   {
    "duration": 17,
    "start_time": "2022-12-11T10:29:08.750Z"
   },
   {
    "duration": 22,
    "start_time": "2022-12-11T10:29:08.768Z"
   },
   {
    "duration": 11,
    "start_time": "2022-12-11T10:29:08.792Z"
   },
   {
    "duration": 522,
    "start_time": "2022-12-11T10:29:08.804Z"
   },
   {
    "duration": 49,
    "start_time": "2022-12-11T10:29:09.328Z"
   },
   {
    "duration": 7,
    "start_time": "2022-12-11T10:29:09.379Z"
   },
   {
    "duration": 11,
    "start_time": "2022-12-11T10:29:09.388Z"
   },
   {
    "duration": 47,
    "start_time": "2022-12-11T10:29:09.401Z"
   },
   {
    "duration": 275,
    "start_time": "2022-12-11T10:29:09.450Z"
   },
   {
    "duration": 183,
    "start_time": "2022-12-11T10:29:09.727Z"
   },
   {
    "duration": 50,
    "start_time": "2022-12-11T10:29:09.912Z"
   },
   {
    "duration": 204,
    "start_time": "2022-12-11T10:29:09.967Z"
   },
   {
    "duration": 173,
    "start_time": "2022-12-11T10:29:10.174Z"
   },
   {
    "duration": 45,
    "start_time": "2022-12-11T10:29:10.349Z"
   },
   {
    "duration": 236,
    "start_time": "2022-12-11T10:29:10.396Z"
   },
   {
    "duration": 221,
    "start_time": "2022-12-11T10:29:10.634Z"
   },
   {
    "duration": 10,
    "start_time": "2022-12-11T10:29:10.864Z"
   },
   {
    "duration": 10,
    "start_time": "2022-12-11T10:29:10.876Z"
   },
   {
    "duration": 352,
    "start_time": "2022-12-11T10:29:10.888Z"
   },
   {
    "duration": 384,
    "start_time": "2022-12-11T10:29:11.242Z"
   },
   {
    "duration": 28,
    "start_time": "2022-12-11T10:29:11.628Z"
   },
   {
    "duration": 16,
    "start_time": "2022-12-11T10:29:11.658Z"
   },
   {
    "duration": 38,
    "start_time": "2022-12-11T10:29:11.675Z"
   },
   {
    "duration": 3,
    "start_time": "2022-12-11T10:29:11.714Z"
   },
   {
    "duration": 1553,
    "start_time": "2022-12-11T10:29:11.719Z"
   },
   {
    "duration": 272,
    "start_time": "2022-12-11T10:29:13.274Z"
   },
   {
    "duration": 50,
    "start_time": "2022-12-11T10:29:13.548Z"
   },
   {
    "duration": 271,
    "start_time": "2022-12-11T10:29:13.600Z"
   },
   {
    "duration": 164,
    "start_time": "2022-12-11T10:29:13.873Z"
   },
   {
    "duration": 32,
    "start_time": "2022-12-11T10:29:14.039Z"
   },
   {
    "duration": 205,
    "start_time": "2022-12-11T10:29:14.073Z"
   },
   {
    "duration": 14,
    "start_time": "2022-12-11T10:29:14.280Z"
   },
   {
    "duration": 20,
    "start_time": "2022-12-11T10:29:14.296Z"
   },
   {
    "duration": 4,
    "start_time": "2022-12-11T10:29:14.318Z"
   },
   {
    "duration": 76,
    "start_time": "2022-12-11T10:29:14.323Z"
   },
   {
    "duration": 1423,
    "start_time": "2022-12-11T10:29:14.400Z"
   },
   {
    "duration": 1823,
    "start_time": "2022-12-11T10:29:15.825Z"
   },
   {
    "duration": 880,
    "start_time": "2022-12-11T10:29:17.654Z"
   },
   {
    "duration": 136,
    "start_time": "2022-12-11T10:29:18.536Z"
   },
   {
    "duration": 0,
    "start_time": "2022-12-11T10:29:18.673Z"
   },
   {
    "duration": 0,
    "start_time": "2022-12-11T10:29:18.674Z"
   },
   {
    "duration": 0,
    "start_time": "2022-12-11T10:29:18.676Z"
   },
   {
    "duration": 0,
    "start_time": "2022-12-11T10:29:18.677Z"
   },
   {
    "duration": 0,
    "start_time": "2022-12-11T10:29:18.678Z"
   },
   {
    "duration": 0,
    "start_time": "2022-12-11T10:29:18.680Z"
   },
   {
    "duration": 0,
    "start_time": "2022-12-11T10:29:18.681Z"
   },
   {
    "duration": 0,
    "start_time": "2022-12-11T10:29:18.682Z"
   },
   {
    "duration": 0,
    "start_time": "2022-12-11T10:29:18.683Z"
   },
   {
    "duration": 0,
    "start_time": "2022-12-11T10:29:18.684Z"
   },
   {
    "duration": 722,
    "start_time": "2022-12-11T10:31:03.216Z"
   },
   {
    "duration": 1569,
    "start_time": "2022-12-11T10:31:26.900Z"
   },
   {
    "duration": 1639,
    "start_time": "2022-12-11T10:31:36.840Z"
   },
   {
    "duration": 840,
    "start_time": "2022-12-11T10:31:40.481Z"
   },
   {
    "duration": 853,
    "start_time": "2022-12-11T10:31:48.817Z"
   },
   {
    "duration": 1507,
    "start_time": "2022-12-11T10:31:50.137Z"
   },
   {
    "duration": 1239,
    "start_time": "2022-12-11T10:32:01.031Z"
   },
   {
    "duration": 678,
    "start_time": "2022-12-11T10:32:02.272Z"
   },
   {
    "duration": 88,
    "start_time": "2022-12-11T10:32:02.951Z"
   },
   {
    "duration": 260,
    "start_time": "2022-12-11T10:32:03.042Z"
   },
   {
    "duration": 3,
    "start_time": "2022-12-11T10:32:03.304Z"
   },
   {
    "duration": 6,
    "start_time": "2022-12-11T10:32:03.308Z"
   },
   {
    "duration": 13,
    "start_time": "2022-12-11T10:32:03.316Z"
   },
   {
    "duration": 163,
    "start_time": "2022-12-11T10:32:03.330Z"
   },
   {
    "duration": 46,
    "start_time": "2022-12-11T10:32:03.495Z"
   },
   {
    "duration": 59,
    "start_time": "2022-12-11T10:32:03.543Z"
   },
   {
    "duration": 13,
    "start_time": "2022-12-11T10:32:03.603Z"
   },
   {
    "duration": 17,
    "start_time": "2022-12-11T10:32:03.617Z"
   },
   {
    "duration": 12,
    "start_time": "2022-12-11T10:32:03.654Z"
   },
   {
    "duration": 12,
    "start_time": "2022-12-11T10:32:03.668Z"
   },
   {
    "duration": 20,
    "start_time": "2022-12-11T10:32:03.682Z"
   },
   {
    "duration": 29,
    "start_time": "2022-12-11T10:32:03.704Z"
   },
   {
    "duration": 10,
    "start_time": "2022-12-11T10:32:03.735Z"
   },
   {
    "duration": 17,
    "start_time": "2022-12-11T10:32:03.747Z"
   },
   {
    "duration": 11,
    "start_time": "2022-12-11T10:32:03.772Z"
   },
   {
    "duration": 9,
    "start_time": "2022-12-11T10:32:03.784Z"
   },
   {
    "duration": 7,
    "start_time": "2022-12-11T10:32:03.795Z"
   },
   {
    "duration": 12,
    "start_time": "2022-12-11T10:32:03.804Z"
   },
   {
    "duration": 8,
    "start_time": "2022-12-11T10:32:03.818Z"
   },
   {
    "duration": 9,
    "start_time": "2022-12-11T10:32:03.827Z"
   },
   {
    "duration": 30,
    "start_time": "2022-12-11T10:32:03.838Z"
   },
   {
    "duration": 10,
    "start_time": "2022-12-11T10:32:03.869Z"
   },
   {
    "duration": 9,
    "start_time": "2022-12-11T10:32:03.882Z"
   },
   {
    "duration": 10,
    "start_time": "2022-12-11T10:32:03.896Z"
   },
   {
    "duration": 11,
    "start_time": "2022-12-11T10:32:03.908Z"
   },
   {
    "duration": 9,
    "start_time": "2022-12-11T10:32:03.920Z"
   },
   {
    "duration": 36,
    "start_time": "2022-12-11T10:32:03.930Z"
   },
   {
    "duration": 8,
    "start_time": "2022-12-11T10:32:03.967Z"
   },
   {
    "duration": 12,
    "start_time": "2022-12-11T10:32:03.977Z"
   },
   {
    "duration": 526,
    "start_time": "2022-12-11T10:32:03.991Z"
   },
   {
    "duration": 52,
    "start_time": "2022-12-11T10:32:04.520Z"
   },
   {
    "duration": 11,
    "start_time": "2022-12-11T10:32:04.576Z"
   },
   {
    "duration": 10,
    "start_time": "2022-12-11T10:32:04.588Z"
   },
   {
    "duration": 61,
    "start_time": "2022-12-11T10:32:04.600Z"
   },
   {
    "duration": 222,
    "start_time": "2022-12-11T10:32:04.665Z"
   },
   {
    "duration": 193,
    "start_time": "2022-12-11T10:32:04.888Z"
   },
   {
    "duration": 32,
    "start_time": "2022-12-11T10:32:05.084Z"
   },
   {
    "duration": 197,
    "start_time": "2022-12-11T10:32:05.118Z"
   },
   {
    "duration": 185,
    "start_time": "2022-12-11T10:32:05.317Z"
   },
   {
    "duration": 35,
    "start_time": "2022-12-11T10:32:05.504Z"
   },
   {
    "duration": 198,
    "start_time": "2022-12-11T10:32:05.540Z"
   },
   {
    "duration": 229,
    "start_time": "2022-12-11T10:32:05.740Z"
   },
   {
    "duration": 3,
    "start_time": "2022-12-11T10:32:05.972Z"
   },
   {
    "duration": 11,
    "start_time": "2022-12-11T10:32:05.976Z"
   },
   {
    "duration": 317,
    "start_time": "2022-12-11T10:32:05.989Z"
   },
   {
    "duration": 423,
    "start_time": "2022-12-11T10:32:06.307Z"
   },
   {
    "duration": 17,
    "start_time": "2022-12-11T10:32:06.733Z"
   },
   {
    "duration": 18,
    "start_time": "2022-12-11T10:32:06.751Z"
   },
   {
    "duration": 37,
    "start_time": "2022-12-11T10:32:06.770Z"
   },
   {
    "duration": 3,
    "start_time": "2022-12-11T10:32:06.809Z"
   },
   {
    "duration": 1894,
    "start_time": "2022-12-11T10:32:06.813Z"
   },
   {
    "duration": 283,
    "start_time": "2022-12-11T10:32:08.709Z"
   },
   {
    "duration": 40,
    "start_time": "2022-12-11T10:32:08.995Z"
   },
   {
    "duration": 249,
    "start_time": "2022-12-11T10:32:09.037Z"
   },
   {
    "duration": 187,
    "start_time": "2022-12-11T10:32:09.287Z"
   },
   {
    "duration": 21,
    "start_time": "2022-12-11T10:32:09.475Z"
   },
   {
    "duration": 214,
    "start_time": "2022-12-11T10:32:09.498Z"
   },
   {
    "duration": 18,
    "start_time": "2022-12-11T10:32:09.714Z"
   },
   {
    "duration": 42,
    "start_time": "2022-12-11T10:32:09.734Z"
   },
   {
    "duration": 8,
    "start_time": "2022-12-11T10:32:09.778Z"
   },
   {
    "duration": 70,
    "start_time": "2022-12-11T10:32:09.788Z"
   },
   {
    "duration": 747,
    "start_time": "2022-12-11T10:32:09.864Z"
   },
   {
    "duration": 1380,
    "start_time": "2022-12-11T10:32:10.614Z"
   },
   {
    "duration": 1934,
    "start_time": "2022-12-11T10:32:11.995Z"
   },
   {
    "duration": 969,
    "start_time": "2022-12-11T10:32:13.931Z"
   },
   {
    "duration": 1559,
    "start_time": "2022-12-11T10:32:14.903Z"
   },
   {
    "duration": 1882,
    "start_time": "2022-12-11T10:32:16.468Z"
   },
   {
    "duration": 920,
    "start_time": "2022-12-11T10:32:18.354Z"
   },
   {
    "duration": 1568,
    "start_time": "2022-12-11T10:32:19.278Z"
   },
   {
    "duration": 2381,
    "start_time": "2022-12-11T10:32:20.848Z"
   },
   {
    "duration": 1115,
    "start_time": "2022-12-11T10:32:23.231Z"
   },
   {
    "duration": 2049,
    "start_time": "2022-12-11T10:32:24.348Z"
   },
   {
    "duration": 3,
    "start_time": "2022-12-11T10:32:26.399Z"
   },
   {
    "duration": 8,
    "start_time": "2022-12-11T10:32:26.403Z"
   },
   {
    "duration": 48,
    "start_time": "2022-12-11T10:32:26.413Z"
   },
   {
    "duration": 12,
    "start_time": "2022-12-11T10:32:26.463Z"
   },
   {
    "duration": 1987,
    "start_time": "2022-12-11T10:39:41.530Z"
   },
   {
    "duration": 1197,
    "start_time": "2022-12-11T10:40:15.622Z"
   },
   {
    "duration": 655,
    "start_time": "2022-12-11T10:40:16.821Z"
   },
   {
    "duration": 66,
    "start_time": "2022-12-11T10:40:17.478Z"
   },
   {
    "duration": 251,
    "start_time": "2022-12-11T10:40:17.546Z"
   },
   {
    "duration": 3,
    "start_time": "2022-12-11T10:40:17.799Z"
   },
   {
    "duration": 6,
    "start_time": "2022-12-11T10:40:17.804Z"
   },
   {
    "duration": 18,
    "start_time": "2022-12-11T10:40:17.811Z"
   },
   {
    "duration": 155,
    "start_time": "2022-12-11T10:40:17.831Z"
   },
   {
    "duration": 47,
    "start_time": "2022-12-11T10:40:17.988Z"
   },
   {
    "duration": 56,
    "start_time": "2022-12-11T10:40:18.038Z"
   },
   {
    "duration": 12,
    "start_time": "2022-12-11T10:40:18.095Z"
   },
   {
    "duration": 13,
    "start_time": "2022-12-11T10:40:18.109Z"
   },
   {
    "duration": 2,
    "start_time": "2022-12-11T10:40:18.124Z"
   },
   {
    "duration": 3,
    "start_time": "2022-12-11T10:40:18.161Z"
   },
   {
    "duration": 14,
    "start_time": "2022-12-11T10:40:18.166Z"
   },
   {
    "duration": 14,
    "start_time": "2022-12-11T10:40:18.181Z"
   },
   {
    "duration": 17,
    "start_time": "2022-12-11T10:40:18.197Z"
   },
   {
    "duration": 15,
    "start_time": "2022-12-11T10:40:18.216Z"
   },
   {
    "duration": 11,
    "start_time": "2022-12-11T10:40:18.233Z"
   },
   {
    "duration": 32,
    "start_time": "2022-12-11T10:40:18.257Z"
   },
   {
    "duration": 20,
    "start_time": "2022-12-11T10:40:18.291Z"
   },
   {
    "duration": 8,
    "start_time": "2022-12-11T10:40:18.313Z"
   },
   {
    "duration": 30,
    "start_time": "2022-12-11T10:40:18.322Z"
   },
   {
    "duration": 23,
    "start_time": "2022-12-11T10:40:18.355Z"
   },
   {
    "duration": 12,
    "start_time": "2022-12-11T10:40:18.380Z"
   },
   {
    "duration": 7,
    "start_time": "2022-12-11T10:40:18.394Z"
   },
   {
    "duration": 9,
    "start_time": "2022-12-11T10:40:18.403Z"
   },
   {
    "duration": 8,
    "start_time": "2022-12-11T10:40:18.416Z"
   },
   {
    "duration": 11,
    "start_time": "2022-12-11T10:40:18.426Z"
   },
   {
    "duration": 19,
    "start_time": "2022-12-11T10:40:18.438Z"
   },
   {
    "duration": 9,
    "start_time": "2022-12-11T10:40:18.470Z"
   },
   {
    "duration": 9,
    "start_time": "2022-12-11T10:40:18.481Z"
   },
   {
    "duration": 11,
    "start_time": "2022-12-11T10:40:18.491Z"
   },
   {
    "duration": 502,
    "start_time": "2022-12-11T10:40:18.504Z"
   },
   {
    "duration": 21,
    "start_time": "2022-12-11T10:40:19.008Z"
   },
   {
    "duration": 8,
    "start_time": "2022-12-11T10:40:19.030Z"
   },
   {
    "duration": 16,
    "start_time": "2022-12-11T10:40:19.040Z"
   },
   {
    "duration": 43,
    "start_time": "2022-12-11T10:40:19.064Z"
   },
   {
    "duration": 203,
    "start_time": "2022-12-11T10:40:19.109Z"
   },
   {
    "duration": 186,
    "start_time": "2022-12-11T10:40:19.314Z"
   },
   {
    "duration": 34,
    "start_time": "2022-12-11T10:40:19.501Z"
   },
   {
    "duration": 190,
    "start_time": "2022-12-11T10:40:19.537Z"
   },
   {
    "duration": 181,
    "start_time": "2022-12-11T10:40:19.729Z"
   },
   {
    "duration": 48,
    "start_time": "2022-12-11T10:40:19.912Z"
   },
   {
    "duration": 178,
    "start_time": "2022-12-11T10:40:19.962Z"
   },
   {
    "duration": 197,
    "start_time": "2022-12-11T10:40:20.142Z"
   },
   {
    "duration": 24,
    "start_time": "2022-12-11T10:40:20.341Z"
   },
   {
    "duration": 9,
    "start_time": "2022-12-11T10:40:20.367Z"
   },
   {
    "duration": 314,
    "start_time": "2022-12-11T10:40:20.378Z"
   },
   {
    "duration": 396,
    "start_time": "2022-12-11T10:40:20.694Z"
   },
   {
    "duration": 18,
    "start_time": "2022-12-11T10:40:21.092Z"
   },
   {
    "duration": 13,
    "start_time": "2022-12-11T10:40:21.112Z"
   },
   {
    "duration": 44,
    "start_time": "2022-12-11T10:40:21.127Z"
   },
   {
    "duration": 5,
    "start_time": "2022-12-11T10:40:21.173Z"
   },
   {
    "duration": 1466,
    "start_time": "2022-12-11T10:40:21.179Z"
   },
   {
    "duration": 287,
    "start_time": "2022-12-11T10:40:22.646Z"
   },
   {
    "duration": 52,
    "start_time": "2022-12-11T10:40:22.935Z"
   },
   {
    "duration": 236,
    "start_time": "2022-12-11T10:40:22.989Z"
   },
   {
    "duration": 184,
    "start_time": "2022-12-11T10:40:23.227Z"
   },
   {
    "duration": 22,
    "start_time": "2022-12-11T10:40:23.413Z"
   },
   {
    "duration": 213,
    "start_time": "2022-12-11T10:40:23.437Z"
   },
   {
    "duration": 19,
    "start_time": "2022-12-11T10:40:23.652Z"
   },
   {
    "duration": 37,
    "start_time": "2022-12-11T10:40:23.673Z"
   },
   {
    "duration": 9,
    "start_time": "2022-12-11T10:40:23.712Z"
   },
   {
    "duration": 72,
    "start_time": "2022-12-11T10:40:23.725Z"
   },
   {
    "duration": 774,
    "start_time": "2022-12-11T10:40:23.799Z"
   },
   {
    "duration": 1297,
    "start_time": "2022-12-11T10:40:24.575Z"
   },
   {
    "duration": 1835,
    "start_time": "2022-12-11T10:40:25.876Z"
   },
   {
    "duration": 872,
    "start_time": "2022-12-11T10:40:27.712Z"
   },
   {
    "duration": 1554,
    "start_time": "2022-12-11T10:40:28.585Z"
   },
   {
    "duration": 2070,
    "start_time": "2022-12-11T10:40:30.141Z"
   },
   {
    "duration": 861,
    "start_time": "2022-12-11T10:40:32.213Z"
   },
   {
    "duration": 1521,
    "start_time": "2022-12-11T10:40:33.076Z"
   },
   {
    "duration": 2527,
    "start_time": "2022-12-11T10:40:34.599Z"
   },
   {
    "duration": 1100,
    "start_time": "2022-12-11T10:40:37.128Z"
   },
   {
    "duration": 2039,
    "start_time": "2022-12-11T10:40:38.230Z"
   },
   {
    "duration": 2,
    "start_time": "2022-12-11T10:40:40.273Z"
   },
   {
    "duration": 9,
    "start_time": "2022-12-11T10:40:40.277Z"
   },
   {
    "duration": 31,
    "start_time": "2022-12-11T10:40:40.287Z"
   },
   {
    "duration": 8,
    "start_time": "2022-12-11T10:40:40.320Z"
   },
   {
    "duration": 1269,
    "start_time": "2022-12-11T10:53:23.899Z"
   },
   {
    "duration": 703,
    "start_time": "2022-12-11T10:53:25.170Z"
   },
   {
    "duration": 88,
    "start_time": "2022-12-11T10:53:25.875Z"
   },
   {
    "duration": 299,
    "start_time": "2022-12-11T10:53:25.970Z"
   },
   {
    "duration": 4,
    "start_time": "2022-12-11T10:53:26.271Z"
   },
   {
    "duration": 11,
    "start_time": "2022-12-11T10:53:26.277Z"
   },
   {
    "duration": 15,
    "start_time": "2022-12-11T10:53:26.290Z"
   },
   {
    "duration": 169,
    "start_time": "2022-12-11T10:53:26.306Z"
   },
   {
    "duration": 50,
    "start_time": "2022-12-11T10:53:26.477Z"
   },
   {
    "duration": 83,
    "start_time": "2022-12-11T10:53:26.530Z"
   },
   {
    "duration": 14,
    "start_time": "2022-12-11T10:53:26.615Z"
   },
   {
    "duration": 49,
    "start_time": "2022-12-11T10:53:26.632Z"
   },
   {
    "duration": 4,
    "start_time": "2022-12-11T10:53:26.684Z"
   },
   {
    "duration": 12,
    "start_time": "2022-12-11T10:53:26.691Z"
   },
   {
    "duration": 10,
    "start_time": "2022-12-11T10:53:26.705Z"
   },
   {
    "duration": 18,
    "start_time": "2022-12-11T10:53:26.717Z"
   },
   {
    "duration": 7,
    "start_time": "2022-12-11T10:53:26.737Z"
   },
   {
    "duration": 12,
    "start_time": "2022-12-11T10:53:26.746Z"
   },
   {
    "duration": 33,
    "start_time": "2022-12-11T10:53:26.760Z"
   },
   {
    "duration": 7,
    "start_time": "2022-12-11T10:53:26.795Z"
   },
   {
    "duration": 8,
    "start_time": "2022-12-11T10:53:26.804Z"
   },
   {
    "duration": 6,
    "start_time": "2022-12-11T10:53:26.814Z"
   },
   {
    "duration": 22,
    "start_time": "2022-12-11T10:53:26.821Z"
   },
   {
    "duration": 9,
    "start_time": "2022-12-11T10:53:26.845Z"
   },
   {
    "duration": 23,
    "start_time": "2022-12-11T10:53:26.866Z"
   },
   {
    "duration": 9,
    "start_time": "2022-12-11T10:53:26.891Z"
   },
   {
    "duration": 12,
    "start_time": "2022-12-11T10:53:26.902Z"
   },
   {
    "duration": 8,
    "start_time": "2022-12-11T10:53:26.919Z"
   },
   {
    "duration": 13,
    "start_time": "2022-12-11T10:53:26.929Z"
   },
   {
    "duration": 13,
    "start_time": "2022-12-11T10:53:26.944Z"
   },
   {
    "duration": 46,
    "start_time": "2022-12-11T10:53:26.964Z"
   },
   {
    "duration": 13,
    "start_time": "2022-12-11T10:53:27.013Z"
   },
   {
    "duration": 15,
    "start_time": "2022-12-11T10:53:27.028Z"
   },
   {
    "duration": 539,
    "start_time": "2022-12-11T10:53:27.045Z"
   },
   {
    "duration": 22,
    "start_time": "2022-12-11T10:53:27.585Z"
   },
   {
    "duration": 5,
    "start_time": "2022-12-11T10:53:27.609Z"
   },
   {
    "duration": 5,
    "start_time": "2022-12-11T10:53:27.616Z"
   },
   {
    "duration": 69,
    "start_time": "2022-12-11T10:53:27.622Z"
   },
   {
    "duration": 259,
    "start_time": "2022-12-11T10:53:27.693Z"
   },
   {
    "duration": 194,
    "start_time": "2022-12-11T10:53:27.954Z"
   },
   {
    "duration": 44,
    "start_time": "2022-12-11T10:53:28.155Z"
   },
   {
    "duration": 211,
    "start_time": "2022-12-11T10:53:28.201Z"
   },
   {
    "duration": 231,
    "start_time": "2022-12-11T10:53:28.414Z"
   },
   {
    "duration": 47,
    "start_time": "2022-12-11T10:53:28.647Z"
   },
   {
    "duration": 221,
    "start_time": "2022-12-11T10:53:28.696Z"
   },
   {
    "duration": 222,
    "start_time": "2022-12-11T10:53:28.919Z"
   },
   {
    "duration": 4,
    "start_time": "2022-12-11T10:53:29.143Z"
   },
   {
    "duration": 19,
    "start_time": "2022-12-11T10:53:29.156Z"
   },
   {
    "duration": 335,
    "start_time": "2022-12-11T10:53:29.177Z"
   },
   {
    "duration": 396,
    "start_time": "2022-12-11T10:53:29.514Z"
   },
   {
    "duration": 19,
    "start_time": "2022-12-11T10:53:29.912Z"
   },
   {
    "duration": 11,
    "start_time": "2022-12-11T10:53:29.933Z"
   },
   {
    "duration": 41,
    "start_time": "2022-12-11T10:53:29.945Z"
   },
   {
    "duration": 3,
    "start_time": "2022-12-11T10:53:29.988Z"
   },
   {
    "duration": 1606,
    "start_time": "2022-12-11T10:53:29.993Z"
   },
   {
    "duration": 298,
    "start_time": "2022-12-11T10:53:31.601Z"
   },
   {
    "duration": 38,
    "start_time": "2022-12-11T10:53:31.901Z"
   },
   {
    "duration": 254,
    "start_time": "2022-12-11T10:53:31.941Z"
   },
   {
    "duration": 195,
    "start_time": "2022-12-11T10:53:32.197Z"
   },
   {
    "duration": 22,
    "start_time": "2022-12-11T10:53:32.394Z"
   },
   {
    "duration": 215,
    "start_time": "2022-12-11T10:53:32.418Z"
   },
   {
    "duration": 35,
    "start_time": "2022-12-11T10:53:32.634Z"
   },
   {
    "duration": 17,
    "start_time": "2022-12-11T10:53:32.670Z"
   },
   {
    "duration": 15,
    "start_time": "2022-12-11T10:53:32.688Z"
   },
   {
    "duration": 52,
    "start_time": "2022-12-11T10:53:32.705Z"
   },
   {
    "duration": 721,
    "start_time": "2022-12-11T10:53:32.761Z"
   },
   {
    "duration": 1372,
    "start_time": "2022-12-11T10:53:33.484Z"
   },
   {
    "duration": 1868,
    "start_time": "2022-12-11T10:53:34.858Z"
   },
   {
    "duration": 871,
    "start_time": "2022-12-11T10:53:36.729Z"
   },
   {
    "duration": 1530,
    "start_time": "2022-12-11T10:53:37.602Z"
   },
   {
    "duration": 1812,
    "start_time": "2022-12-11T10:53:39.134Z"
   },
   {
    "duration": 946,
    "start_time": "2022-12-11T10:53:40.948Z"
   },
   {
    "duration": 1614,
    "start_time": "2022-12-11T10:53:41.896Z"
   },
   {
    "duration": 2654,
    "start_time": "2022-12-11T10:53:43.513Z"
   },
   {
    "duration": 1073,
    "start_time": "2022-12-11T10:53:46.174Z"
   },
   {
    "duration": 1975,
    "start_time": "2022-12-11T10:53:47.249Z"
   },
   {
    "duration": 3,
    "start_time": "2022-12-11T10:53:49.226Z"
   },
   {
    "duration": 7,
    "start_time": "2022-12-11T10:53:49.231Z"
   },
   {
    "duration": 49,
    "start_time": "2022-12-11T10:53:49.240Z"
   },
   {
    "duration": 8,
    "start_time": "2022-12-11T10:53:49.291Z"
   },
   {
    "duration": 1785,
    "start_time": "2022-12-11T22:46:47.230Z"
   },
   {
    "duration": 950,
    "start_time": "2022-12-11T22:46:49.017Z"
   },
   {
    "duration": 66,
    "start_time": "2022-12-11T22:46:49.969Z"
   },
   {
    "duration": 259,
    "start_time": "2022-12-11T22:46:50.037Z"
   },
   {
    "duration": 3,
    "start_time": "2022-12-11T22:46:50.298Z"
   },
   {
    "duration": 16,
    "start_time": "2022-12-11T22:46:50.302Z"
   },
   {
    "duration": 17,
    "start_time": "2022-12-11T22:46:50.319Z"
   },
   {
    "duration": 135,
    "start_time": "2022-12-11T22:46:50.338Z"
   },
   {
    "duration": 44,
    "start_time": "2022-12-11T22:46:50.474Z"
   },
   {
    "duration": 53,
    "start_time": "2022-12-11T22:46:50.521Z"
   },
   {
    "duration": 12,
    "start_time": "2022-12-11T22:46:50.575Z"
   },
   {
    "duration": 13,
    "start_time": "2022-12-11T22:46:50.589Z"
   },
   {
    "duration": 4,
    "start_time": "2022-12-11T22:46:50.603Z"
   },
   {
    "duration": 16,
    "start_time": "2022-12-11T22:46:50.608Z"
   },
   {
    "duration": 31,
    "start_time": "2022-12-11T22:46:50.625Z"
   },
   {
    "duration": 13,
    "start_time": "2022-12-11T22:46:50.658Z"
   },
   {
    "duration": 7,
    "start_time": "2022-12-11T22:46:50.672Z"
   },
   {
    "duration": 9,
    "start_time": "2022-12-11T22:46:50.681Z"
   },
   {
    "duration": 9,
    "start_time": "2022-12-11T22:46:50.691Z"
   },
   {
    "duration": 9,
    "start_time": "2022-12-11T22:46:50.702Z"
   },
   {
    "duration": 11,
    "start_time": "2022-12-11T22:46:50.713Z"
   },
   {
    "duration": 28,
    "start_time": "2022-12-11T22:46:50.726Z"
   },
   {
    "duration": 6,
    "start_time": "2022-12-11T22:46:50.756Z"
   },
   {
    "duration": 37,
    "start_time": "2022-12-11T22:46:50.763Z"
   },
   {
    "duration": 49,
    "start_time": "2022-12-11T22:46:50.802Z"
   },
   {
    "duration": 8,
    "start_time": "2022-12-11T22:46:50.853Z"
   },
   {
    "duration": 10,
    "start_time": "2022-12-11T22:46:50.862Z"
   },
   {
    "duration": 7,
    "start_time": "2022-12-11T22:46:50.876Z"
   },
   {
    "duration": 10,
    "start_time": "2022-12-11T22:46:50.885Z"
   },
   {
    "duration": 9,
    "start_time": "2022-12-11T22:46:50.897Z"
   },
   {
    "duration": 8,
    "start_time": "2022-12-11T22:46:50.907Z"
   },
   {
    "duration": 11,
    "start_time": "2022-12-11T22:46:50.917Z"
   },
   {
    "duration": 29,
    "start_time": "2022-12-11T22:46:50.929Z"
   },
   {
    "duration": 480,
    "start_time": "2022-12-11T22:46:50.960Z"
   },
   {
    "duration": 26,
    "start_time": "2022-12-11T22:46:51.441Z"
   },
   {
    "duration": 17,
    "start_time": "2022-12-11T22:46:51.468Z"
   },
   {
    "duration": 7,
    "start_time": "2022-12-11T22:46:51.487Z"
   },
   {
    "duration": 39,
    "start_time": "2022-12-11T22:46:51.496Z"
   },
   {
    "duration": 191,
    "start_time": "2022-12-11T22:46:51.537Z"
   },
   {
    "duration": 166,
    "start_time": "2022-12-11T22:46:51.730Z"
   },
   {
    "duration": 30,
    "start_time": "2022-12-11T22:46:51.898Z"
   },
   {
    "duration": 177,
    "start_time": "2022-12-11T22:46:51.930Z"
   },
   {
    "duration": 173,
    "start_time": "2022-12-11T22:46:52.108Z"
   },
   {
    "duration": 33,
    "start_time": "2022-12-11T22:46:52.283Z"
   },
   {
    "duration": 185,
    "start_time": "2022-12-11T22:46:52.318Z"
   },
   {
    "duration": 186,
    "start_time": "2022-12-11T22:46:52.505Z"
   },
   {
    "duration": 4,
    "start_time": "2022-12-11T22:46:52.692Z"
   },
   {
    "duration": 9,
    "start_time": "2022-12-11T22:46:52.698Z"
   },
   {
    "duration": 322,
    "start_time": "2022-12-11T22:46:52.709Z"
   },
   {
    "duration": 348,
    "start_time": "2022-12-11T22:46:53.033Z"
   },
   {
    "duration": 17,
    "start_time": "2022-12-11T22:46:53.382Z"
   },
   {
    "duration": 5,
    "start_time": "2022-12-11T22:46:53.401Z"
   },
   {
    "duration": 55,
    "start_time": "2022-12-11T22:46:53.408Z"
   },
   {
    "duration": 3,
    "start_time": "2022-12-11T22:46:53.465Z"
   },
   {
    "duration": 1486,
    "start_time": "2022-12-11T22:46:53.469Z"
   },
   {
    "duration": 287,
    "start_time": "2022-12-11T22:46:54.957Z"
   },
   {
    "duration": 44,
    "start_time": "2022-12-11T22:46:55.246Z"
   },
   {
    "duration": 236,
    "start_time": "2022-12-11T22:46:55.292Z"
   },
   {
    "duration": 168,
    "start_time": "2022-12-11T22:46:55.530Z"
   },
   {
    "duration": 21,
    "start_time": "2022-12-11T22:46:55.700Z"
   },
   {
    "duration": 190,
    "start_time": "2022-12-11T22:46:55.722Z"
   },
   {
    "duration": 13,
    "start_time": "2022-12-11T22:46:55.914Z"
   },
   {
    "duration": 30,
    "start_time": "2022-12-11T22:46:55.929Z"
   },
   {
    "duration": 16,
    "start_time": "2022-12-11T22:46:55.961Z"
   },
   {
    "duration": 53,
    "start_time": "2022-12-11T22:46:55.979Z"
   },
   {
    "duration": 1623,
    "start_time": "2022-12-11T22:47:17.160Z"
   },
   {
    "duration": 970,
    "start_time": "2022-12-11T22:47:18.785Z"
   },
   {
    "duration": 68,
    "start_time": "2022-12-11T22:47:19.757Z"
   },
   {
    "duration": 280,
    "start_time": "2022-12-11T22:47:19.826Z"
   },
   {
    "duration": 3,
    "start_time": "2022-12-11T22:47:20.108Z"
   },
   {
    "duration": 11,
    "start_time": "2022-12-11T22:47:20.113Z"
   },
   {
    "duration": 18,
    "start_time": "2022-12-11T22:47:20.125Z"
   },
   {
    "duration": 147,
    "start_time": "2022-12-11T22:47:20.144Z"
   },
   {
    "duration": 47,
    "start_time": "2022-12-11T22:47:20.293Z"
   },
   {
    "duration": 50,
    "start_time": "2022-12-11T22:47:20.342Z"
   },
   {
    "duration": 11,
    "start_time": "2022-12-11T22:47:20.394Z"
   },
   {
    "duration": 12,
    "start_time": "2022-12-11T22:47:20.407Z"
   },
   {
    "duration": 4,
    "start_time": "2022-12-11T22:47:20.420Z"
   },
   {
    "duration": 29,
    "start_time": "2022-12-11T22:47:20.426Z"
   },
   {
    "duration": 8,
    "start_time": "2022-12-11T22:47:20.456Z"
   },
   {
    "duration": 13,
    "start_time": "2022-12-11T22:47:20.466Z"
   },
   {
    "duration": 13,
    "start_time": "2022-12-11T22:47:20.480Z"
   },
   {
    "duration": 16,
    "start_time": "2022-12-11T22:47:20.494Z"
   },
   {
    "duration": 10,
    "start_time": "2022-12-11T22:47:20.512Z"
   },
   {
    "duration": 33,
    "start_time": "2022-12-11T22:47:20.523Z"
   },
   {
    "duration": 8,
    "start_time": "2022-12-11T22:47:20.558Z"
   },
   {
    "duration": 11,
    "start_time": "2022-12-11T22:47:20.568Z"
   },
   {
    "duration": 10,
    "start_time": "2022-12-11T22:47:20.581Z"
   },
   {
    "duration": 9,
    "start_time": "2022-12-11T22:47:20.593Z"
   },
   {
    "duration": 13,
    "start_time": "2022-12-11T22:47:20.604Z"
   },
   {
    "duration": 8,
    "start_time": "2022-12-11T22:47:20.618Z"
   },
   {
    "duration": 33,
    "start_time": "2022-12-11T22:47:20.628Z"
   },
   {
    "duration": 11,
    "start_time": "2022-12-11T22:47:20.663Z"
   },
   {
    "duration": 12,
    "start_time": "2022-12-11T22:47:20.676Z"
   },
   {
    "duration": 8,
    "start_time": "2022-12-11T22:47:20.690Z"
   },
   {
    "duration": 10,
    "start_time": "2022-12-11T22:47:20.699Z"
   },
   {
    "duration": 9,
    "start_time": "2022-12-11T22:47:20.710Z"
   },
   {
    "duration": 11,
    "start_time": "2022-12-11T22:47:20.721Z"
   },
   {
    "duration": 516,
    "start_time": "2022-12-11T22:47:20.755Z"
   },
   {
    "duration": 22,
    "start_time": "2022-12-11T22:47:21.273Z"
   },
   {
    "duration": 9,
    "start_time": "2022-12-11T22:47:21.296Z"
   },
   {
    "duration": 6,
    "start_time": "2022-12-11T22:47:21.307Z"
   },
   {
    "duration": 55,
    "start_time": "2022-12-11T22:47:21.315Z"
   },
   {
    "duration": 187,
    "start_time": "2022-12-11T22:47:21.371Z"
   },
   {
    "duration": 172,
    "start_time": "2022-12-11T22:47:21.559Z"
   },
   {
    "duration": 35,
    "start_time": "2022-12-11T22:47:21.737Z"
   },
   {
    "duration": 184,
    "start_time": "2022-12-11T22:47:21.774Z"
   },
   {
    "duration": 170,
    "start_time": "2022-12-11T22:47:21.960Z"
   },
   {
    "duration": 38,
    "start_time": "2022-12-11T22:47:22.132Z"
   },
   {
    "duration": 188,
    "start_time": "2022-12-11T22:47:22.172Z"
   },
   {
    "duration": 196,
    "start_time": "2022-12-11T22:47:22.361Z"
   },
   {
    "duration": 4,
    "start_time": "2022-12-11T22:47:22.559Z"
   },
   {
    "duration": 15,
    "start_time": "2022-12-11T22:47:22.564Z"
   },
   {
    "duration": 299,
    "start_time": "2022-12-11T22:47:22.581Z"
   },
   {
    "duration": 341,
    "start_time": "2022-12-11T22:47:22.882Z"
   },
   {
    "duration": 33,
    "start_time": "2022-12-11T22:47:23.225Z"
   },
   {
    "duration": 5,
    "start_time": "2022-12-11T22:47:23.259Z"
   },
   {
    "duration": 38,
    "start_time": "2022-12-11T22:47:23.265Z"
   },
   {
    "duration": 3,
    "start_time": "2022-12-11T22:47:23.305Z"
   },
   {
    "duration": 116,
    "start_time": "2022-12-11T22:47:23.310Z"
   },
   {
    "duration": 0,
    "start_time": "2022-12-11T22:47:23.428Z"
   },
   {
    "duration": 0,
    "start_time": "2022-12-11T22:47:23.429Z"
   },
   {
    "duration": 0,
    "start_time": "2022-12-11T22:47:23.430Z"
   },
   {
    "duration": 0,
    "start_time": "2022-12-11T22:47:23.431Z"
   },
   {
    "duration": 0,
    "start_time": "2022-12-11T22:47:23.432Z"
   },
   {
    "duration": 0,
    "start_time": "2022-12-11T22:47:23.433Z"
   },
   {
    "duration": 0,
    "start_time": "2022-12-11T22:47:23.434Z"
   },
   {
    "duration": 0,
    "start_time": "2022-12-11T22:47:23.435Z"
   },
   {
    "duration": 0,
    "start_time": "2022-12-11T22:47:23.436Z"
   },
   {
    "duration": 0,
    "start_time": "2022-12-11T22:47:23.437Z"
   },
   {
    "duration": 0,
    "start_time": "2022-12-11T22:47:23.438Z"
   },
   {
    "duration": 0,
    "start_time": "2022-12-11T22:47:23.439Z"
   },
   {
    "duration": 0,
    "start_time": "2022-12-11T22:47:23.455Z"
   },
   {
    "duration": 0,
    "start_time": "2022-12-11T22:47:23.456Z"
   },
   {
    "duration": 0,
    "start_time": "2022-12-11T22:47:23.457Z"
   },
   {
    "duration": 0,
    "start_time": "2022-12-11T22:47:23.555Z"
   },
   {
    "duration": 0,
    "start_time": "2022-12-11T22:47:23.556Z"
   },
   {
    "duration": 0,
    "start_time": "2022-12-11T22:47:23.558Z"
   },
   {
    "duration": 0,
    "start_time": "2022-12-11T22:47:23.558Z"
   },
   {
    "duration": 0,
    "start_time": "2022-12-11T22:47:23.560Z"
   },
   {
    "duration": 0,
    "start_time": "2022-12-11T22:47:23.560Z"
   },
   {
    "duration": 0,
    "start_time": "2022-12-11T22:47:23.562Z"
   },
   {
    "duration": 0,
    "start_time": "2022-12-11T22:47:23.563Z"
   },
   {
    "duration": 0,
    "start_time": "2022-12-11T22:47:23.564Z"
   },
   {
    "duration": 0,
    "start_time": "2022-12-11T22:47:23.565Z"
   },
   {
    "duration": 0,
    "start_time": "2022-12-11T22:47:23.566Z"
   },
   {
    "duration": 286,
    "start_time": "2022-12-11T22:47:35.612Z"
   },
   {
    "duration": 164,
    "start_time": "2022-12-11T22:47:43.826Z"
   },
   {
    "duration": 23,
    "start_time": "2022-12-11T22:47:44.830Z"
   },
   {
    "duration": 173,
    "start_time": "2022-12-11T22:47:46.454Z"
   },
   {
    "duration": 14,
    "start_time": "2022-12-11T22:47:47.016Z"
   },
   {
    "duration": 19,
    "start_time": "2022-12-11T22:47:47.251Z"
   },
   {
    "duration": 4,
    "start_time": "2022-12-11T22:47:47.535Z"
   },
   {
    "duration": 51,
    "start_time": "2022-12-11T22:47:47.686Z"
   },
   {
    "duration": 50,
    "start_time": "2022-12-11T22:47:52.731Z"
   },
   {
    "duration": 0,
    "start_time": "2022-12-11T22:47:52.782Z"
   },
   {
    "duration": 0,
    "start_time": "2022-12-11T22:47:52.783Z"
   },
   {
    "duration": 0,
    "start_time": "2022-12-11T22:47:52.785Z"
   },
   {
    "duration": 0,
    "start_time": "2022-12-11T22:47:52.786Z"
   },
   {
    "duration": 0,
    "start_time": "2022-12-11T22:47:52.787Z"
   },
   {
    "duration": 0,
    "start_time": "2022-12-11T22:47:52.788Z"
   },
   {
    "duration": 1736,
    "start_time": "2022-12-11T22:48:13.528Z"
   },
   {
    "duration": 923,
    "start_time": "2022-12-11T22:48:15.266Z"
   },
   {
    "duration": 65,
    "start_time": "2022-12-11T22:48:16.190Z"
   },
   {
    "duration": 262,
    "start_time": "2022-12-11T22:48:16.257Z"
   },
   {
    "duration": 3,
    "start_time": "2022-12-11T22:48:16.521Z"
   },
   {
    "duration": 5,
    "start_time": "2022-12-11T22:48:16.526Z"
   },
   {
    "duration": 23,
    "start_time": "2022-12-11T22:48:16.533Z"
   },
   {
    "duration": 144,
    "start_time": "2022-12-11T22:48:16.557Z"
   },
   {
    "duration": 56,
    "start_time": "2022-12-11T22:48:16.702Z"
   },
   {
    "duration": 39,
    "start_time": "2022-12-11T22:48:16.761Z"
   },
   {
    "duration": 11,
    "start_time": "2022-12-11T22:48:16.802Z"
   },
   {
    "duration": 12,
    "start_time": "2022-12-11T22:48:16.815Z"
   },
   {
    "duration": 3,
    "start_time": "2022-12-11T22:48:16.855Z"
   },
   {
    "duration": 5,
    "start_time": "2022-12-11T22:48:16.860Z"
   },
   {
    "duration": 16,
    "start_time": "2022-12-11T22:48:16.867Z"
   },
   {
    "duration": 13,
    "start_time": "2022-12-11T22:48:16.885Z"
   },
   {
    "duration": 9,
    "start_time": "2022-12-11T22:48:16.900Z"
   },
   {
    "duration": 11,
    "start_time": "2022-12-11T22:48:16.910Z"
   },
   {
    "duration": 33,
    "start_time": "2022-12-11T22:48:16.923Z"
   },
   {
    "duration": 7,
    "start_time": "2022-12-11T22:48:16.958Z"
   },
   {
    "duration": 11,
    "start_time": "2022-12-11T22:48:16.967Z"
   },
   {
    "duration": 14,
    "start_time": "2022-12-11T22:48:16.979Z"
   },
   {
    "duration": 8,
    "start_time": "2022-12-11T22:48:16.994Z"
   },
   {
    "duration": 51,
    "start_time": "2022-12-11T22:48:17.004Z"
   },
   {
    "duration": 11,
    "start_time": "2022-12-11T22:48:17.057Z"
   },
   {
    "duration": 6,
    "start_time": "2022-12-11T22:48:17.070Z"
   },
   {
    "duration": 8,
    "start_time": "2022-12-11T22:48:17.078Z"
   },
   {
    "duration": 8,
    "start_time": "2022-12-11T22:48:17.090Z"
   },
   {
    "duration": 66,
    "start_time": "2022-12-11T22:48:17.099Z"
   },
   {
    "duration": 8,
    "start_time": "2022-12-11T22:48:17.167Z"
   },
   {
    "duration": 9,
    "start_time": "2022-12-11T22:48:17.177Z"
   },
   {
    "duration": 9,
    "start_time": "2022-12-11T22:48:17.188Z"
   },
   {
    "duration": 61,
    "start_time": "2022-12-11T22:48:17.199Z"
   },
   {
    "duration": 1003,
    "start_time": "2022-12-11T22:48:17.262Z"
   },
   {
    "duration": 22,
    "start_time": "2022-12-11T22:48:18.266Z"
   },
   {
    "duration": 6,
    "start_time": "2022-12-11T22:48:18.289Z"
   },
   {
    "duration": 6,
    "start_time": "2022-12-11T22:48:18.297Z"
   },
   {
    "duration": 101,
    "start_time": "2022-12-11T22:48:18.356Z"
   },
   {
    "duration": 342,
    "start_time": "2022-12-11T22:48:18.458Z"
   },
   {
    "duration": 280,
    "start_time": "2022-12-11T22:48:18.801Z"
   },
   {
    "duration": 39,
    "start_time": "2022-12-11T22:48:19.083Z"
   },
   {
    "duration": 184,
    "start_time": "2022-12-11T22:48:19.124Z"
   },
   {
    "duration": 166,
    "start_time": "2022-12-11T22:48:19.310Z"
   },
   {
    "duration": 34,
    "start_time": "2022-12-11T22:48:19.478Z"
   },
   {
    "duration": 196,
    "start_time": "2022-12-11T22:48:19.514Z"
   },
   {
    "duration": 197,
    "start_time": "2022-12-11T22:48:19.712Z"
   },
   {
    "duration": 3,
    "start_time": "2022-12-11T22:48:19.911Z"
   },
   {
    "duration": 10,
    "start_time": "2022-12-11T22:48:19.916Z"
   },
   {
    "duration": 317,
    "start_time": "2022-12-11T22:48:19.928Z"
   },
   {
    "duration": 344,
    "start_time": "2022-12-11T22:48:20.247Z"
   },
   {
    "duration": 19,
    "start_time": "2022-12-11T22:48:20.593Z"
   },
   {
    "duration": 5,
    "start_time": "2022-12-11T22:48:20.613Z"
   },
   {
    "duration": 51,
    "start_time": "2022-12-11T22:48:20.619Z"
   },
   {
    "duration": 3,
    "start_time": "2022-12-11T22:48:20.672Z"
   },
   {
    "duration": 1475,
    "start_time": "2022-12-11T22:48:20.677Z"
   },
   {
    "duration": 294,
    "start_time": "2022-12-11T22:48:22.154Z"
   },
   {
    "duration": 40,
    "start_time": "2022-12-11T22:48:22.450Z"
   },
   {
    "duration": 228,
    "start_time": "2022-12-11T22:48:22.492Z"
   },
   {
    "duration": 173,
    "start_time": "2022-12-11T22:48:22.721Z"
   },
   {
    "duration": 21,
    "start_time": "2022-12-11T22:48:22.896Z"
   },
   {
    "duration": 197,
    "start_time": "2022-12-11T22:48:22.919Z"
   },
   {
    "duration": 15,
    "start_time": "2022-12-11T22:48:23.117Z"
   },
   {
    "duration": 33,
    "start_time": "2022-12-11T22:48:23.133Z"
   },
   {
    "duration": 4,
    "start_time": "2022-12-11T22:48:23.168Z"
   },
   {
    "duration": 58,
    "start_time": "2022-12-11T22:48:23.174Z"
   }
  ],
  "colab": {
   "provenance": []
  },
  "kernelspec": {
   "display_name": "Python 3 (ipykernel)",
   "language": "python",
   "name": "python3"
  },
  "language_info": {
   "codemirror_mode": {
    "name": "ipython",
    "version": 3
   },
   "file_extension": ".py",
   "mimetype": "text/x-python",
   "name": "python",
   "nbconvert_exporter": "python",
   "pygments_lexer": "ipython3",
   "version": "3.9.5"
  },
  "toc": {
   "base_numbering": 1,
   "nav_menu": {},
   "number_sections": true,
   "sideBar": true,
   "skip_h1_title": true,
   "title_cell": "Table of Contents",
   "title_sidebar": "Contents",
   "toc_cell": false,
   "toc_position": {},
   "toc_section_display": true,
   "toc_window_display": true
  }
 },
 "nbformat": 4,
 "nbformat_minor": 1
}
